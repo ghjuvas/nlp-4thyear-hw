{
  "nbformat": 4,
  "nbformat_minor": 0,
  "metadata": {
    "colab": {
      "provenance": []
    },
    "kernelspec": {
      "name": "python3",
      "display_name": "Python 3"
    },
    "language_info": {
      "name": "python"
    }
  },
  "cells": [
    {
      "cell_type": "markdown",
      "source": [
        "# Домашнее задание №2: NER и коллокации"
      ],
      "metadata": {
        "id": "Bmjc6LWVxpGe"
      }
    },
    {
      "cell_type": "markdown",
      "source": [
        "## Импорты"
      ],
      "metadata": {
        "id": "8kZE9X3CRwOY"
      }
    },
    {
      "cell_type": "code",
      "source": [
        "!pip3 install Wikipedia-API\n",
        "!pip3 install spacy\n",
        "!pip3 install nltk"
      ],
      "metadata": {
        "colab": {
          "base_uri": "https://localhost:8080/"
        },
        "id": "447UIsnSSLSx",
        "outputId": "2ad38ecc-3e32-4e11-c1fd-f0f86eed5927"
      },
      "execution_count": 1,
      "outputs": [
        {
          "output_type": "stream",
          "name": "stdout",
          "text": [
            "Looking in indexes: https://pypi.org/simple, https://us-python.pkg.dev/colab-wheels/public/simple/\n",
            "Requirement already satisfied: Wikipedia-API in /usr/local/lib/python3.8/dist-packages (0.5.8)\n",
            "Requirement already satisfied: requests in /usr/local/lib/python3.8/dist-packages (from Wikipedia-API) (2.23.0)\n",
            "Requirement already satisfied: urllib3!=1.25.0,!=1.25.1,<1.26,>=1.21.1 in /usr/local/lib/python3.8/dist-packages (from requests->Wikipedia-API) (1.24.3)\n",
            "Requirement already satisfied: idna<3,>=2.5 in /usr/local/lib/python3.8/dist-packages (from requests->Wikipedia-API) (2.10)\n",
            "Requirement already satisfied: chardet<4,>=3.0.2 in /usr/local/lib/python3.8/dist-packages (from requests->Wikipedia-API) (3.0.4)\n",
            "Requirement already satisfied: certifi>=2017.4.17 in /usr/local/lib/python3.8/dist-packages (from requests->Wikipedia-API) (2022.12.7)\n",
            "Looking in indexes: https://pypi.org/simple, https://us-python.pkg.dev/colab-wheels/public/simple/\n",
            "Requirement already satisfied: spacy in /usr/local/lib/python3.8/dist-packages (3.4.4)\n",
            "Requirement already satisfied: smart-open<7.0.0,>=5.2.1 in /usr/local/lib/python3.8/dist-packages (from spacy) (6.3.0)\n",
            "Requirement already satisfied: jinja2 in /usr/local/lib/python3.8/dist-packages (from spacy) (2.11.3)\n",
            "Requirement already satisfied: pydantic!=1.8,!=1.8.1,<1.11.0,>=1.7.4 in /usr/local/lib/python3.8/dist-packages (from spacy) (1.10.2)\n",
            "Requirement already satisfied: numpy>=1.15.0 in /usr/local/lib/python3.8/dist-packages (from spacy) (1.21.6)\n",
            "Requirement already satisfied: wasabi<1.1.0,>=0.9.1 in /usr/local/lib/python3.8/dist-packages (from spacy) (0.10.1)\n",
            "Requirement already satisfied: requests<3.0.0,>=2.13.0 in /usr/local/lib/python3.8/dist-packages (from spacy) (2.23.0)\n",
            "Requirement already satisfied: spacy-loggers<2.0.0,>=1.0.0 in /usr/local/lib/python3.8/dist-packages (from spacy) (1.0.4)\n",
            "Requirement already satisfied: pathy>=0.3.5 in /usr/local/lib/python3.8/dist-packages (from spacy) (0.10.1)\n",
            "Requirement already satisfied: tqdm<5.0.0,>=4.38.0 in /usr/local/lib/python3.8/dist-packages (from spacy) (4.64.1)\n",
            "Requirement already satisfied: preshed<3.1.0,>=3.0.2 in /usr/local/lib/python3.8/dist-packages (from spacy) (3.0.8)\n",
            "Requirement already satisfied: thinc<8.2.0,>=8.1.0 in /usr/local/lib/python3.8/dist-packages (from spacy) (8.1.5)\n",
            "Requirement already satisfied: packaging>=20.0 in /usr/local/lib/python3.8/dist-packages (from spacy) (21.3)\n",
            "Requirement already satisfied: murmurhash<1.1.0,>=0.28.0 in /usr/local/lib/python3.8/dist-packages (from spacy) (1.0.9)\n",
            "Requirement already satisfied: setuptools in /usr/local/lib/python3.8/dist-packages (from spacy) (57.4.0)\n",
            "Requirement already satisfied: srsly<3.0.0,>=2.4.3 in /usr/local/lib/python3.8/dist-packages (from spacy) (2.4.5)\n",
            "Requirement already satisfied: typer<0.8.0,>=0.3.0 in /usr/local/lib/python3.8/dist-packages (from spacy) (0.7.0)\n",
            "Requirement already satisfied: langcodes<4.0.0,>=3.2.0 in /usr/local/lib/python3.8/dist-packages (from spacy) (3.3.0)\n",
            "Requirement already satisfied: cymem<2.1.0,>=2.0.2 in /usr/local/lib/python3.8/dist-packages (from spacy) (2.0.7)\n",
            "Requirement already satisfied: spacy-legacy<3.1.0,>=3.0.10 in /usr/local/lib/python3.8/dist-packages (from spacy) (3.0.10)\n",
            "Requirement already satisfied: catalogue<2.1.0,>=2.0.6 in /usr/local/lib/python3.8/dist-packages (from spacy) (2.0.8)\n",
            "Requirement already satisfied: pyparsing!=3.0.5,>=2.0.2 in /usr/local/lib/python3.8/dist-packages (from packaging>=20.0->spacy) (3.0.9)\n",
            "Requirement already satisfied: typing-extensions>=4.1.0 in /usr/local/lib/python3.8/dist-packages (from pydantic!=1.8,!=1.8.1,<1.11.0,>=1.7.4->spacy) (4.4.0)\n",
            "Requirement already satisfied: chardet<4,>=3.0.2 in /usr/local/lib/python3.8/dist-packages (from requests<3.0.0,>=2.13.0->spacy) (3.0.4)\n",
            "Requirement already satisfied: idna<3,>=2.5 in /usr/local/lib/python3.8/dist-packages (from requests<3.0.0,>=2.13.0->spacy) (2.10)\n",
            "Requirement already satisfied: urllib3!=1.25.0,!=1.25.1,<1.26,>=1.21.1 in /usr/local/lib/python3.8/dist-packages (from requests<3.0.0,>=2.13.0->spacy) (1.24.3)\n",
            "Requirement already satisfied: certifi>=2017.4.17 in /usr/local/lib/python3.8/dist-packages (from requests<3.0.0,>=2.13.0->spacy) (2022.12.7)\n",
            "Requirement already satisfied: confection<1.0.0,>=0.0.1 in /usr/local/lib/python3.8/dist-packages (from thinc<8.2.0,>=8.1.0->spacy) (0.0.3)\n",
            "Requirement already satisfied: blis<0.8.0,>=0.7.8 in /usr/local/lib/python3.8/dist-packages (from thinc<8.2.0,>=8.1.0->spacy) (0.7.9)\n",
            "Requirement already satisfied: click<9.0.0,>=7.1.1 in /usr/local/lib/python3.8/dist-packages (from typer<0.8.0,>=0.3.0->spacy) (7.1.2)\n",
            "Requirement already satisfied: MarkupSafe>=0.23 in /usr/local/lib/python3.8/dist-packages (from jinja2->spacy) (2.0.1)\n",
            "Looking in indexes: https://pypi.org/simple, https://us-python.pkg.dev/colab-wheels/public/simple/\n",
            "Requirement already satisfied: nltk in /usr/local/lib/python3.8/dist-packages (3.7)\n",
            "Requirement already satisfied: tqdm in /usr/local/lib/python3.8/dist-packages (from nltk) (4.64.1)\n",
            "Requirement already satisfied: joblib in /usr/local/lib/python3.8/dist-packages (from nltk) (1.2.0)\n",
            "Requirement already satisfied: click in /usr/local/lib/python3.8/dist-packages (from nltk) (7.1.2)\n",
            "Requirement already satisfied: regex>=2021.8.3 in /usr/local/lib/python3.8/dist-packages (from nltk) (2022.6.2)\n"
          ]
        }
      ]
    },
    {
      "cell_type": "code",
      "source": [
        "from collections import defaultdict\n",
        "from string import punctuation\n",
        "import re\n",
        "import gzip\n",
        "import gensim\n",
        "from gensim.models import Phrases\n",
        "import json\n",
        "import wikipediaapi\n",
        "import spacy\n",
        "import nltk\n",
        "import numpy as np\n",
        "from sklearn.metrics.pairwise import cosine_similarity\n",
        "import tqdm\n",
        "\n",
        "nltk.download('popular')"
      ],
      "metadata": {
        "colab": {
          "base_uri": "https://localhost:8080/"
        },
        "id": "9enW-sY0RvVS",
        "outputId": "e2b3ab08-2d51-4587-c8c8-aa1b5e4f3fb9"
      },
      "execution_count": 2,
      "outputs": [
        {
          "output_type": "stream",
          "name": "stderr",
          "text": [
            "/usr/local/lib/python3.8/dist-packages/torch/cuda/__init__.py:497: UserWarning: Can't initialize NVML\n",
            "  warnings.warn(\"Can't initialize NVML\")\n",
            "[nltk_data] Downloading collection 'popular'\n",
            "[nltk_data]    | \n",
            "[nltk_data]    | Downloading package cmudict to /root/nltk_data...\n",
            "[nltk_data]    |   Package cmudict is already up-to-date!\n",
            "[nltk_data]    | Downloading package gazetteers to /root/nltk_data...\n",
            "[nltk_data]    |   Package gazetteers is already up-to-date!\n",
            "[nltk_data]    | Downloading package genesis to /root/nltk_data...\n",
            "[nltk_data]    |   Package genesis is already up-to-date!\n",
            "[nltk_data]    | Downloading package gutenberg to /root/nltk_data...\n",
            "[nltk_data]    |   Package gutenberg is already up-to-date!\n",
            "[nltk_data]    | Downloading package inaugural to /root/nltk_data...\n",
            "[nltk_data]    |   Package inaugural is already up-to-date!\n",
            "[nltk_data]    | Downloading package movie_reviews to\n",
            "[nltk_data]    |     /root/nltk_data...\n",
            "[nltk_data]    |   Package movie_reviews is already up-to-date!\n",
            "[nltk_data]    | Downloading package names to /root/nltk_data...\n",
            "[nltk_data]    |   Package names is already up-to-date!\n",
            "[nltk_data]    | Downloading package shakespeare to /root/nltk_data...\n",
            "[nltk_data]    |   Package shakespeare is already up-to-date!\n",
            "[nltk_data]    | Downloading package stopwords to /root/nltk_data...\n",
            "[nltk_data]    |   Package stopwords is already up-to-date!\n",
            "[nltk_data]    | Downloading package treebank to /root/nltk_data...\n",
            "[nltk_data]    |   Package treebank is already up-to-date!\n",
            "[nltk_data]    | Downloading package twitter_samples to\n",
            "[nltk_data]    |     /root/nltk_data...\n",
            "[nltk_data]    |   Package twitter_samples is already up-to-date!\n",
            "[nltk_data]    | Downloading package omw to /root/nltk_data...\n",
            "[nltk_data]    |   Package omw is already up-to-date!\n",
            "[nltk_data]    | Downloading package omw-1.4 to /root/nltk_data...\n",
            "[nltk_data]    |   Package omw-1.4 is already up-to-date!\n",
            "[nltk_data]    | Downloading package wordnet to /root/nltk_data...\n",
            "[nltk_data]    |   Package wordnet is already up-to-date!\n",
            "[nltk_data]    | Downloading package wordnet2021 to /root/nltk_data...\n",
            "[nltk_data]    |   Package wordnet2021 is already up-to-date!\n",
            "[nltk_data]    | Downloading package wordnet31 to /root/nltk_data...\n",
            "[nltk_data]    |   Package wordnet31 is already up-to-date!\n",
            "[nltk_data]    | Downloading package wordnet_ic to /root/nltk_data...\n",
            "[nltk_data]    |   Package wordnet_ic is already up-to-date!\n",
            "[nltk_data]    | Downloading package words to /root/nltk_data...\n",
            "[nltk_data]    |   Package words is already up-to-date!\n",
            "[nltk_data]    | Downloading package maxent_ne_chunker to\n",
            "[nltk_data]    |     /root/nltk_data...\n",
            "[nltk_data]    |   Package maxent_ne_chunker is already up-to-date!\n",
            "[nltk_data]    | Downloading package punkt to /root/nltk_data...\n",
            "[nltk_data]    |   Package punkt is already up-to-date!\n",
            "[nltk_data]    | Downloading package snowball_data to\n",
            "[nltk_data]    |     /root/nltk_data...\n",
            "[nltk_data]    |   Package snowball_data is already up-to-date!\n",
            "[nltk_data]    | Downloading package averaged_perceptron_tagger to\n",
            "[nltk_data]    |     /root/nltk_data...\n",
            "[nltk_data]    |   Package averaged_perceptron_tagger is already up-\n",
            "[nltk_data]    |       to-date!\n",
            "[nltk_data]    | \n",
            "[nltk_data]  Done downloading collection popular\n"
          ]
        },
        {
          "output_type": "execute_result",
          "data": {
            "text/plain": [
              "True"
            ]
          },
          "metadata": {},
          "execution_count": 2
        }
      ]
    },
    {
      "cell_type": "code",
      "source": [
        "from nltk.corpus import wordnet as wn\n",
        "from nltk.corpus import stopwords\n",
        "from nltk.tokenize import sent_tokenize, word_tokenize"
      ],
      "metadata": {
        "id": "g7b5kpUjNqtf"
      },
      "execution_count": 3,
      "outputs": []
    },
    {
      "cell_type": "markdown",
      "source": [
        "## Данные"
      ],
      "metadata": {
        "id": "LVJ_0dAcxs-N"
      }
    },
    {
      "cell_type": "code",
      "execution_count": null,
      "metadata": {
        "colab": {
          "base_uri": "https://localhost:8080/"
        },
        "id": "0tRgxw1uxjxZ",
        "outputId": "936f3bf9-9cac-45c6-d560-b901609c4245"
      },
      "outputs": [
        {
          "output_type": "stream",
          "name": "stdout",
          "text": [
            "--2022-12-16 23:40:48--  https://jmcauley.ucsd.edu/data/amazon_v2/categoryFilesSmall/Musical_Instruments_5.json.gz/\n",
            "Resolving jmcauley.ucsd.edu (jmcauley.ucsd.edu)... 137.110.160.73\n",
            "Connecting to jmcauley.ucsd.edu (jmcauley.ucsd.edu)|137.110.160.73|:443... connected.\n",
            "ERROR: cannot verify jmcauley.ucsd.edu's certificate, issued by ‘CN=InCommon RSA Server CA,OU=InCommon,O=Internet2,L=Ann Arbor,ST=MI,C=US’:\n",
            "  Unable to locally verify the issuer's authority.\n",
            "To connect to jmcauley.ucsd.edu insecurely, use `--no-check-certificate'.\n"
          ]
        }
      ],
      "source": [
        "# !wget https://jmcauley.ucsd.edu/data/amazon_v2/categoryFilesSmall/Musical_Instruments_5.json.gz/"
      ]
    },
    {
      "cell_type": "code",
      "source": [
        "def parse(path):\n",
        "    g = gzip.open(path, 'rb')\n",
        "    for l in g:\n",
        "        rev = json.loads(l)\n",
        "        rev_text = rev['reviewText']\n",
        "        yield rev_text"
      ],
      "metadata": {
        "id": "Og4YvJbrx46O"
      },
      "execution_count": null,
      "outputs": []
    },
    {
      "cell_type": "code",
      "source": [
        "rev_gen = parse('Musical_Instruments_5.json.gz')"
      ],
      "metadata": {
        "id": "jbMjq8ZD0FrO"
      },
      "execution_count": null,
      "outputs": []
    },
    {
      "cell_type": "code",
      "source": [
        "for i in range(10):\n",
        "    print('Review', i)\n",
        "    print(next(rev_gen))\n",
        "    print('\\n\\n')"
      ],
      "metadata": {
        "colab": {
          "base_uri": "https://localhost:8080/"
        },
        "id": "26I6-U-K5Z9S",
        "outputId": "34436be4-6303-4b28-d3c8-4f2c7fc42f3f"
      },
      "execution_count": null,
      "outputs": [
        {
          "output_type": "stream",
          "name": "stdout",
          "text": [
            "Review 0\n",
            "It's good for beginners\n",
            "\n",
            "\n",
            "\n",
            "Review 1\n",
            "I recommend this starter Ukulele kit.  I has everything you\n",
            "need to learn the Ukulele.\n",
            "\n",
            "\n",
            "\n",
            "Review 2\n",
            "G'daughter received this for Christmas present last year and plays if often.\n",
            "\n",
            "\n",
            "\n",
            "Review 3\n",
            "According to my order history, I bought this this kit towards the end of 2012 as a Black Friday Week Lightning Deal. I'm writing this nearly four years later.\n",
            "\n",
            "As with any stringed instrument, the strings really needed to stretch out before they would stay in tune. So, for the first several days, it was play a few minutes, tune, play a few minutes, tune. Then it was tuning daily. After a few weeks of this, the uke held a tune great. A tuner is not included in the package, which is the bulk of the minus star because a real beginner wouldn't have a way to tune the thing. (You need either a tuner or a reference note, say, on a piano or keyboard.) You can download a decent tuner app, though, for a buck or so. Do it, because you're going to need it a lot for the first couple of weeks.\n",
            "\n",
            "The \"Firebrand\" ukulele is a laminated instrument of unknown wood. It's kind of dead-sounding. But then, soprano ukes generally sound a bit flattish to me - it's part of their distinctive character. The finish, while smooth, is spotty, and the decal around the sound hole has bubbles. But the fretboard is just barely adequately finished, with frets that are nicely flush with the edge of the neck so the feel is smooth - and has stayed smooth despite temperature changes. The beveled fret edges are filed, but not especially polished; even so, there's nothing to snag or catch. Fret dots are inset (one quite deeply) into the fingerboard and also painted on the upper edge of the neck, a nice touch. The action on mine is okay, at least down near the headstock where the starter chords live. The tuners are a triumph of cost-engineering: stamped metal with solid gears, so they're a definite step up from simple peg tuners. They make fine adjustments quite smoothly, and hold well over time. The bridge is slotted, so when you re-string you don't have to mess with that weird knot, just knot the end.\n",
            "\n",
            "I visited a specialty ukulele shop yesterday thinking of upgrading, and played with budget beginner soprano ukes costing three times what I paid for this whole set, and to me they played about the same and most even sounded the same; a few were a bit louder. They were all, however, finished to a much higher standard. I left empty-handed, but will probably get a better uke sometime soon. They're fun!\n",
            "\n",
            "The bag is lightly made, unpadded, and has a fixed-length strap for carrying. It offered no advantage over just grabbing the uke to carry it, while adding the considerable disadvantage of needing to unpack it to play. It promptly went into the giveaway pile.\n",
            "\n",
            "We haven't watched the DVDs, because the book has been great. It starts with C7 and F, and then adds C and G7, then G and D7. So it's not the C Am F G combo very common on YouTube. The songs are American folk traditionals, so if you've been around a campfire where any singing was involved, you've probably heard them before. There are lots of good instructions available online, including videos, so, really, the book is just a kick-starter to get you going. It's a pretty good book, with a reference section at the back with more chord diagrams than you're likely to need.\n",
            "\n",
            "In all, it's an acceptable inexpensive starter set, not worth the \"list price\" but an OK value at Amazon's discounted price and a bargain at the Gold Box/Lightning Deal price.\n",
            "\n",
            "UPDATE: I changed the strings to the Aquila Nylgut AQ-4 set. Yeah, they're $10 strings on a $15 instrument, but the improvement in sound is just huge. I also polished the frets and fingerboard with a \"magic eraser\"-like product (an ultra-fine abrasive), shined up the body, and filed down the plastic saddle (which simply pops out of the bridge) to lower the action. It plays and sounds much better now, although the intonation remains sharp on several notes if you go note-for-note up the frets.\n",
            "\n",
            "UPDATE #2: OK, after going through the book I binge-watched the DVD. It consists of two segments of about 33 minutes each, each segment subdivided into easy-to-locate chapters that follow the pages of the book. It's really very good! The \"instructor\" (and remember, I bought this four years ago so this may have changed) was musician Julia Jordan. Production values were good, and the multi-angle views of playing were helpful, as were all the play-along segments. Minor quibbles: Jordan played a larger ukulele than the one in the pack, so you can't hold it in the exact same way. And it seemed like the songs were keyed to a higher register than her natural speaking/singing voice (you can hear her singing her own songs on a special feature and she's very pleasant to listen to).\n",
            "\n",
            "UPDATE #3: I now own a couple better ukuleles, have been a member of a ukulele meetup, and play a little almost every day. I can tell the difference between any of my better ukes and this one by both feel and ear. Still, it's a totally useable instrument, and it got me started on an enjoyable little musical hobby. Just remember to download a tuner app and maybe a metronome app and you're good to go.\n",
            "\n",
            "\n",
            "\n",
            "Review 4\n",
            "Please pay attention better than I did to the reviews! This a very poor quality product. Will not stay in tune! If by chance you do order buy some better strings. The lesson booK is ok but that's about it. Do you self a favor and spend a little more. You will be glad you did!\n",
            "\n",
            "\n",
            "\n",
            "Review 5\n",
            "I purchased this as a gift for a friend who really wanted to learn. Its a neat little set and he adores it. However I am giving it four stars because the box was smashed in really good when I received the package. The big brown package box was just fine meaning that the product box the instrument came in was damaged before it was shipped. Luckily everything inside was just fine and not broken but the company should take better care when it comes to shipping damaged items.\n",
            "\n",
            "\n",
            "\n",
            "Review 6\n",
            "thanx, b\n",
            "\n",
            "\n",
            "\n",
            "Review 7\n",
            "Good cheap ukulele; got what I ordered.\n",
            "\n",
            "\n",
            "\n",
            "Review 8\n",
            "My grandson is very happy with his new uke!\n",
            "\n",
            "\n",
            "\n",
            "Review 9\n",
            "Good basic guide.\n",
            "\n",
            "\n",
            "\n"
          ]
        }
      ]
    },
    {
      "cell_type": "markdown",
      "source": [
        "Если рассмотреть несколько текстов отзывов, то становится понятно, что сам продукт вообще редко упоминают. Либо продукт заменяется местоимением, либо он упоминается где-то в сравнениях, либо с тональной характеристикой."
      ],
      "metadata": {
        "id": "1pjKEG7kdBg1"
      }
    },
    {
      "cell_type": "markdown",
      "source": [
        "С точки зрения технической реализации есть следующие проблемы:\n",
        "* Допустим, мы собрали словарь терминов, которые хотим выделять из текстов. Каким образом мы должны определить, какие из этих слов релевантнты конкретному тексту? Возможно, это придётся делать с помощью частотности или другой метрике релевантности слова тексту (статистика, косинусная близость с текстом)\n",
        "* Названия продуктов часто не связаны с самими продуктами (например, *Chord Buddy* -- это гитара; хотя конечно *chord* что-то и рассказывает о музыке)"
      ],
      "metadata": {
        "id": "9GcXBX4NWcHV"
      }
    },
    {
      "cell_type": "markdown",
      "source": [
        "## О методах"
      ],
      "metadata": {
        "id": "U6Hx0mVd1X-M"
      }
    },
    {
      "cell_type": "markdown",
      "source": [
        "### Написание правил"
      ],
      "metadata": {
        "id": "MSleeQtxrEms"
      }
    },
    {
      "cell_type": "markdown",
      "source": [
        "Так как у нас комплексная задача (найти именованные сущности + продукты), то кандидатов на роль именованных сущностей можно собирать двумя способами:\n",
        "* Для именованных сущностей, то есть названий модели гитары, например, часто действует правило нескольких подряд токенов с заглавной буквы. При этом скорее всего во всём остальном тексте по такому же правилу будут определяться модели, с которыми аспект в отзыв сравнивается, либо если мы говорим конкретно про музыкальную область, то это будут имена исполнителей, которые играли на похожих инструментах и т.д. Кроме того иногда у моделей есть цифра в названии. Для такого рода правил можно использовать регулярные выражения или внутренние методы питона.\n",
        "* Для выделения аспектов можно использовать синтаксические шаблоны, например, ими могут быть существительное или несколько подряд существительных, прилагательное + существительное, а также несколько существительных и цифра, а также некоторые парсеры умеют распознавать имена собственные (интересно, будет ли это работать для NE?). К такому роду правил можно прикрутить и проверку морфологии в том числе, например наличие генитива у следующего существительного (хотя скорее всего, в нашем задании такое правило не понадобится). Чтобы достать такие коллокации, нужно сделать морфосинтаксический парсинг и взять нужные н-граммы. Или взять RegExpTokenizer от `nltk`, написать ему грамматику, и вывести нужные коллокации."
      ],
      "metadata": {
        "id": "jxwP6NMjt3hM"
      }
    },
    {
      "cell_type": "markdown",
      "source": [
        "__Достоинства__:\n",
        "* Понятные методы\n",
        "* Много чего выделится\n",
        "\n",
        "__Недостатки__:\n",
        "* Долго писать правила\n",
        "* Можно описать не все правила\n",
        "* Даже если опишем правила для синтаксиса, непонятно, хорошо ли будет выполнен сам морфосинтаксический парсинг\n",
        "* RegExp токенизатор не умеет выделять накладывающиеся коллокации\n",
        "* В принципе не так много решений, позволяющих писать правила для английского? Yargy не позволит сделать синтаксис, так как работает на OpenCorpora; Natasha тоже для русского. Правила будут слишком конкретными, что затруднит их написание. В основном всё на более сложных структурах написано (об этом ниже)\n"
      ],
      "metadata": {
        "id": "LUZr9OOv1CjN"
      }
    },
    {
      "cell_type": "markdown",
      "source": [
        "### Извлечение ключевых слов и коллокаций\n",
        "На самом деле, товары в данном случае можно определить как ключевые слова текстов, так как они являются темами отзывов. В этом случае можно использовать следующие техники нахождения ключевых слов:\n",
        "* Частотность\n",
        "* Метрики: TF-IDF, Okapi BM25\n",
        "* Статистические метрики: Хи-квадрат, log-likelihood ratio, weirdness\n",
        "* Меры ассоциации: pmi, t-критерий Стьюдента и др. через `nltk.collocations`\n"
      ],
      "metadata": {
        "id": "kvfjsGaS2ZiY"
      }
    },
    {
      "cell_type": "markdown",
      "source": [
        "Во всех этих случаях можно пробовать использовать предварительное выделение кандидатов (грамматика, синтаксис, просто убрать стоп-слова). После выделения кандидатов можно применить порог для определения самых важных слов и коллокаций."
      ],
      "metadata": {
        "id": "BkKW_uZmv6X6"
      }
    },
    {
      "cell_type": "markdown",
      "source": [
        "__Достоинства__:\n",
        "* Много чего выделится через частотность и через метрики, которые основаны на частоте\n",
        "* Статистические методы основаны на важности и совместной встречаемости слов, что позволит выделить самые релевантные вещи, а не всё подряд\n",
        "* `nltk.collocations` удобно выделяет и кандидатов, и метрики считает, можно выбирать сразу столько кандидатов, сколько необходимо\n",
        "\n",
        "__Недостатки__:\n",
        "* Без предварительного выделения кандидатов даже в самые важные попадёт всё, что угодно\n",
        "* Нужно искать порог для определения самых важных штук, потому что может попадаться мусор\n",
        "* Нужна лемматизация (и возможно морфосинтаксический парсинг)"
      ],
      "metadata": {
        "id": "JnmSSICVAa6C"
      }
    },
    {
      "cell_type": "markdown",
      "source": [
        "### Тезаурусы\n",
        "В извлечении ключевых слов в какой-то области могут помочь базы знаний и тезаурусы. В отличие от всех остальных способов, здесь понадобится доступ к базе знаний, если для неё нет питоновской оболочки."
      ],
      "metadata": {
        "id": "aGm4qzigHiaj"
      }
    },
    {
      "cell_type": "markdown",
      "source": [
        "Какие базы знаний можно использовать?\n",
        "* Википедия\n",
        "* WordNet"
      ],
      "metadata": {
        "id": "-8fNNy8rLg9M"
      }
    },
    {
      "cell_type": "markdown",
      "source": [
        "Как это работает? Так как мы уже знаем с какой областью работаем, то ключевые слова и родственные им можно найти в базе знаний.\n",
        "1. С помощью WordNet можно найти все гипонимы к музыкальным инструментам или похожим категориям -- это будут ключевые слова, которые можно использовать для поиска в текстах\n",
        "2. Википедия может быть использована и для выделения ключевых слов, и для выделения сущностей, так как кроме базы понятий, она содержит знания о конкретных моделях -- их точно так же можно использовать для поиска по текстам"
      ],
      "metadata": {
        "id": "idcIsNiBK-Fo"
      }
    },
    {
      "cell_type": "markdown",
      "source": [
        "__Достоинства__:\n",
        "* Без мусора, только релевантное\n",
        "* Не нужно выделять предварительно кандидатов\n",
        "\n",
        "__Недостатки__:\n",
        "* Не факт, что Википедия знает обо всех конкретных моделях, тогда их нужно каким-то образом добирать (например, с помощью тех же самых правил или метаинформации о товарах)\n",
        "* Могут быть проблемы и с абстрактными синонимами тоже (модель, инструмент и т.д.). Здесь возможное решение состоит в том, чтобы из собранных сущностей повыделять части (*музыкальный инструмент* -> *инструмент*)\n",
        "* Нужна лемматизация"
      ],
      "metadata": {
        "id": "GVXnrpz2SVUm"
      }
    },
    {
      "cell_type": "markdown",
      "source": [
        "Помогут ли для расширения эмбеддинги? Возможно, но я не уверена. Это будет необходимо только если база знаний достаточно маленькая. В остальных случаях скорее всего будет добавляться мусор, но надо пробовать."
      ],
      "metadata": {
        "id": "sjPyn5NSZFOq"
      }
    },
    {
      "cell_type": "markdown",
      "source": [
        "(Считаю тезаурусы в такой момент каким-то читерством)"
      ],
      "metadata": {
        "id": "R-k3urAJV7rv"
      }
    },
    {
      "cell_type": "markdown",
      "source": [
        "### Использование готовых библиотек\n",
        "Для NER и выделения ключевых слов существует несколько готовых библиотек с уже реализованными алгоритмами:\n",
        "* NER: `spaCy`\n",
        "* KE: `summa`, `RAKE`, `KeyBERT`, `PKE`"
      ],
      "metadata": {
        "id": "SnaNaJIL3k49"
      }
    },
    {
      "cell_type": "markdown",
      "source": [
        "В их основе лежат различные алгоритмы выделения ключевых слов. Например, `summa` основана на TextRank, `KeyBERT`, как понятно из названия, работает на эмбеддингах."
      ],
      "metadata": {
        "id": "qGAZEaUkJMcD"
      }
    },
    {
      "cell_type": "markdown",
      "source": [
        "Для нашей задачи эти решения, по всей видимости, придётся комбинировать."
      ],
      "metadata": {
        "id": "UcSv9uIhJmle"
      }
    },
    {
      "cell_type": "markdown",
      "source": [
        "__Достоинства__:\n",
        "* Всё реализовано за нас\n",
        "* В принципе хорошо работают\n",
        "* spaCy можно обучать на своих данных\n",
        "\n",
        "__Недостатки__:\n",
        "* Неинтересно, потому что не надо ничего писать самим\n",
        "* Неидеально"
      ],
      "metadata": {
        "id": "VDgRzfKmwSDN"
      }
    },
    {
      "cell_type": "markdown",
      "source": [
        "## Собираем словарь\n",
        "Будем использовать метод с базами знаний: используем API википедии и WordNet, чтобы достать релевантные слова и коллокации, а затем расширим."
      ],
      "metadata": {
        "id": "ALQt1dh2QxJX"
      }
    },
    {
      "cell_type": "markdown",
      "source": [
        "* Википедия"
      ],
      "metadata": {
        "id": "GT89JK19Yqfy"
      }
    },
    {
      "cell_type": "code",
      "source": [
        "wiki_wiki = wikipediaapi.Wikipedia('en')"
      ],
      "metadata": {
        "id": "xp-VgL0JYsLU"
      },
      "execution_count": null,
      "outputs": []
    },
    {
      "cell_type": "code",
      "source": [
        "cat = wiki_wiki.page('List_of_musical_instruments')"
      ],
      "metadata": {
        "id": "NgQfk23_-eof"
      },
      "execution_count": null,
      "outputs": []
    },
    {
      "cell_type": "code",
      "source": [
        "list(cat.links)"
      ],
      "metadata": {
        "colab": {
          "base_uri": "https://localhost:8080/"
        },
        "id": "9H0wNYmYDnqf",
        "outputId": "68f8d41b-3e89-4a5b-c0f4-19a806e23ba4"
      },
      "execution_count": null,
      "outputs": [
        {
          "output_type": "execute_result",
          "data": {
            "text/plain": [
              "['20th-century classical music',\n",
              " '21st-century classical music',\n",
              " 'A-flat clarinet',\n",
              " 'A-side and B-side',\n",
              " 'Accordina (instrument)',\n",
              " 'Accordion',\n",
              " 'Accordola',\n",
              " 'Acoustic-electric guitar',\n",
              " 'Acoustic bass guitar',\n",
              " 'Acoustic guitar',\n",
              " 'Adungu',\n",
              " 'Aeolian harp',\n",
              " 'Aesthetics of music',\n",
              " 'Afoxé',\n",
              " 'Agida',\n",
              " 'Agogô',\n",
              " 'Agung',\n",
              " 'Air horn',\n",
              " 'Ajaeng',\n",
              " 'Akkordolia',\n",
              " 'Alboka',\n",
              " 'Album',\n",
              " 'Album era',\n",
              " 'Alfaia',\n",
              " 'Algaita',\n",
              " 'Algerian mandole',\n",
              " 'All-female band',\n",
              " 'Almpfeiferl',\n",
              " 'AlphaSphere (instrument)',\n",
              " 'Alphorn',\n",
              " 'Alternative rock',\n",
              " 'Alto clarinet',\n",
              " 'Alto flute',\n",
              " 'Alto horn',\n",
              " 'Alto sarrusophone',\n",
              " 'Alto saxophone',\n",
              " 'Alto trombone',\n",
              " 'Ancient Tamil music',\n",
              " 'Ancient music',\n",
              " 'Andalusi classical music',\n",
              " 'Angklung',\n",
              " 'Angélique (instrument)',\n",
              " 'Apinti',\n",
              " 'Appalachian dulcimer',\n",
              " 'Arabic music',\n",
              " 'Arbajo',\n",
              " 'Archlute',\n",
              " 'Archtop guitar',\n",
              " 'Arghul',\n",
              " 'Arobapá',\n",
              " 'Arpeggione',\n",
              " 'Art music',\n",
              " 'Asadullah (instrument)',\n",
              " 'Ashiko',\n",
              " 'Atabaque',\n",
              " 'Atenteben',\n",
              " 'Audio engineer',\n",
              " 'Audiocubes',\n",
              " 'Aulochrome',\n",
              " 'Aulos',\n",
              " 'Autoharp',\n",
              " 'Aztec Death Whistle',\n",
              " 'Babendil',\n",
              " 'Baboula',\n",
              " 'Bachelor of Music',\n",
              " 'Backing vocalist',\n",
              " 'Backup band',\n",
              " 'Bagpipe',\n",
              " 'Bahian guitar',\n",
              " 'Bajo sexto',\n",
              " 'Bak (instrument)',\n",
              " 'Balaban (instrument)',\n",
              " 'Balafon',\n",
              " 'Balalaika',\n",
              " 'Balkan music',\n",
              " 'Balsié',\n",
              " 'Bamboula',\n",
              " 'Bamileke',\n",
              " 'Band (rock and pop)',\n",
              " 'Bandola',\n",
              " 'Bandolin',\n",
              " 'Bandolón',\n",
              " 'Bandoneón',\n",
              " 'Bandora (instrument)',\n",
              " 'Bandura',\n",
              " 'Bandurria',\n",
              " 'Banhu',\n",
              " 'Banjo',\n",
              " 'Banjo uke',\n",
              " 'Bansuri',\n",
              " 'Bara (drum)',\n",
              " 'Barbat (lute)',\n",
              " 'Baritone',\n",
              " 'Baritone guitar',\n",
              " 'Baritone horn',\n",
              " 'Baritone sarrusophone',\n",
              " 'Baritone saxophone',\n",
              " 'Baroque guitar',\n",
              " 'Baroque music',\n",
              " 'Baroque trumpet',\n",
              " 'Baroque violin',\n",
              " 'Barrel drum',\n",
              " 'Baryton',\n",
              " 'Bass banjo',\n",
              " 'Bass clarinet',\n",
              " 'Bass drum',\n",
              " 'Bass flute',\n",
              " 'Bass guitar',\n",
              " 'Bass oboe',\n",
              " 'Bass pedals',\n",
              " 'Bass sarrusophone',\n",
              " 'Bass saxophone',\n",
              " 'Bass trombone',\n",
              " 'Bass trumpet',\n",
              " 'Bass violin',\n",
              " 'Basset clarinet',\n",
              " 'Basset horn',\n",
              " 'Bassoon',\n",
              " 'Batá drum',\n",
              " 'Bawu',\n",
              " 'Bayan (accordion)',\n",
              " 'Bazooka (instrument)',\n",
              " 'Bağlama',\n",
              " 'Beatboxing',\n",
              " 'Bedug',\n",
              " 'Berimbau',\n",
              " 'Bifora',\n",
              " 'Big band',\n",
              " 'Biomusicology',\n",
              " 'Bipa',\n",
              " 'Birbynė',\n",
              " 'Biwa',\n",
              " 'Blown bottle',\n",
              " 'Bluegrass mandolin',\n",
              " 'Blues',\n",
              " 'Blues harp',\n",
              " 'Blul',\n",
              " 'Bodhrán',\n",
              " 'Bombard (music)',\n",
              " 'Bongo drums',\n",
              " 'Boobam',\n",
              " 'Boomwhacker',\n",
              " 'Bordonua',\n",
              " 'Bouzouki',\n",
              " 'Brahms guitar',\n",
              " 'Brass instrument',\n",
              " 'Buccina',\n",
              " 'Bugle (instrument)',\n",
              " 'Bullroarer (music)',\n",
              " 'Button accordion',\n",
              " 'Buzuq',\n",
              " 'Byzantine lyra',\n",
              " 'Byzantine music',\n",
              " 'C Soprano saxophone',\n",
              " 'C melody saxophone',\n",
              " 'Cabasa',\n",
              " 'Cajun accordion',\n",
              " 'Cajón',\n",
              " 'Calliope (music)',\n",
              " 'Candombe drums',\n",
              " 'Carillon',\n",
              " 'Carimba',\n",
              " 'Carnatic music',\n",
              " 'Castanets',\n",
              " 'Castrato',\n",
              " 'Cavaquinho',\n",
              " 'Caxirola',\n",
              " 'Caxixi',\n",
              " 'Celesta',\n",
              " 'Cello',\n",
              " 'Cello da spalla',\n",
              " 'Chalumeau',\n",
              " 'Chapman stick',\n",
              " 'Charango',\n",
              " 'Chemnitzer concertina',\n",
              " 'Chenda',\n",
              " 'Chillador',\n",
              " 'Chinese traditional music',\n",
              " 'Chitarra Italiana',\n",
              " 'Chitarra battente',\n",
              " 'Choghur',\n",
              " 'Choir',\n",
              " 'Chromatic button accordion',\n",
              " 'Chromatic harmonica',\n",
              " 'Chácaras',\n",
              " 'Cigar box guitar',\n",
              " 'Cimbalom',\n",
              " 'Cimbasso',\n",
              " 'Cimboa',\n",
              " 'Circus music',\n",
              " 'Citole',\n",
              " 'Cittern',\n",
              " 'Clapstick',\n",
              " 'Clarinet',\n",
              " \"Clarinette d'amour\",\n",
              " 'Clarytone',\n",
              " 'Classical guitar',\n",
              " 'Classical music',\n",
              " 'Classical period (music)',\n",
              " 'Claves',\n",
              " 'Clavichord',\n",
              " 'Clavinet',\n",
              " 'Cognitive musicology',\n",
              " 'Compilation album',\n",
              " 'Composition school',\n",
              " 'Computational musicology',\n",
              " 'Concert band',\n",
              " 'Concertina',\n",
              " 'Conch (instrument)',\n",
              " 'Concheras',\n",
              " 'Conducting',\n",
              " 'Conga',\n",
              " 'Console steel guitar',\n",
              " 'Contemporary classical music',\n",
              " 'Continuum Fingerboard',\n",
              " 'Contra-alto clarinet',\n",
              " 'Contra-alto flute',\n",
              " 'Contrabass clarinet',\n",
              " 'Contrabass flute',\n",
              " 'Contrabass oboe',\n",
              " 'Contrabass sarrusophone',\n",
              " 'Contrabass saxophone',\n",
              " 'Contrabass trombone',\n",
              " 'Contrabassoon',\n",
              " 'Contraguitar',\n",
              " 'Cor anglais',\n",
              " 'Cornamuse',\n",
              " 'Cornet',\n",
              " 'Cornett',\n",
              " 'Cornu (horn)',\n",
              " 'Countertenor',\n",
              " 'Country music',\n",
              " 'Cover version',\n",
              " 'Cowbell (instrument)',\n",
              " 'Croix Sonore',\n",
              " 'Cromorne',\n",
              " 'Crotales',\n",
              " 'Crumhorn',\n",
              " 'Crwth',\n",
              " 'Crystallophone',\n",
              " 'Cuatro (instrument)',\n",
              " 'Culoepuya',\n",
              " 'Cuíca',\n",
              " 'Cymbal',\n",
              " 'Cümbüş',\n",
              " 'Dabakan',\n",
              " 'Daf',\n",
              " 'Damaru',\n",
              " 'Dance music',\n",
              " 'Danso',\n",
              " 'Daouli',\n",
              " 'Daul',\n",
              " 'Davul',\n",
              " 'Death growl',\n",
              " 'Deejay (Jamaican)',\n",
              " 'Den-den daiko',\n",
              " \"Denis d'or\",\n",
              " 'Dhak (instrument)',\n",
              " 'Dhaulli',\n",
              " 'Dhimay',\n",
              " 'Dhol',\n",
              " 'Dholak',\n",
              " 'Diatonic button accordion',\n",
              " 'Diddley bow',\n",
              " 'Didgeridoo',\n",
              " 'Digital audio workstation',\n",
              " 'Digital piano',\n",
              " 'Dihu',\n",
              " 'Dimdi',\n",
              " 'Diple',\n",
              " 'Disc jockey',\n",
              " 'Division viol',\n",
              " 'Dizi (instrument)',\n",
              " 'Djembe',\n",
              " 'Dobro',\n",
              " 'Doctor of Musical Arts',\n",
              " 'Doctor of Philosophy',\n",
              " 'Dohol',\n",
              " 'Dollu',\n",
              " 'Dombra',\n",
              " 'Domra',\n",
              " 'Doshpuluur',\n",
              " 'Dotara',\n",
              " 'Double bass',\n",
              " 'Double bell euphonium',\n",
              " 'Double contrabass flute',\n",
              " 'Dreadnought (guitar type)',\n",
              " 'Drum',\n",
              " 'Drum kit',\n",
              " 'Drum machine',\n",
              " 'Dubreq stylophone',\n",
              " 'Duduk',\n",
              " 'Dulcian',\n",
              " 'Dulcimer',\n",
              " 'Dulzaina',\n",
              " 'Dung-Dkar',\n",
              " 'Dunun',\n",
              " 'Dutar',\n",
              " 'Duxianqin',\n",
              " 'E-flat clarinet',\n",
              " 'EWI (musical instrument)',\n",
              " 'Ecomusicology',\n",
              " 'Eigenharp',\n",
              " 'Eight-string guitar',\n",
              " 'Ektara',\n",
              " 'Ekwe',\n",
              " 'Electric cello',\n",
              " 'Electric guitar',\n",
              " 'Electric harp',\n",
              " 'Electric mandolin',\n",
              " 'Electric piano',\n",
              " 'Electric ukulele',\n",
              " 'Electric violin',\n",
              " 'Electronic dance music',\n",
              " 'Electronic keyboard',\n",
              " 'Electronic music',\n",
              " 'Electronic organ',\n",
              " 'Eleven-string alto guitar',\n",
              " 'English guitar',\n",
              " 'English horn',\n",
              " 'Environmentalism in music',\n",
              " 'Erhu',\n",
              " 'Erxian',\n",
              " 'Esraj',\n",
              " 'Ethnomusicology',\n",
              " 'Euphonium',\n",
              " 'Extended-range guitar',\n",
              " 'Extended play',\n",
              " 'Faglong',\n",
              " 'Fairlight CMI',\n",
              " 'Fegereng',\n",
              " 'Ferrinho',\n",
              " 'Fiddle',\n",
              " 'Fife (musical instrument)',\n",
              " 'Fingerboard synthesizer',\n",
              " 'Firebird (trumpet)',\n",
              " 'Fiscorn',\n",
              " 'Five string violin',\n",
              " 'Flabiol',\n",
              " 'Flageolet',\n",
              " 'Flamenco guitar',\n",
              " 'Flexatone',\n",
              " 'Flue pipe',\n",
              " 'Flugelhorn',\n",
              " 'Flumpet',\n",
              " 'Flute',\n",
              " 'Flutina',\n",
              " 'Folgerphone',\n",
              " 'Folk music',\n",
              " 'Fortepiano',\n",
              " 'Free bass accordion',\n",
              " 'French horn',\n",
              " 'Fretless guitar',\n",
              " 'Fuglung',\n",
              " 'Fujara',\n",
              " 'Gagaku',\n",
              " 'Gaida',\n",
              " 'Gaita gastoreña',\n",
              " 'Gamelan',\n",
              " 'Gandingan',\n",
              " 'Gaohu',\n",
              " 'Garmon',\n",
              " 'Gayageum',\n",
              " 'Gemshorn',\n",
              " 'Geomungo',\n",
              " 'Ghatam',\n",
              " 'Gittern',\n",
              " 'Glass harmonica',\n",
              " 'Glasschord',\n",
              " 'Glockenspiel',\n",
              " 'Glossary of jazz and popular music',\n",
              " 'Glossary of music terminology',\n",
              " 'Goblet drum',\n",
              " 'Gong',\n",
              " 'Gong bass drum',\n",
              " 'Gongche notation',\n",
              " 'Gottuvadhyam',\n",
              " 'Griot',\n",
              " 'Guan (instrument)',\n",
              " 'Guitar',\n",
              " 'Guitar synthesizer',\n",
              " 'Guitar zither',\n",
              " 'Guitarra de golpe',\n",
              " 'Guitarra panzona',\n",
              " 'Guitarra quinta huapanguera',\n",
              " 'Guitarra séptima',\n",
              " 'Guitarro (instrument)',\n",
              " 'Guitarrón chileno',\n",
              " 'Guitarrón mexicano',\n",
              " 'Guqin',\n",
              " 'Gusli',\n",
              " 'Guzheng',\n",
              " 'Güiro',\n",
              " 'Haegeum',\n",
              " 'Hammered dulcimer',\n",
              " 'Hammond organ',\n",
              " 'Handpan',\n",
              " 'Hang (instrument)',\n",
              " 'Hardingfele',\n",
              " 'Harmoneon',\n",
              " 'Harmonica',\n",
              " 'Harmonico',\n",
              " 'Harp',\n",
              " 'Harp guitar',\n",
              " 'Harp ukulele',\n",
              " 'Harpsichord',\n",
              " 'Heavy metal music',\n",
              " 'Heckelphone',\n",
              " 'Hegelong',\n",
              " 'Helicon (musical instrument)',\n",
              " 'Hindustani classical music',\n",
              " 'Hip hop music',\n",
              " 'History of music',\n",
              " 'History of music in the biblical period',\n",
              " 'Hmong music',\n",
              " 'Horagai',\n",
              " 'Hornpipe (instrument)',\n",
              " 'Hotchiku',\n",
              " 'Hualaycho',\n",
              " 'Huapanguera',\n",
              " 'Huluhu',\n",
              " 'Hulusi',\n",
              " 'Hun (instrument)',\n",
              " 'Huqin',\n",
              " 'Hurdy-gurdy',\n",
              " 'Hydraulophone',\n",
              " 'Hyperbass flute',\n",
              " 'ISBN (identifier)',\n",
              " 'Icelandic fiddle',\n",
              " 'Idakka',\n",
              " 'Igil',\n",
              " 'Ilimba drum',\n",
              " 'Inci Özdil',\n",
              " 'Index of music articles',\n",
              " 'Indian classical music',\n",
              " 'Irish bouzouki',\n",
              " 'Irish flute',\n",
              " 'Janggu',\n",
              " 'Janzi (musical instrument)',\n",
              " 'Jarana huasteca',\n",
              " 'Jarana jarocho',\n",
              " 'Jarana mosquito',\n",
              " 'Jarana segunda',\n",
              " 'Jarana tercera',\n",
              " 'Jazz',\n",
              " 'Jiaohu',\n",
              " 'Jug (musical instrument)',\n",
              " 'Junjung',\n",
              " 'Kabosy',\n",
              " 'Kadlong',\n",
              " 'Kagurabue',\n",
              " 'Kakko (instrument)',\n",
              " 'Kalaleng',\n",
              " 'Kamancha',\n",
              " 'Kandyan dance',\n",
              " 'Kanjira',\n",
              " 'Kantele',\n",
              " 'Kaval',\n",
              " 'Kayamb',\n",
              " 'Kazoo',\n",
              " 'Kebero',\n",
              " 'Kemanak',\n",
              " 'Kemenche',\n",
              " 'Kendang',\n",
              " 'Keyboard instrument',\n",
              " 'Keyed bugle',\n",
              " 'Keytar',\n",
              " 'Khartal',\n",
              " 'Khene',\n",
              " 'Khim',\n",
              " 'Khloy',\n",
              " 'Khlui',\n",
              " 'Khol',\n",
              " 'Klasik',\n",
              " 'Kobza',\n",
              " 'Kokle',\n",
              " 'Kokyū',\n",
              " 'Komabue',\n",
              " 'Kombu (instrument)',\n",
              " 'Komuz',\n",
              " 'Koncovka',\n",
              " 'Kora (instrument)',\n",
              " 'Korean court music',\n",
              " 'Kortholt',\n",
              " 'Koto (musical instrument)',\n",
              " 'Koudi',\n",
              " 'Kouxian',\n",
              " 'Kraakdoos',\n",
              " 'Krakebs',\n",
              " 'Kubing',\n",
              " 'Kudyapi',\n",
              " 'Kuhlohorn',\n",
              " 'Kulintang',\n",
              " 'Kundiman',\n",
              " 'Kuzhal',\n",
              " 'Kwitra',\n",
              " 'Kèn bầu',\n",
              " 'Lambeg drum',\n",
              " 'Langeleik',\n",
              " 'Lao classical music',\n",
              " 'Laouto',\n",
              " 'Lap steel guitar',\n",
              " 'Lap steel ukulele',\n",
              " 'Laruan',\n",
              " 'Laser harp',\n",
              " 'Launeddas',\n",
              " 'Lavta',\n",
              " 'Laúd',\n",
              " 'Lead vocalist',\n",
              " 'Leiqin',\n",
              " 'Leona (instrument)',\n",
              " 'Lirone',\n",
              " 'List of Caribbean music genres',\n",
              " 'List of aerophones by Hornbostel–Sachs number',\n",
              " 'List of chordophones by Hornbostel–Sachs number',\n",
              " 'List of classical and art music traditions',\n",
              " 'List of classical music genres',\n",
              " 'List of cultural and regional genres of music',\n",
              " 'List of fictional musical instruments',\n",
              " 'List of folk music traditions',\n",
              " 'List of idiophones by Hornbostel–Sachs number',\n",
              " 'List of medieval musical instruments',\n",
              " 'List of music genres and styles',\n",
              " 'List of musical instruments by Hornbostel–Sachs number',\n",
              " 'List of musical instruments by Hornbostel–Sachs number: 321.321',\n",
              " 'List of percussion instruments',\n",
              " 'List of string instruments',\n",
              " 'List of woodwind instruments',\n",
              " 'Lists of albums',\n",
              " 'Lists of songs',\n",
              " 'Liuqin',\n",
              " 'Livenka (music)',\n",
              " 'Log drum',\n",
              " 'Lokanga bara',\n",
              " 'Low Countries',\n",
              " 'Lur',\n",
              " 'Lusheng',\n",
              " 'Lute',\n",
              " 'Lute guitar',\n",
              " 'Lyra (Cretan)',\n",
              " 'Lyra viol',\n",
              " 'Lyre',\n",
              " 'Lyre-guitar',\n",
              " 'Lyrics',\n",
              " 'MIDI controller',\n",
              " 'MIDI keyboard',\n",
              " 'Madal',\n",
              " 'Maddale',\n",
              " 'Madhalam',\n",
              " 'Maguhu',\n",
              " 'Mahāgīta',\n",
              " 'Maktoum',\n",
              " 'Mandobass',\n",
              " 'Mandocello',\n",
              " 'Mandola',\n",
              " 'Mandolin',\n",
              " 'Mandolin-banjo',\n",
              " 'Mandolute',\n",
              " 'Mandora',\n",
              " 'Mandore (instrument)',\n",
              " 'Maraca',\n",
              " 'Maram (drum)',\n",
              " 'Marimba',\n",
              " 'Marovany',\n",
              " 'Martial music',\n",
              " 'Martinshorn',\n",
              " 'Master of Music',\n",
              " 'Mbira',\n",
              " 'Medieval lituus',\n",
              " 'Medieval music',\n",
              " 'Mejoranera',\n",
              " 'Mellophone',\n",
              " 'Mellotron',\n",
              " 'Melodeon (organ)',\n",
              " 'Melodica',\n",
              " 'Mexican vihuela',\n",
              " 'Mezzo-soprano',\n",
              " 'Mezzo-soprano saxophone',\n",
              " 'Middle Eastern music',\n",
              " 'Mijwiz',\n",
              " 'Military band',\n",
              " 'Mirwas',\n",
              " 'Mizmar (instrument)',\n",
              " 'Mizwad',\n",
              " 'Modernism (music)',\n",
              " 'Mohan veena',\n",
              " 'Moodswinger',\n",
              " 'Moraharpa',\n",
              " 'Morin khuur',\n",
              " 'Mridangam',\n",
              " 'Mugham',\n",
              " 'Multi-neck guitar',\n",
              " 'Musette de cour',\n",
              " 'Music',\n",
              " 'Music and politics',\n",
              " 'Music archaeology',\n",
              " 'Music education',\n",
              " 'Music festival',\n",
              " 'Music genre',\n",
              " 'Music history',\n",
              " 'Music of Afghanistan',\n",
              " 'Music of Africa',\n",
              " 'Music of Albania',\n",
              " 'Music of Algeria',\n",
              " 'Music of Andorra',\n",
              " 'Music of Angola',\n",
              " 'Music of Antigua and Barbuda',\n",
              " 'Music of Argentina',\n",
              " 'Music of Armenia',\n",
              " 'Music of Asia',\n",
              " 'Music of Australia',\n",
              " 'Music of Austria',\n",
              " 'Music of Azerbaijan',\n",
              " 'Music of Bahrain',\n",
              " 'Music of Bangladesh',\n",
              " 'Music of Barbados',\n",
              " 'Music of Belarus',\n",
              " 'Music of Belgium',\n",
              " 'Music of Belize',\n",
              " 'Music of Benin',\n",
              " 'Music of Bhutan',\n",
              " 'Music of Bolivia',\n",
              " 'Music of Bosnia and Herzegovina',\n",
              " 'Music of Botswana',\n",
              " 'Music of Brazil',\n",
              " 'Music of Brunei',\n",
              " 'Music of Bulgaria',\n",
              " 'Music of Burkina Faso',\n",
              " 'Music of Burundi',\n",
              " 'Music of Cambodia',\n",
              " 'Music of Cameroon',\n",
              " 'Music of Canada',\n",
              " 'Music of Cape Verde',\n",
              " 'Music of Central Asia',\n",
              " 'Music of Chad',\n",
              " 'Music of Chile',\n",
              " 'Music of China',\n",
              " 'Music of Colombia',\n",
              " 'Music of Comoros',\n",
              " 'Music of Costa Rica',\n",
              " 'Music of Croatia',\n",
              " 'Music of Cuba',\n",
              " 'Music of Cyprus',\n",
              " 'Music of Denmark',\n",
              " 'Music of Djibouti',\n",
              " 'Music of Dominica',\n",
              " 'Music of East Timor',\n",
              " 'Music of Ecuador',\n",
              " 'Music of Egypt',\n",
              " 'Music of El Salvador',\n",
              " 'Music of Equatorial Guinea',\n",
              " 'Music of Eritrea',\n",
              " 'Music of Estonia',\n",
              " 'Music of Eswatini',\n",
              " 'Music of Ethiopia',\n",
              " 'Music of Fiji',\n",
              " 'Music of Finland',\n",
              " 'Music of France',\n",
              " 'Music of Gabon',\n",
              " 'Music of Georgia (country)',\n",
              " 'Music of Germany',\n",
              " 'Music of Ghana',\n",
              " 'Music of Greece',\n",
              " 'Music of Grenada',\n",
              " 'Music of Guatemala',\n",
              " 'Music of Guinea',\n",
              " 'Music of Guinea-Bissau',\n",
              " 'Music of Guyana',\n",
              " 'Music of Haiti',\n",
              " 'Music of Honduras',\n",
              " 'Music of Hungary',\n",
              " 'Music of Iceland',\n",
              " 'Music of India',\n",
              " 'Music of Indonesia',\n",
              " 'Music of Iran',\n",
              " 'Music of Iraq',\n",
              " 'Music of Israel',\n",
              " 'Music of Italy',\n",
              " 'Music of Ivory Coast',\n",
              " 'Music of Jamaica',\n",
              " 'Music of Japan',\n",
              " 'Music of Jordan',\n",
              " 'Music of Kazakhstan',\n",
              " 'Music of Kenya',\n",
              " 'Music of Kiribati',\n",
              " 'Music of Kosovo',\n",
              " 'Music of Kuwait',\n",
              " 'Music of Kyrgyzstan',\n",
              " 'Music of Laos',\n",
              " 'Music of Latin America',\n",
              " 'Music of Latvia',\n",
              " 'Music of Lebanon',\n",
              " 'Music of Lesotho',\n",
              " 'Music of Liberia',\n",
              " 'Music of Libya',\n",
              " 'Music of Liechtenstein',\n",
              " 'Music of Lithuania',\n",
              " 'Music of Luxembourg',\n",
              " 'Music of Madagascar',\n",
              " 'Music of Malawi',\n",
              " 'Music of Malaysia',\n",
              " 'Music of Maldives',\n",
              " 'Music of Mali',\n",
              " 'Music of Malta',\n",
              " 'Music of Mauritania',\n",
              " 'Music of Mauritius',\n",
              " 'Music of Melanesia',\n",
              " 'Music of Mexico',\n",
              " 'Music of Micronesia',\n",
              " 'Music of Moldova',\n",
              " 'Music of Monaco',\n",
              " 'Music of Mongolia',\n",
              " 'Music of Montenegro',\n",
              " 'Music of Morocco',\n",
              " 'Music of Mozambique',\n",
              " 'Music of Myanmar',\n",
              " 'Music of Namibia',\n",
              " 'Music of Nauru',\n",
              " 'Music of Nepal',\n",
              " 'Music of New Zealand',\n",
              " 'Music of Nicaragua',\n",
              " 'Music of Niger',\n",
              " 'Music of Nigeria',\n",
              " 'Music of North Africa',\n",
              " 'Music of North Korea',\n",
              " 'Music of North Macedonia',\n",
              " 'Music of Norway',\n",
              " 'Music of Oman',\n",
              " 'Music of Pakistan',\n",
              " 'Music of Palau',\n",
              " 'Music of Palestine',\n",
              " 'Music of Panama',\n",
              " 'Music of Papua New Guinea',\n",
              " 'Music of Paraguay',\n",
              " 'Music of Peru',\n",
              " 'Music of Poland',\n",
              " 'Music of Polynesia',\n",
              " 'Music of Portugal',\n",
              " 'Music of Qatar',\n",
              " 'Music of Romania',\n",
              " 'Music of Russia',\n",
              " 'Music of Rwanda',\n",
              " 'Music of Saint Kitts and Nevis',\n",
              " 'Music of Saint Lucia',\n",
              " 'Music of Saint Vincent and the Grenadines',\n",
              " 'Music of Samoa',\n",
              " 'Music of San Marino',\n",
              " 'Music of Saudi Arabia',\n",
              " 'Music of Senegal',\n",
              " 'Music of Serbia',\n",
              " 'Music of Seychelles',\n",
              " 'Music of Sierra Leone',\n",
              " 'Music of Singapore',\n",
              " 'Music of Slovakia',\n",
              " 'Music of Slovenia',\n",
              " 'Music of Somalia',\n",
              " 'Music of South Africa',\n",
              " 'Music of South Korea',\n",
              " 'Music of South Sudan',\n",
              " 'Music of Southeast Asia',\n",
              " 'Music of Spain',\n",
              " 'Music of Sri Lanka',\n",
              " 'Music of State of Palestine',\n",
              " 'Music of Sudan',\n",
              " 'Music of Suriname',\n",
              " 'Music of Sweden',\n",
              " 'Music of Switzerland',\n",
              " 'Music of Syria',\n",
              " 'Music of São Tomé and Príncipe',\n",
              " 'Music of Taiwan',\n",
              " 'Music of Tajikistan',\n",
              " 'Music of Tanzania',\n",
              " 'Music of Thailand',\n",
              " 'Music of Togo',\n",
              " 'Music of Tonga',\n",
              " 'Music of Trinidad and Tobago',\n",
              " 'Music of Tunisia',\n",
              " 'Music of Turkey',\n",
              " 'Music of Turkmenistan',\n",
              " 'Music of Tuvalu',\n",
              " 'Music of Uganda',\n",
              " 'Music of Ukraine',\n",
              " 'Music of Uruguay',\n",
              " 'Music of Uzbekistan',\n",
              " 'Music of Vanuatu',\n",
              " 'Music of Vatican City',\n",
              " 'Music of Venezuela',\n",
              " 'Music of Vietnam',\n",
              " 'Music of West Africa',\n",
              " 'Music of Western Sahara',\n",
              " 'Music of Yemen',\n",
              " 'Music of Zambia',\n",
              " 'Music of Zimbabwe',\n",
              " 'Music of the Bahamas',\n",
              " 'Music of the Central African Republic',\n",
              " 'Music of the Czech Republic',\n",
              " 'Music of the Democratic Republic of the Congo',\n",
              " 'Music of the Dominican Republic',\n",
              " 'Music of the Federated States of Micronesia',\n",
              " 'Music of the Gambia',\n",
              " 'Music of the Marshall Islands',\n",
              " 'Music of the Netherlands',\n",
              " 'Music of the Philippines',\n",
              " 'Music of the Republic of Ireland',\n",
              " 'Music of the Republic of the Congo',\n",
              " 'Music of the Solomon Islands',\n",
              " 'Music of the United Arab Emirates',\n",
              " 'Music of the United Kingdom',\n",
              " 'Music of the United States',\n",
              " 'Music psychology',\n",
              " 'Music school',\n",
              " 'Music technology (electric)',\n",
              " 'Music technology (electronic and digital)',\n",
              " 'Music theory',\n",
              " 'Music therapy',\n",
              " 'Musical bow',\n",
              " 'Musical composition',\n",
              " 'Musical ensemble',\n",
              " 'Musical form',\n",
              " 'Musical improvisation',\n",
              " 'Musical instrument',\n",
              " 'Musical notation',\n",
              " 'Musician',\n",
              " 'Musicology',\n",
              " 'Nadaswaram',\n",
              " 'Nagak',\n",
              " 'Nagara (drum)',\n",
              " 'Naqareh',\n",
              " 'National String Instrument Corporation',\n",
              " 'Natural trumpet',\n",
              " 'New musicology',\n",
              " 'Ney',\n",
              " 'Nguru (nose flute)',\n",
              " 'Nhã nhạc',\n",
              " 'Nine-string guitar',\n",
              " 'Nohkan',\n",
              " 'Nordic folk music',\n",
              " 'Nose flute',\n",
              " 'Nplooj',\n",
              " 'Nulophone',\n",
              " 'Nyckelharpa',\n",
              " 'Oboe',\n",
              " \"Oboe d'amore\",\n",
              " 'Oboe da caccia',\n",
              " 'Ocarina',\n",
              " 'Octaban',\n",
              " 'Octave mandolin',\n",
              " 'Octavin',\n",
              " 'Octobass',\n",
              " 'Odissi music',\n",
              " 'Omnichord',\n",
              " 'Ondes Martenot',\n",
              " 'Ophicleide',\n",
              " 'Orchestra',\n",
              " 'Orthotonophonium',\n",
              " 'Otamatone',\n",
              " 'Ottoman music',\n",
              " 'Oud',\n",
              " 'Outline of music',\n",
              " 'Overtone singing',\n",
              " 'P. D. Q. Bach',\n",
              " 'Padayani thappu',\n",
              " 'Paixiao',\n",
              " 'Pakhavaj',\n",
              " 'Palendag',\n",
              " 'Pan flute',\n",
              " 'Pandeiro',\n",
              " 'Pandero',\n",
              " 'Paqin',\n",
              " 'Parai',\n",
              " 'Pardessus de viole',\n",
              " 'Parlor guitar',\n",
              " 'Pate (instrument)',\n",
              " 'Pavari',\n",
              " 'Pedal steel guitar',\n",
              " 'Percussion instrument',\n",
              " 'Persian traditional music',\n",
              " 'Personal computer',\n",
              " 'Piano',\n",
              " 'Piano accordion',\n",
              " 'Pibgorn (instrument)',\n",
              " 'Pibroch',\n",
              " 'Picco pipe',\n",
              " 'Piccolo',\n",
              " 'Piccolo heckelphone',\n",
              " 'Piccolo oboe',\n",
              " 'Piccolo saxophone',\n",
              " 'Piccolo trombone',\n",
              " 'Piccolo trumpet',\n",
              " 'Piccolo violino',\n",
              " 'Pinpeat',\n",
              " 'Pipa',\n",
              " 'Pipe organ',\n",
              " 'Piphat',\n",
              " 'Pitch pipe',\n",
              " 'Piwancha',\n",
              " 'Plasmaphone',\n",
              " 'Pochette (musical instrument)',\n",
              " 'Pocket trumpet',\n",
              " 'Pop music',\n",
              " 'Popular music',\n",
              " 'Portuguese guitar',\n",
              " 'Post horn',\n",
              " 'Postmodern music',\n",
              " 'Prehistoric music',\n",
              " 'Progressive music',\n",
              " 'Psaltery',\n",
              " 'Psychedelic music',\n",
              " 'Pulalu',\n",
              " 'Pump organ',\n",
              " 'Punk rock',\n",
              " 'Pyrophone',\n",
              " 'Qairaq',\n",
              " 'Qanun (instrument)',\n",
              " 'Qeej',\n",
              " 'Qilaut',\n",
              " 'Qinqin',\n",
              " 'Quena',\n",
              " 'Quintephone',\n",
              " 'Quinticlave',\n",
              " 'ROLI Seaboard',\n",
              " 'Rabeca',\n",
              " 'Rackett',\n",
              " 'Rajão',\n",
              " 'Ralé-poussé',\n",
              " 'Rauschpfeife',\n",
              " 'Ravanahatha',\n",
              " 'Rebab',\n",
              " 'Rebana',\n",
              " 'Rebec',\n",
              " 'Record label',\n",
              " 'Record producer',\n",
              " 'Recorder (musical instrument)',\n",
              " 'Reed contrabass',\n",
              " 'Reed organ',\n",
              " 'Religious music',\n",
              " 'Remix',\n",
              " 'Remix album',\n",
              " 'Renaissance music',\n",
              " 'Repique',\n",
              " 'Requinto jarocho',\n",
              " 'Resonator mandolin',\n",
              " 'Resonator ukulele',\n",
              " 'Rhaita',\n",
              " 'Rhythm section',\n",
              " 'Robero',\n",
              " 'Rock music',\n",
              " 'Roman tuba',\n",
              " 'Romantic guitar',\n",
              " 'Romantic music',\n",
              " 'Ronroco',\n",
              " 'Rothphone',\n",
              " 'Ruan (instrument)',\n",
              " 'Rubab (instrument)',\n",
              " 'Rudra vina',\n",
              " 'Russian guitar',\n",
              " 'Ryuteki',\n",
              " 'Sabar',\n",
              " 'Sac de gemecs',\n",
              " 'Sackbut',\n",
              " 'Saenghwang',\n",
              " 'Sallaneh (lute)',\n",
              " 'Sambal (drum)',\n",
              " 'Samphor',\n",
              " 'Sampler (musical instrument)',\n",
              " 'Sampling (music)',\n",
              " 'Sanding block',\n",
              " 'Sanshin',\n",
              " 'Santoor (Persian instrument)',\n",
              " 'Sanxian',\n",
              " 'Sarangi',\n",
              " 'Saratovskaya garmonika',\n",
              " 'Sarod',\n",
              " 'Sarrusophone',\n",
              " 'Saung',\n",
              " 'Saw sam sai',\n",
              " 'Saxhorn',\n",
              " 'Saxophone',\n",
              " 'Saxotromba',\n",
              " 'Saxtuba',\n",
              " 'Scat singing',\n",
              " 'Schrammel accordion',\n",
              " 'Schwyzerörgeli',\n",
              " 'Se (instrument)',\n",
              " 'Secular music',\n",
              " 'Selmer guitar',\n",
              " 'Semi-acoustic guitar',\n",
              " 'Serpent (instrument)',\n",
              " 'Setar (lute)',\n",
              " 'Seven-string guitar',\n",
              " 'Shakuhachi',\n",
              " 'Shamisen',\n",
              " 'Shankha',\n",
              " 'Shawm',\n",
              " 'Shehnai',\n",
              " 'Shekere',\n",
              " 'Sheng (instrument)',\n",
              " 'Shime-daiko',\n",
              " 'Shinobue',\n",
              " 'Shishi odoshi',\n",
              " ...]"
            ]
          },
          "metadata": {},
          "execution_count": 6
        }
      ]
    },
    {
      "cell_type": "markdown",
      "source": [
        "* Remove music\n",
        "* Remove brackets"
      ],
      "metadata": {
        "id": "dIVPdfnKDxYI"
      }
    },
    {
      "cell_type": "code",
      "source": [
        "instruments = [l.lower() for l in list(cat.links)]\n",
        "\n",
        "instruments[:5]"
      ],
      "metadata": {
        "colab": {
          "base_uri": "https://localhost:8080/"
        },
        "id": "ETdjXC0xEKk9",
        "outputId": "45fdb043-da22-4bfd-9e7c-d74f17ee0aaa"
      },
      "execution_count": null,
      "outputs": [
        {
          "output_type": "execute_result",
          "data": {
            "text/plain": [
              "['20th-century classical music',\n",
              " '21st-century classical music',\n",
              " 'a-flat clarinet',\n",
              " 'a-side and b-side',\n",
              " 'accordina (instrument)']"
            ]
          },
          "metadata": {},
          "execution_count": 7
        }
      ]
    },
    {
      "cell_type": "code",
      "source": [
        "instruments = [i for i in instruments if 'music' not in i]\n",
        "\n",
        "instruments[:5]"
      ],
      "metadata": {
        "colab": {
          "base_uri": "https://localhost:8080/"
        },
        "id": "GYc0bRMdGKBC",
        "outputId": "8a294145-161f-4e39-929a-3a525c493c4d"
      },
      "execution_count": null,
      "outputs": [
        {
          "output_type": "execute_result",
          "data": {
            "text/plain": [
              "['a-flat clarinet',\n",
              " 'a-side and b-side',\n",
              " 'accordina (instrument)',\n",
              " 'accordion',\n",
              " 'accordola']"
            ]
          },
          "metadata": {},
          "execution_count": 8
        }
      ]
    },
    {
      "cell_type": "code",
      "source": [
        "instruments = [re.sub(' \\(.+\\)', '', i) for i in instruments]\n",
        "\n",
        "instruments[:10]"
      ],
      "metadata": {
        "colab": {
          "base_uri": "https://localhost:8080/"
        },
        "id": "_4365jN4Glde",
        "outputId": "810a83fa-0c0f-429a-c803-0202c8dc5b9b"
      },
      "execution_count": null,
      "outputs": [
        {
          "output_type": "execute_result",
          "data": {
            "text/plain": [
              "['a-flat clarinet',\n",
              " 'a-side and b-side',\n",
              " 'accordina',\n",
              " 'accordion',\n",
              " 'accordola',\n",
              " 'acoustic-electric guitar',\n",
              " 'acoustic bass guitar',\n",
              " 'acoustic guitar',\n",
              " 'adungu',\n",
              " 'aeolian harp']"
            ]
          },
          "metadata": {},
          "execution_count": 9
        }
      ]
    },
    {
      "cell_type": "code",
      "source": [
        "len(instruments)"
      ],
      "metadata": {
        "colab": {
          "base_uri": "https://localhost:8080/"
        },
        "id": "TqGej5a8G_vT",
        "outputId": "683b27dc-432b-4418-b0a9-6a36fb1cb138"
      },
      "execution_count": null,
      "outputs": [
        {
          "output_type": "execute_result",
          "data": {
            "text/plain": [
              "890"
            ]
          },
          "metadata": {},
          "execution_count": 10
        }
      ]
    },
    {
      "cell_type": "markdown",
      "source": [
        "Достать модели инструментов кажется не совсем возможным. У некоторых категорий есть графа с компаниями-изготовителями, при желании можно достать их, но это невозможно сделать через обёртку API. Однако опять же как мы поймём, где чьи? Видимо, нужно каким-то образом сохранять связь между например, сделать из списка словарь, где ключом будет инструмент, а значениями, если таковые существуют, изготовители."
      ],
      "metadata": {
        "id": "1J_1AKoSHilr"
      }
    },
    {
      "cell_type": "code",
      "source": [
        "guitar = wiki_wiki.page('Guitar')"
      ],
      "metadata": {
        "id": "l9bRfwnyNOzh"
      },
      "execution_count": null,
      "outputs": []
    },
    {
      "cell_type": "code",
      "source": [
        "guitar.backlinks"
      ],
      "metadata": {
        "id": "jrV-iST7GcML"
      },
      "execution_count": null,
      "outputs": []
    },
    {
      "cell_type": "markdown",
      "source": [
        "* WordNet"
      ],
      "metadata": {
        "id": "Y8GUApXuHe70"
      }
    },
    {
      "cell_type": "code",
      "source": [
        "mus_instrument_wn = wn.synsets('musical_instrument')[0]\n",
        "\n",
        "mus_instrument_wn"
      ],
      "metadata": {
        "colab": {
          "base_uri": "https://localhost:8080/"
        },
        "id": "qjOHZ_UVNi6Y",
        "outputId": "a1b7abef-1897-41c3-f2de-2f4557154b5c"
      },
      "execution_count": null,
      "outputs": [
        {
          "output_type": "execute_result",
          "data": {
            "text/plain": [
              "Synset('musical_instrument.n.01')"
            ]
          },
          "metadata": {},
          "execution_count": 11
        }
      ]
    },
    {
      "cell_type": "code",
      "source": [
        "hyper = mus_instrument_wn.hypernyms()\n",
        "\n",
        "hyper"
      ],
      "metadata": {
        "colab": {
          "base_uri": "https://localhost:8080/"
        },
        "id": "vx-y24d2ON7O",
        "outputId": "370e5288-47b0-4490-d0e5-043abbbcd162"
      },
      "execution_count": null,
      "outputs": [
        {
          "output_type": "execute_result",
          "data": {
            "text/plain": [
              "[Synset('device.n.01')]"
            ]
          },
          "metadata": {},
          "execution_count": 12
        }
      ]
    },
    {
      "cell_type": "code",
      "source": [
        "hypo = mus_instrument_wn.hyponyms()\n",
        "\n",
        "hypo"
      ],
      "metadata": {
        "colab": {
          "base_uri": "https://localhost:8080/"
        },
        "id": "E_4FU1noPBXn",
        "outputId": "e4115647-8419-4479-9f29-20317918b2b8"
      },
      "execution_count": null,
      "outputs": [
        {
          "output_type": "execute_result",
          "data": {
            "text/plain": [
              "[Synset('barrel_organ.n.01'),\n",
              " Synset('bass.n.07'),\n",
              " Synset('calliope.n.02'),\n",
              " Synset('electronic_instrument.n.01'),\n",
              " Synset('jew's_harp.n.01'),\n",
              " Synset('keyboard_instrument.n.01'),\n",
              " Synset('music_box.n.01'),\n",
              " Synset('percussion_instrument.n.01'),\n",
              " Synset('stringed_instrument.n.01'),\n",
              " Synset('wind_instrument.n.01')]"
            ]
          },
          "metadata": {},
          "execution_count": 13
        }
      ]
    },
    {
      "cell_type": "code",
      "source": [
        "for i in range(len(hypo)):\n",
        "    print(hypo[i], '---', hypo[i].hyponyms())"
      ],
      "metadata": {
        "colab": {
          "base_uri": "https://localhost:8080/"
        },
        "id": "ZAkGfNdmPJ5I",
        "outputId": "05af47c3-214d-462d-b3d7-a0dc2c954add"
      },
      "execution_count": null,
      "outputs": [
        {
          "output_type": "stream",
          "name": "stdout",
          "text": [
            "Synset('barrel_organ.n.01') --- []\n",
            "Synset('bass.n.07') --- [Synset('bass_fiddle.n.01'), Synset('bass_guitar.n.01'), Synset('bass_horn.n.01'), Synset('bombardon.n.02')]\n",
            "Synset('calliope.n.02') --- []\n",
            "Synset('electronic_instrument.n.01') --- [Synset('electric_organ.n.01'), Synset('synthesizer.n.02'), Synset('theremin.n.01')]\n",
            "Synset('jew's_harp.n.01') --- []\n",
            "Synset('keyboard_instrument.n.01') --- [Synset('accordion.n.01'), Synset('celesta.n.01'), Synset('clavichord.n.01'), Synset('clavier.n.02'), Synset('organ.n.05'), Synset('piano.n.01'), Synset('synthesizer.n.02')]\n",
            "Synset('music_box.n.01') --- []\n",
            "Synset('percussion_instrument.n.01') --- [Synset('bones.n.01'), Synset('chime.n.01'), Synset('cymbal.n.01'), Synset('drum.n.01'), Synset('glockenspiel.n.01'), Synset('gong.n.01'), Synset('kettle.n.04'), Synset('lagerphone.n.01'), Synset('maraca.n.01'), Synset('marimba.n.01'), Synset('piano.n.01'), Synset('rain_stick.n.01'), Synset('steel_drum.n.01'), Synset('triangle.n.05'), Synset('vibraphone.n.01')]\n",
            "Synset('stringed_instrument.n.01') --- [Synset('banjo.n.01'), Synset('bowed_stringed_instrument.n.01'), Synset('chordophone.n.01'), Synset('clavichord.n.01'), Synset('clavier.n.02'), Synset('dulcimer.n.01'), Synset('guitar.n.01'), Synset('koto.n.01'), Synset('piano.n.01'), Synset('psaltery.n.01'), Synset('samisen.n.01'), Synset('sitar.n.01'), Synset('zither.n.01')]\n",
            "Synset('wind_instrument.n.01') --- [Synset('brass.n.02'), Synset('free-reed_instrument.n.01'), Synset('kazoo.n.01'), Synset('ocarina.n.01'), Synset('organ.n.05'), Synset('organ_pipe.n.01'), Synset('pipe.n.04'), Synset('post_horn.n.01'), Synset('whistle.n.03'), Synset('woodwind.n.01')]\n"
          ]
        }
      ]
    },
    {
      "cell_type": "markdown",
      "source": [
        "Поступим следующим образом: возьмём гипероним только на уровень выше, а гипонимы соберём все, которые найдём. Тогда:"
      ],
      "metadata": {
        "id": "n0lYJCPsQNS5"
      }
    },
    {
      "cell_type": "code",
      "source": [
        "# гиперонимы\n",
        "hyper = []\n",
        "for s in mus_instrument_wn.hypernyms():\n",
        "    s_lemmas = s.lemmas()\n",
        "    for lemma in s_lemmas:\n",
        "        h_lemma = ' '.join(str(lemma.name()).lower().split('_'))\n",
        "        hyper.append(h_lemma)\n",
        "\n",
        "hyper"
      ],
      "metadata": {
        "colab": {
          "base_uri": "https://localhost:8080/"
        },
        "id": "WqgcvXA2RTxr",
        "outputId": "2c36937e-9f96-42e9-ce0d-2d080d6df571"
      },
      "execution_count": null,
      "outputs": [
        {
          "output_type": "execute_result",
          "data": {
            "text/plain": [
              "['device']"
            ]
          },
          "metadata": {},
          "execution_count": 15
        }
      ]
    },
    {
      "cell_type": "code",
      "source": [
        "# гипонимы\n",
        "\n",
        "high_hypo = mus_instrument_wn.hyponyms()\n",
        "\n",
        "high_hypo"
      ],
      "metadata": {
        "colab": {
          "base_uri": "https://localhost:8080/"
        },
        "id": "py8UCb6yTklA",
        "outputId": "61690f66-b507-48fb-b249-d4268c0bff5f"
      },
      "execution_count": null,
      "outputs": [
        {
          "output_type": "execute_result",
          "data": {
            "text/plain": [
              "[Synset('barrel_organ.n.01'),\n",
              " Synset('bass.n.07'),\n",
              " Synset('calliope.n.02'),\n",
              " Synset('electronic_instrument.n.01'),\n",
              " Synset('jew's_harp.n.01'),\n",
              " Synset('keyboard_instrument.n.01'),\n",
              " Synset('music_box.n.01'),\n",
              " Synset('percussion_instrument.n.01'),\n",
              " Synset('stringed_instrument.n.01'),\n",
              " Synset('wind_instrument.n.01')]"
            ]
          },
          "metadata": {},
          "execution_count": 16
        }
      ]
    },
    {
      "cell_type": "code",
      "source": [
        "def all_hypo(sn):\n",
        "    hypo = sn.hyponyms()\n",
        "    if hypo:\n",
        "        hypo_lemmas = []\n",
        "        print('HYPO', hypo)\n",
        "        for h in hypo:\n",
        "            h_lemmas = h.lemmas()\n",
        "            for lemma in h_lemmas:\n",
        "                h_lemma = ' '.join(str(lemma.name()).lower().split('_'))\n",
        "                hypo_lemmas.append(h_lemma)\n",
        "        return hypo_lemmas"
      ],
      "metadata": {
        "id": "3pVBjOBN6G9_"
      },
      "execution_count": null,
      "outputs": []
    },
    {
      "cell_type": "code",
      "source": [
        "hypo = []\n",
        "for high_h in high_hypo:\n",
        "    res = all_hypo(high_h)\n",
        "    if res:\n",
        "        hypo += res"
      ],
      "metadata": {
        "colab": {
          "base_uri": "https://localhost:8080/"
        },
        "id": "eD8cf0rJ6NOi",
        "outputId": "e36f2099-8477-4ecf-c721-7130d1c91802"
      },
      "execution_count": null,
      "outputs": [
        {
          "output_type": "stream",
          "name": "stdout",
          "text": [
            "HYPO [Synset('bass_fiddle.n.01'), Synset('bass_guitar.n.01'), Synset('bass_horn.n.01'), Synset('bombardon.n.02')]\n",
            "HYPO [Synset('electric_organ.n.01'), Synset('synthesizer.n.02'), Synset('theremin.n.01')]\n",
            "HYPO [Synset('accordion.n.01'), Synset('celesta.n.01'), Synset('clavichord.n.01'), Synset('clavier.n.02'), Synset('organ.n.05'), Synset('piano.n.01'), Synset('synthesizer.n.02')]\n",
            "HYPO [Synset('bones.n.01'), Synset('chime.n.01'), Synset('cymbal.n.01'), Synset('drum.n.01'), Synset('glockenspiel.n.01'), Synset('gong.n.01'), Synset('kettle.n.04'), Synset('lagerphone.n.01'), Synset('maraca.n.01'), Synset('marimba.n.01'), Synset('piano.n.01'), Synset('rain_stick.n.01'), Synset('steel_drum.n.01'), Synset('triangle.n.05'), Synset('vibraphone.n.01')]\n",
            "HYPO [Synset('banjo.n.01'), Synset('bowed_stringed_instrument.n.01'), Synset('chordophone.n.01'), Synset('clavichord.n.01'), Synset('clavier.n.02'), Synset('dulcimer.n.01'), Synset('guitar.n.01'), Synset('koto.n.01'), Synset('piano.n.01'), Synset('psaltery.n.01'), Synset('samisen.n.01'), Synset('sitar.n.01'), Synset('zither.n.01')]\n",
            "HYPO [Synset('brass.n.02'), Synset('free-reed_instrument.n.01'), Synset('kazoo.n.01'), Synset('ocarina.n.01'), Synset('organ.n.05'), Synset('organ_pipe.n.01'), Synset('pipe.n.04'), Synset('post_horn.n.01'), Synset('whistle.n.03'), Synset('woodwind.n.01')]\n"
          ]
        }
      ]
    },
    {
      "cell_type": "code",
      "source": [
        "hypo"
      ],
      "metadata": {
        "colab": {
          "base_uri": "https://localhost:8080/"
        },
        "id": "fixQdsIgRCQE",
        "outputId": "cea5b156-9b9b-48f3-c380-3fe5ac85140b"
      },
      "execution_count": null,
      "outputs": [
        {
          "output_type": "execute_result",
          "data": {
            "text/plain": [
              "['bass fiddle',\n",
              " 'bass viol',\n",
              " 'bull fiddle',\n",
              " 'double bass',\n",
              " 'contrabass',\n",
              " 'string bass',\n",
              " 'bass guitar',\n",
              " 'bass horn',\n",
              " 'sousaphone',\n",
              " 'tuba',\n",
              " 'bombardon',\n",
              " 'bombard',\n",
              " 'electric organ',\n",
              " 'electronic organ',\n",
              " 'hammond organ',\n",
              " 'organ',\n",
              " 'synthesizer',\n",
              " 'synthesiser',\n",
              " 'theremin',\n",
              " 'accordion',\n",
              " 'piano accordion',\n",
              " 'squeeze box',\n",
              " 'celesta',\n",
              " 'clavichord',\n",
              " 'clavier',\n",
              " 'klavier',\n",
              " 'organ',\n",
              " 'pipe organ',\n",
              " 'piano',\n",
              " 'pianoforte',\n",
              " 'forte-piano',\n",
              " 'synthesizer',\n",
              " 'synthesiser',\n",
              " 'bones',\n",
              " 'castanets',\n",
              " 'clappers',\n",
              " 'finger cymbals',\n",
              " 'chime',\n",
              " 'bell',\n",
              " 'gong',\n",
              " 'cymbal',\n",
              " 'drum',\n",
              " 'membranophone',\n",
              " 'tympan',\n",
              " 'glockenspiel',\n",
              " 'orchestral bells',\n",
              " 'gong',\n",
              " 'tam-tam',\n",
              " 'kettle',\n",
              " 'kettledrum',\n",
              " 'tympanum',\n",
              " 'tympani',\n",
              " 'timpani',\n",
              " 'lagerphone',\n",
              " 'maraca',\n",
              " 'marimba',\n",
              " 'xylophone',\n",
              " 'piano',\n",
              " 'pianoforte',\n",
              " 'forte-piano',\n",
              " 'rain stick',\n",
              " 'steel drum',\n",
              " 'triangle',\n",
              " 'vibraphone',\n",
              " 'vibraharp',\n",
              " 'vibes',\n",
              " 'banjo',\n",
              " 'bowed stringed instrument',\n",
              " 'string',\n",
              " 'chordophone',\n",
              " 'clavichord',\n",
              " 'clavier',\n",
              " 'klavier',\n",
              " 'dulcimer',\n",
              " 'guitar',\n",
              " 'koto',\n",
              " 'piano',\n",
              " 'pianoforte',\n",
              " 'forte-piano',\n",
              " 'psaltery',\n",
              " 'samisen',\n",
              " 'shamisen',\n",
              " 'sitar',\n",
              " 'zither',\n",
              " 'cither',\n",
              " 'zithern',\n",
              " 'brass',\n",
              " 'brass instrument',\n",
              " 'free-reed instrument',\n",
              " 'kazoo',\n",
              " 'ocarina',\n",
              " 'sweet potato',\n",
              " 'organ',\n",
              " 'pipe organ',\n",
              " 'organ pipe',\n",
              " 'pipe',\n",
              " 'pipework',\n",
              " 'pipe',\n",
              " 'post horn',\n",
              " 'whistle',\n",
              " 'woodwind',\n",
              " 'woodwind instrument',\n",
              " 'wood']"
            ]
          },
          "metadata": {},
          "execution_count": 19
        }
      ]
    },
    {
      "cell_type": "code",
      "source": [
        "musical_instruments = set(instruments + hypo + hyper)"
      ],
      "metadata": {
        "id": "W-3RLzEfWiqW"
      },
      "execution_count": null,
      "outputs": []
    },
    {
      "cell_type": "code",
      "source": [
        "len(musical_instruments)"
      ],
      "metadata": {
        "colab": {
          "base_uri": "https://localhost:8080/"
        },
        "id": "Cgq9NHiOY3Sq",
        "outputId": "80571616-4918-4bcb-e52d-6b57e674771a"
      },
      "execution_count": null,
      "outputs": [
        {
          "output_type": "execute_result",
          "data": {
            "text/plain": [
              "941"
            ]
          },
          "metadata": {},
          "execution_count": 21
        }
      ]
    },
    {
      "cell_type": "markdown",
      "source": [
        "Теперь проверяем есть ли они в наших текстах. Для этого сначала лемматизируем их:"
      ],
      "metadata": {
        "id": "19AA81056lDL"
      }
    },
    {
      "cell_type": "code",
      "source": [
        "# откатить генератор на начальное состояние\n",
        "# rev_gen = parse('Musical_Instruments_5.json.gz')"
      ],
      "metadata": {
        "id": "_AQkiLyRbqmm"
      },
      "execution_count": null,
      "outputs": []
    },
    {
      "cell_type": "code",
      "source": [
        "# nlp = spacy.load('en_core_web_sm')"
      ],
      "metadata": {
        "id": "qbSGozAqbyMm"
      },
      "execution_count": null,
      "outputs": []
    },
    {
      "cell_type": "code",
      "source": [
        "# lemmatized_list = []\n",
        "# i = 0\n",
        "# for text in rev_gen:\n",
        "#     doc = nlp(text)\n",
        "#     lemmatized = []\n",
        "#     for token in doc:\n",
        "#         lemma = token.lemma_.lower()\n",
        "#         if lemma not in PUNCTUATION:\n",
        "#             if lemma not in ENG_SW:\n",
        "#                 lemmatized.append(lemma)\n",
        "#     lemmatized = ' '.join(lemmatized)\n",
        "#     lemmatized_list.append(lemmatized)\n",
        "#     if len(lemmatized_list) == 10:\n",
        "#         i += 10\n",
        "#         print(i)\n",
        "#         with open('lemmatized wo stop-words reviews amazon mus instruments.txt', 'a', encoding='utf-8') as f:\n",
        "#             f.write('\\n\\n------\\n\\n'.join(lemmatized_list))\n",
        "#         lemmatized_list = []"
      ],
      "metadata": {
        "id": "kiMLehAdbZkT"
      },
      "execution_count": null,
      "outputs": []
    },
    {
      "cell_type": "code",
      "source": [
        "# или открыть готовый файл\n",
        "with open('lemmatized wo stop-words reviews amazon mus instruments.txt', 'r', encoding='utf-8') as f:\n",
        "    reviews = f.read().split('\\n\\n------\\n\\n')"
      ],
      "metadata": {
        "id": "eCDvd_YLcAYm"
      },
      "execution_count": null,
      "outputs": []
    },
    {
      "cell_type": "code",
      "source": [
        "musical_instruments_ngrams = [tuple(ne.split()) for ne in musical_instruments]\n",
        "\n",
        "musical_instruments_ngrams[:5]"
      ],
      "metadata": {
        "colab": {
          "base_uri": "https://localhost:8080/"
        },
        "id": "hxISjh3ToCK-",
        "outputId": "59c7bd4a-87eb-43a4-a2fe-30fb93548efe"
      },
      "execution_count": null,
      "outputs": [
        {
          "output_type": "execute_result",
          "data": {
            "text/plain": [
              "[('octave', 'mandolin'),\n",
              " ('lusheng',),\n",
              " ('chapman', 'stick'),\n",
              " ('song',),\n",
              " ('clappers',)]"
            ]
          },
          "metadata": {},
          "execution_count": 23
        }
      ]
    },
    {
      "cell_type": "code",
      "source": [
        "ner_from_dict = set()\n",
        "tokenized_reviews = []  # сохраняем токенизированные тексты\n",
        "ngrams_reviews = []  # сохраняем нграммы из текстов\n",
        "\n",
        "for rev in tqdm.tqdm(reviews):\n",
        "    # убираем мусорные пробелы\n",
        "    rev = re.sub('\\s+', ' ', rev.lower())\n",
        "\n",
        "    # токенизация пословная\n",
        "    tokenized_rev = word_tokenize(rev)\n",
        "    tokenized_reviews.append(tokenized_rev)\n",
        "\n",
        "    # униграммы, биграммы, триграммы\n",
        "\n",
        "    unigrams = set(tokenized_rev)\n",
        "    bigrams = set(nltk.bigrams(tokenized_rev))\n",
        "    trigrams = set(nltk.trigrams(tokenized_rev))\n",
        "\n",
        "    ngrams_reviews.append([unigrams, bigrams, trigrams])\n",
        "\n",
        "    for ne in musical_instruments_ngrams:\n",
        "        new_ne = None\n",
        "        if len(ne) == 1:\n",
        "            if ne[0] in unigrams:\n",
        "                new_ne = ne[0]\n",
        "        if len(ne) > 1:\n",
        "            if ne in bigrams or ne in trigrams:\n",
        "                new_ne = ne\n",
        "        if new_ne:\n",
        "            if isinstance(new_ne, str):\n",
        "                found_ne = new_ne\n",
        "            else:\n",
        "                found_ne = ' '.join(new_ne)\n",
        "            if found_ne not in ner_from_dict:\n",
        "                ner_from_dict.add(found_ne)\n",
        "\n",
        "print(len(ner_from_dict))"
      ],
      "metadata": {
        "colab": {
          "base_uri": "https://localhost:8080/"
        },
        "id": "eSpOKHJqeyFb",
        "outputId": "f766a6aa-c3d6-4c65-8260-be7f992fc453"
      },
      "execution_count": null,
      "outputs": [
        {
          "output_type": "stream",
          "name": "stderr",
          "text": [
            "100%|██████████| 208207/208207 [02:33<00:00, 1354.84it/s]"
          ]
        },
        {
          "output_type": "stream",
          "name": "stdout",
          "text": [
            "277\n"
          ]
        },
        {
          "output_type": "stream",
          "name": "stderr",
          "text": [
            "\n"
          ]
        }
      ]
    },
    {
      "cell_type": "code",
      "source": [
        "with open('tokenized reviews.txt', 'w', encoding='utf-8') as f:\n",
        "    f.write('\\n\\n------\\n\\n'.join(['\\n'.join(rev) for rev in tokenized_reviews]))"
      ],
      "metadata": {
        "id": "FUvQBsGOns8p"
      },
      "execution_count": null,
      "outputs": []
    },
    {
      "cell_type": "code",
      "source": [
        "ner_from_dict"
      ],
      "metadata": {
        "colab": {
          "base_uri": "https://localhost:8080/"
        },
        "id": "WYQKS0qOfwV6",
        "outputId": "201762f9-0456-4ec8-eb15-567e426ada4a"
      },
      "execution_count": null,
      "outputs": [
        {
          "output_type": "execute_result",
          "data": {
            "text/plain": [
              "{'accordion',\n",
              " 'acoustic bass guitar',\n",
              " 'acoustic guitar',\n",
              " 'album',\n",
              " 'alternative rock',\n",
              " 'alto clarinet',\n",
              " 'alto flute',\n",
              " 'alto saxophone',\n",
              " 'alto trombone',\n",
              " 'archtop guitar',\n",
              " 'ashiko',\n",
              " 'audio engineer',\n",
              " 'aulos',\n",
              " 'autoharp',\n",
              " 'backup band',\n",
              " 'bagpipe',\n",
              " 'bajo sexto',\n",
              " 'balalaika',\n",
              " 'band',\n",
              " 'banjo',\n",
              " 'banjo uke',\n",
              " 'baritone',\n",
              " 'baritone guitar',\n",
              " 'baritone saxophone',\n",
              " 'baroque guitar',\n",
              " 'baroque violin',\n",
              " 'barrel drum',\n",
              " 'bass banjo',\n",
              " 'bass clarinet',\n",
              " 'bass drum',\n",
              " 'bass fiddle',\n",
              " 'bass flute',\n",
              " 'bass guitar',\n",
              " 'bass horn',\n",
              " 'bass pedals',\n",
              " 'bass saxophone',\n",
              " 'bass trombone',\n",
              " 'bass trumpet',\n",
              " 'bass violin',\n",
              " 'bassoon',\n",
              " 'bazooka',\n",
              " 'beatboxing',\n",
              " 'bell',\n",
              " 'big band',\n",
              " 'bluegrass mandolin',\n",
              " 'blues',\n",
              " 'blues harp',\n",
              " 'bombard',\n",
              " 'bones',\n",
              " 'bongo drums',\n",
              " 'boomwhacker',\n",
              " 'bouzouki',\n",
              " 'brass',\n",
              " 'brass instrument',\n",
              " 'bugle',\n",
              " 'c melody saxophone',\n",
              " 'cabasa',\n",
              " 'cajun accordion',\n",
              " 'carillon',\n",
              " 'cavaquinho',\n",
              " 'cello',\n",
              " 'chalumeau',\n",
              " 'chapman stick',\n",
              " 'charango',\n",
              " 'chime',\n",
              " 'choir',\n",
              " 'chromatic harmonica',\n",
              " 'cigar box guitar',\n",
              " 'cittern',\n",
              " 'clarinet',\n",
              " 'classical guitar',\n",
              " 'claves',\n",
              " 'clavinet',\n",
              " 'concert band',\n",
              " 'concertina',\n",
              " 'conducting',\n",
              " 'conga',\n",
              " 'console steel guitar',\n",
              " 'cornet',\n",
              " 'cover version',\n",
              " 'cowbell',\n",
              " 'cuatro',\n",
              " 'cymbal',\n",
              " 'deejay',\n",
              " 'device',\n",
              " 'diddley bow',\n",
              " 'didgeridoo',\n",
              " 'digital audio workstation',\n",
              " 'digital piano',\n",
              " 'disc jockey',\n",
              " 'dizi',\n",
              " 'djembe',\n",
              " 'dobro',\n",
              " 'double bass',\n",
              " 'dreadnought',\n",
              " 'drum',\n",
              " 'drum kit',\n",
              " 'drum machine',\n",
              " 'dulcian',\n",
              " 'dulcimer',\n",
              " 'electric cello',\n",
              " 'electric guitar',\n",
              " 'electric harp',\n",
              " 'electric mandolin',\n",
              " 'electric organ',\n",
              " 'electric piano',\n",
              " 'electric ukulele',\n",
              " 'electric violin',\n",
              " 'electronic keyboard',\n",
              " 'english guitar',\n",
              " 'english horn',\n",
              " 'erhu',\n",
              " 'esraj',\n",
              " 'euphonium',\n",
              " 'extended play',\n",
              " 'fiddle',\n",
              " 'firebird',\n",
              " 'flamenco guitar',\n",
              " 'flugelhorn',\n",
              " 'flute',\n",
              " 'french horn',\n",
              " 'fretless guitar',\n",
              " 'glockenspiel',\n",
              " 'gong',\n",
              " 'guitar',\n",
              " 'guitar synthesizer',\n",
              " 'hammered dulcimer',\n",
              " 'hammond organ',\n",
              " 'hang',\n",
              " 'harmonica',\n",
              " 'harp',\n",
              " 'harp guitar',\n",
              " 'harp ukulele',\n",
              " 'harpsichord',\n",
              " 'hun',\n",
              " 'irish bouzouki',\n",
              " 'irish flute',\n",
              " 'isbn',\n",
              " 'jazz',\n",
              " 'kantele',\n",
              " 'kazoo',\n",
              " 'kettle',\n",
              " 'keyboard instrument',\n",
              " 'keytar',\n",
              " 'kobza',\n",
              " 'kora',\n",
              " 'koto',\n",
              " 'lap steel guitar',\n",
              " 'lead vocalist',\n",
              " 'log drum',\n",
              " 'lute',\n",
              " 'lute guitar',\n",
              " 'lyra',\n",
              " 'lyre',\n",
              " 'mandocello',\n",
              " 'mandola',\n",
              " 'mandolin',\n",
              " 'maraca',\n",
              " 'marimba',\n",
              " 'mellophone',\n",
              " 'mellotron',\n",
              " 'melodeon',\n",
              " 'melodica',\n",
              " 'membranophone',\n",
              " 'midi controller',\n",
              " 'midi keyboard',\n",
              " 'ney',\n",
              " 'nose flute',\n",
              " 'oboe',\n",
              " 'ocarina',\n",
              " 'octave mandolin',\n",
              " 'orchestra',\n",
              " 'organ',\n",
              " 'organ pipe',\n",
              " 'oud',\n",
              " 'overtone singing',\n",
              " 'pan flute',\n",
              " 'parlor guitar',\n",
              " 'pate',\n",
              " 'pedal steel guitar',\n",
              " 'percussion instrument',\n",
              " 'personal computer',\n",
              " 'piano',\n",
              " 'pianoforte',\n",
              " 'piccolo',\n",
              " 'piccolo trumpet',\n",
              " 'pipe',\n",
              " 'pipe organ',\n",
              " 'pitch pipe',\n",
              " 'pocket trumpet',\n",
              " 'psaltery',\n",
              " 'punk rock',\n",
              " 'quena',\n",
              " 'rain stick',\n",
              " 'record label',\n",
              " 'record producer',\n",
              " 'reed organ',\n",
              " 'remix',\n",
              " 'resonator ukulele',\n",
              " 'rhythm section',\n",
              " 'sarod',\n",
              " 'saxophone',\n",
              " 'se',\n",
              " 'selmer guitar',\n",
              " 'serpent',\n",
              " 'shakuhachi',\n",
              " 'shamisen',\n",
              " 'shofar',\n",
              " 'silent guitar',\n",
              " 'singing',\n",
              " 'siren',\n",
              " 'sitar',\n",
              " 'slide guitar',\n",
              " 'slide trumpet',\n",
              " 'slide whistle',\n",
              " 'snare drum',\n",
              " 'software synthesizer',\n",
              " 'song',\n",
              " 'songwriter',\n",
              " 'soprano',\n",
              " 'soprano clarinet',\n",
              " 'soprano cornet',\n",
              " 'soprano saxophone',\n",
              " 'sousaphone',\n",
              " 'steel drum',\n",
              " 'steel guitar',\n",
              " 'string',\n",
              " 'string bass',\n",
              " 'sweet potato',\n",
              " 'synthesiser',\n",
              " 'synthesizer',\n",
              " 'tabla',\n",
              " 'taiko',\n",
              " 'talking drum',\n",
              " 'tambourine',\n",
              " 'tanpura',\n",
              " 'tar',\n",
              " 'tenor',\n",
              " 'tenor guitar',\n",
              " 'tenor saxophone',\n",
              " 'theremin',\n",
              " 'timpani',\n",
              " 'tin whistle',\n",
              " 'tiple',\n",
              " 'tonette',\n",
              " 'train whistle',\n",
              " 'tremolo harmonica',\n",
              " 'triangle',\n",
              " 'tro',\n",
              " 'trombone',\n",
              " 'trumpet',\n",
              " 'tuba',\n",
              " 'turntable',\n",
              " 'turntablism',\n",
              " 'tympani',\n",
              " 'ukelin',\n",
              " 'ukulele',\n",
              " 'vibes',\n",
              " 'vibraphone',\n",
              " 'vibraslap',\n",
              " 'vihuela',\n",
              " 'viola da gamba',\n",
              " 'violin',\n",
              " 'vocal percussion',\n",
              " 'whip',\n",
              " 'whistle',\n",
              " 'wood',\n",
              " 'woodblock',\n",
              " 'wooden fish',\n",
              " 'woodwind',\n",
              " 'woodwind instrument',\n",
              " 'xaphoon',\n",
              " 'xiao',\n",
              " 'xylophone',\n",
              " 'yu',\n",
              " 'zill',\n",
              " 'zither'}"
            ]
          },
          "metadata": {},
          "execution_count": 26
        }
      ]
    },
    {
      "cell_type": "markdown",
      "source": [
        "На самом деле, здесь заметно, что всё-таки выделяются и лишние вещи."
      ],
      "metadata": {
        "id": "E0k9o-fLrVJZ"
      }
    },
    {
      "cell_type": "code",
      "source": [
        "len(ner_from_dict)"
      ],
      "metadata": {
        "colab": {
          "base_uri": "https://localhost:8080/"
        },
        "id": "y5ZxoJY1g3gJ",
        "outputId": "36df7a62-f0a4-4ea8-979b-d81e0cc693cf"
      },
      "execution_count": null,
      "outputs": [
        {
          "output_type": "execute_result",
          "data": {
            "text/plain": [
              "277"
            ]
          },
          "metadata": {},
          "execution_count": 27
        }
      ]
    },
    {
      "cell_type": "markdown",
      "source": [
        "Отлично! Теперь попробуем расширить наш словарь. Получим ключевые н-граммы с помощью эмбеддингов. Интуиция следующая: если мы найдём векторы слов исходя из контекста (ещё было бы хорошо, чтобы модель умела распознавать неизвестные ей слова в том числе), то сможем найти похожие на музыкальные инструменты слова из текста, так как они будут употребляться в схожем контексте. Возможно, есть смысл сравнивать с любыми музыкальными инструментами, так как нам важны именно контексты, в которых они встречаются. Выбирать будем первых 3 кандидатов, так как мы отметили, что случаев реального упоминания товара крайне мало."
      ],
      "metadata": {
        "id": "jJgzgazghQXz"
      }
    },
    {
      "cell_type": "markdown",
      "source": [
        "На самом деле, текстов достаточно много, так что мы можем обучить свою собственную модель"
      ],
      "metadata": {
        "id": "gbLrBlwj91JW"
      }
    },
    {
      "cell_type": "code",
      "source": [
        "full_text = []\n",
        "for rev in reviews:\n",
        "    rev = re.sub('\\s+', ' ', rev.lower())\n",
        "    sentences = sent_tokenize(rev)\n",
        "    full_text += sentences"
      ],
      "metadata": {
        "id": "LcMAm0qRAh3H"
      },
      "execution_count": null,
      "outputs": []
    },
    {
      "cell_type": "code",
      "source": [
        "len(full_text)"
      ],
      "metadata": {
        "colab": {
          "base_uri": "https://localhost:8080/"
        },
        "id": "199y5-IbBFhZ",
        "outputId": "b452af88-1c1f-4044-b3fa-c77959d803dd"
      },
      "execution_count": null,
      "outputs": [
        {
          "output_type": "execute_result",
          "data": {
            "text/plain": [
              "210329"
            ]
          },
          "metadata": {},
          "execution_count": 29
        }
      ]
    },
    {
      "cell_type": "code",
      "source": [
        "full_text[1]"
      ],
      "metadata": {
        "colab": {
          "base_uri": "https://localhost:8080/",
          "height": 36
        },
        "id": "p4u6_2UdBHvv",
        "outputId": "4f7e7641-aec5-408f-d89b-ec57379ade88"
      },
      "execution_count": null,
      "outputs": [
        {
          "output_type": "execute_result",
          "data": {
            "text/plain": [
              "'recommend starter ukulele kit everything need learn ukulele'"
            ],
            "application/vnd.google.colaboratory.intrinsic+json": {
              "type": "string"
            }
          },
          "metadata": {},
          "execution_count": 33
        }
      ]
    },
    {
      "cell_type": "code",
      "source": [
        "with open('for model.txt', 'w', encoding='utf-8') as f:\n",
        "    f.write('\\n'.join(full_text))"
      ],
      "metadata": {
        "id": "c9fom_zyBchg"
      },
      "execution_count": null,
      "outputs": []
    },
    {
      "cell_type": "code",
      "source": [
        "f = 'for model.txt'\n",
        "data = gensim.models.word2vec.LineSentence(f)\n",
        "phrases = Phrases(data, min_count=1, threshold=1)"
      ],
      "metadata": {
        "id": "ZEvU-lCvB9h7"
      },
      "execution_count": null,
      "outputs": []
    },
    {
      "cell_type": "code",
      "source": [
        "model = gensim.models.Word2Vec(phrases[data], size=300, window=5, min_count=2)"
      ],
      "metadata": {
        "id": "yjZRFNEuCVAn",
        "colab": {
          "base_uri": "https://localhost:8080/"
        },
        "outputId": "979762d1-7402-4f07-e598-de20de9e4ae8"
      },
      "execution_count": null,
      "outputs": [
        {
          "output_type": "stream",
          "name": "stderr",
          "text": [
            "/usr/local/lib/python3.8/dist-packages/gensim/models/phrases.py:598: UserWarning: For a faster implementation, use the gensim.models.phrases.Phraser class\n",
            "  warnings.warn(\"For a faster implementation, use the gensim.models.phrases.Phraser class\")\n"
          ]
        }
      ]
    },
    {
      "cell_type": "code",
      "source": [
        "model.init_sims(replace=True)\n",
        "model_path = \"model.bin\"\n",
        "\n",
        "model.wv.save_word2vec_format(model_path, binary=True)"
      ],
      "metadata": {
        "id": "7_SggHolCYXY"
      },
      "execution_count": null,
      "outputs": []
    },
    {
      "cell_type": "markdown",
      "source": [
        "Смотрим сходство:"
      ],
      "metadata": {
        "id": "N27MsvyNH7Vj"
      }
    },
    {
      "cell_type": "code",
      "source": [
        "model = gensim.models.KeyedVectors.load_word2vec_format('model.bin', binary=True)"
      ],
      "metadata": {
        "id": "j1Y-aprGH5GG"
      },
      "execution_count": null,
      "outputs": []
    },
    {
      "cell_type": "code",
      "source": [
        "ner_from_dict_vecs = {}\n",
        "for instr in ner_from_dict:\n",
        "    # проверить коллокацию сразу нельзя\n",
        "    splited_instr = instr.split()\n",
        "    if len(splited_instr) > 1:\n",
        "        instr_vecs = []\n",
        "        for i in splited_instr:\n",
        "            if i in model:\n",
        "                instr_vecs.append(model[i])\n",
        "        if len(instr_vecs) > 1:\n",
        "            ner_from_dict_vecs[instr] = np.array(instr_vecs).mean(axis=0)\n",
        "        else:\n",
        "            ner_from_dict_vecs[instr] = instr_vecs[0]\n",
        "    else:\n",
        "        if splited_instr[0] in model:\n",
        "            ner_from_dict_vecs[splited_instr[0]] = model[splited_instr[0]]"
      ],
      "metadata": {
        "id": "0BOrTH0WNYJT"
      },
      "execution_count": null,
      "outputs": []
    },
    {
      "cell_type": "code",
      "source": [
        "ner_from_dict_vecs['kazoo']"
      ],
      "metadata": {
        "colab": {
          "base_uri": "https://localhost:8080/"
        },
        "id": "_e1d0UktwkSz",
        "outputId": "e7b07cfb-044b-4534-b1d3-41d6852bb0b1"
      },
      "execution_count": null,
      "outputs": [
        {
          "output_type": "execute_result",
          "data": {
            "text/plain": [
              "array([ 9.14176181e-02,  1.53432554e-02, -1.27983168e-01,  4.85348850e-02,\n",
              "        1.04357526e-02,  1.04593158e-01,  7.22777247e-02, -1.94444976e-04,\n",
              "        2.71386541e-02, -6.54474646e-02,  4.52086926e-02,  1.11690395e-01,\n",
              "       -8.36484414e-03,  4.05251868e-02,  6.00370802e-02,  5.46973012e-02,\n",
              "       -4.56930175e-02, -5.41922171e-03,  8.97701904e-02, -2.98418682e-02,\n",
              "       -6.34310171e-02, -1.22706272e-01, -4.12986763e-02,  4.17748876e-02,\n",
              "        2.92769372e-02,  4.14482206e-02, -2.48319358e-02,  4.99588959e-02,\n",
              "        3.25732194e-02,  4.16288711e-02,  2.62486428e-04,  1.59622785e-02,\n",
              "        2.14661565e-02,  1.11659365e-02, -5.03697284e-02, -5.31667992e-02,\n",
              "       -7.05442578e-02, -3.31101455e-02, -4.47181575e-02,  4.81416192e-03,\n",
              "        9.23014954e-02, -1.38544720e-02,  3.78281288e-02,  3.86178456e-02,\n",
              "       -7.03576878e-02, -7.96595775e-03, -1.47384657e-02, -1.38688674e-02,\n",
              "       -3.42422985e-02,  1.16511770e-01, -1.63746979e-02,  1.34706959e-01,\n",
              "       -5.67535870e-02,  2.98715886e-02, -2.55262386e-02,  7.09344074e-02,\n",
              "       -1.24108905e-04, -6.45693690e-02,  1.76039599e-02, -5.05008781e-03,\n",
              "        6.00794964e-02, -2.50044782e-02,  4.02009599e-02,  2.34884080e-02,\n",
              "        4.39354144e-02, -5.26798889e-02, -2.87731718e-02, -4.86639850e-02,\n",
              "       -1.07410252e-02,  1.77152734e-02, -8.51702038e-03,  2.49377955e-02,\n",
              "        4.60681580e-02,  9.08078067e-03,  6.73136786e-02,  2.97195967e-02,\n",
              "        5.68626150e-02, -4.33895476e-02,  1.00212023e-02,  2.45181248e-02,\n",
              "        7.93770328e-02,  9.51107964e-02, -1.35686606e-01,  2.75029279e-02,\n",
              "       -5.22968695e-02, -2.49645505e-02,  1.04101874e-01,  2.19496191e-02,\n",
              "        3.76502201e-02,  3.18040587e-02, -5.87031841e-02,  7.78888911e-02,\n",
              "        4.06538062e-02, -3.92450765e-02, -3.23990770e-02,  3.94422188e-02,\n",
              "        5.63377589e-02, -1.12962606e-03,  2.71265022e-02,  1.12141399e-02,\n",
              "        9.58679989e-02, -1.66363250e-02, -3.98415849e-02,  1.09498434e-01,\n",
              "        1.58055266e-03,  3.19032595e-02,  4.65069786e-02,  8.96660686e-02,\n",
              "        7.44899660e-02,  6.74523488e-02,  1.92916923e-05,  1.67545043e-02,\n",
              "       -2.06787419e-02,  4.26969901e-02,  3.36959325e-02, -5.55306859e-02,\n",
              "        5.21647632e-02, -5.29103875e-02, -1.60424951e-02,  9.53507945e-02,\n",
              "        1.24366430e-03, -5.08005060e-02,  4.85939197e-02, -8.02744329e-02,\n",
              "        1.21635005e-01,  6.34716675e-02, -1.02978185e-01,  5.07999212e-02,\n",
              "       -2.20600683e-02,  3.07854787e-02, -2.78180577e-02,  4.49445061e-02,\n",
              "        2.29518879e-02,  4.49354574e-02, -3.27054039e-02,  2.00535897e-02,\n",
              "       -1.79978088e-02,  3.52390558e-02, -5.79236895e-02,  2.33541410e-02,\n",
              "        3.85482609e-02,  3.35259475e-02,  1.42499311e-02,  2.31428910e-02,\n",
              "       -3.46584506e-02,  2.22758465e-02,  9.43814665e-02,  4.52929512e-02,\n",
              "       -1.99054107e-02,  2.20652763e-03,  2.47223787e-02, -1.58226237e-01,\n",
              "        2.44037155e-02,  7.70400912e-02,  9.01645944e-02, -1.31530575e-02,\n",
              "       -2.99193878e-02,  5.16544282e-02, -2.04778221e-02, -3.06032635e-02,\n",
              "        5.55503145e-02,  4.33365442e-02,  1.66208055e-02, -4.88612056e-02,\n",
              "       -2.69377213e-02, -1.94491055e-02, -2.73599243e-03, -3.36703099e-02,\n",
              "       -1.41210377e-01,  5.08581987e-03, -5.74357435e-02, -2.24523805e-02,\n",
              "        6.04361529e-03, -9.59781408e-02,  7.37694949e-02, -1.32714603e-02,\n",
              "        4.42469716e-02, -1.84125211e-02,  3.80122215e-02,  3.86706479e-02,\n",
              "        7.55015016e-02, -2.68820524e-01, -1.01833358e-01, -2.46487539e-02,\n",
              "        1.55434164e-03,  1.28620490e-02,  2.55253948e-02,  2.73839962e-02,\n",
              "        8.75112936e-02, -6.03444800e-02, -7.48225972e-02, -1.14720933e-01,\n",
              "       -6.38030022e-02,  1.67116504e-02, -1.01582021e-01,  3.55105363e-02,\n",
              "       -3.05332337e-02,  4.85452451e-02, -1.17437495e-02, -3.73993590e-02,\n",
              "        3.83998081e-02, -1.85171627e-02, -2.72444263e-02, -2.80408487e-02,\n",
              "       -3.08555178e-02, -6.78803101e-02,  8.87268931e-02,  1.94696710e-02,\n",
              "        1.10375158e-01, -4.02770378e-02,  7.72416890e-02, -1.68556031e-02,\n",
              "       -6.13758452e-02,  4.46003005e-02,  3.57489754e-03,  2.86930054e-03,\n",
              "        4.29135934e-02,  3.18494551e-02,  4.31114584e-02,  2.10424457e-02,\n",
              "       -1.93040445e-02,  9.51118954e-03,  7.91338086e-02, -1.19519960e-02,\n",
              "       -1.47900768e-02, -4.97664846e-02, -1.76099956e-01,  1.30390808e-01,\n",
              "        4.24181856e-02,  1.41227722e-01,  2.35550310e-02,  2.23894827e-02,\n",
              "       -7.54199475e-02,  2.94497572e-02,  2.62725726e-02, -7.90124293e-03,\n",
              "        9.29438248e-02,  3.07174493e-02, -2.44541783e-02, -6.34588599e-02,\n",
              "        5.21528982e-02,  1.20872846e-02, -2.33699800e-03,  1.01614177e-01,\n",
              "       -4.81623709e-02, -1.12981178e-01,  9.21359938e-03, -4.21396531e-02,\n",
              "       -8.65053944e-03,  1.20912001e-01, -4.41800654e-02,  1.68490421e-03,\n",
              "        3.81697267e-02,  2.10069716e-02,  3.93099338e-02,  4.40071449e-02,\n",
              "       -2.02791058e-02, -5.19510098e-02, -1.78509485e-02, -2.02478897e-02,\n",
              "        5.09737572e-03, -3.82831283e-02, -8.17963853e-02, -6.15491625e-03,\n",
              "        2.00927183e-02, -1.05998285e-01,  7.30151776e-03,  8.21559951e-02,\n",
              "       -3.34358662e-02,  4.22181487e-02,  3.37929688e-02,  2.64478549e-02,\n",
              "        2.31797509e-02,  9.02329534e-02, -9.41379815e-02,  1.50416922e-02,\n",
              "        1.06065832e-02,  2.67401244e-02, -3.00696045e-02, -3.94306332e-02,\n",
              "        1.16623707e-01, -5.92151843e-02, -5.44760786e-02, -2.58223396e-02,\n",
              "       -6.04776628e-02, -6.76329732e-02, -7.06684357e-03, -1.57947272e-01,\n",
              "        4.34081964e-02,  1.28925852e-02, -1.77398212e-02, -3.15846726e-02,\n",
              "       -2.43359152e-02,  2.90835463e-02, -2.89651267e-02,  1.94437355e-02,\n",
              "       -4.87196259e-02, -1.91277601e-02, -4.83911745e-02, -6.53449446e-02],\n",
              "      dtype=float32)"
            ]
          },
          "metadata": {},
          "execution_count": 33
        }
      ]
    },
    {
      "cell_type": "code",
      "source": [
        "len(ner_from_dict_vecs)"
      ],
      "metadata": {
        "colab": {
          "base_uri": "https://localhost:8080/"
        },
        "id": "ArivzsCGs78A",
        "outputId": "9589916e-29af-454e-bf11-00ca45f77017"
      },
      "execution_count": null,
      "outputs": [
        {
          "output_type": "execute_result",
          "data": {
            "text/plain": [
              "244"
            ]
          },
          "metadata": {},
          "execution_count": 34
        }
      ]
    },
    {
      "cell_type": "code",
      "source": [
        "ner_words = list(ner_from_dict_vecs)\n",
        "ner_vecs = np.array(list(ner_from_dict_vecs.values()))"
      ],
      "metadata": {
        "id": "bFrqXD_eo3Zv"
      },
      "execution_count": null,
      "outputs": []
    },
    {
      "cell_type": "code",
      "source": [
        "ner_vecs.shape"
      ],
      "metadata": {
        "colab": {
          "base_uri": "https://localhost:8080/"
        },
        "id": "KtoVkZddwqtz",
        "outputId": "26d2f392-7861-4fae-dba9-0493a862e16e"
      },
      "execution_count": null,
      "outputs": [
        {
          "output_type": "execute_result",
          "data": {
            "text/plain": [
              "(244, 300)"
            ]
          },
          "metadata": {},
          "execution_count": 36
        }
      ]
    },
    {
      "cell_type": "code",
      "source": [
        "new_candidates = []\n",
        "dict_vec = ner_vecs.mean(axis=0).reshape(1, -1)\n",
        "\n",
        "for rev in tqdm.tqdm(ngrams_reviews):\n",
        "    rev_info = {}\n",
        "\n",
        "    # униграммы\n",
        "    for unigram in rev[0]:\n",
        "        if unigram in model:\n",
        "            rev_info[unigram] = model[unigram]\n",
        "\n",
        "    # биграммы\n",
        "    for b in rev[1]:\n",
        "        bigram = ' '.join(b)\n",
        "        instr_vecs = []\n",
        "        for i in b:\n",
        "            if i in model:\n",
        "                instr_vecs.append(model[i])\n",
        "        if len(instr_vecs) > 1:\n",
        "            rev_info[bigram] = np.array(instr_vecs).mean(axis=0)\n",
        "        if len(instr_vecs) == 1:\n",
        "            rev_info[bigram] = instr_vecs[0]\n",
        "\n",
        "    # триграммы\n",
        "    for t in rev[2]:\n",
        "        trigram = ' '.join(t)\n",
        "        instr_vecs = []\n",
        "        for i in t:\n",
        "            if i in model:\n",
        "                instr_vecs.append(model[i])\n",
        "        if len(instr_vecs) > 1:\n",
        "            rev_info[trigram] = np.array(instr_vecs).mean(axis=0)\n",
        "        if len(instr_vecs) == 1:\n",
        "            rev_info[trigram] = instr_vecs[0]\n",
        "\n",
        "    # сравнение\n",
        "    text_words = np.array(list(rev_info))\n",
        "    text_vecs = np.array(list(rev_info.values()))\n",
        "\n",
        "    if len(text_vecs) >= 3:\n",
        "\n",
        "        # допустим, нужная коллокация будет похожа на средний вектор от всех векторов слов из словаря\n",
        "        scores = cosine_similarity(text_vecs, dict_vec)\n",
        "        # ограничим скор, должен быть хотя бы больше 0.5\n",
        "        if np.any(scores.ravel() > 0.5):\n",
        "            sorted_scores_indx = np.argsort(scores, axis=0)[::-1]\n",
        "            new_candidates.append(list(text_words[sorted_scores_indx.ravel()])[0])"
      ],
      "metadata": {
        "id": "PGVpu8DqIis-",
        "colab": {
          "base_uri": "https://localhost:8080/"
        },
        "outputId": "f24409f7-6d2e-4631-bffb-316ef2119c59"
      },
      "execution_count": null,
      "outputs": [
        {
          "output_type": "stream",
          "name": "stderr",
          "text": [
            "100%|██████████| 208207/208207 [11:34<00:00, 299.90it/s]\n"
          ]
        }
      ]
    },
    {
      "cell_type": "code",
      "source": [
        "print(new_candidates[:5])"
      ],
      "metadata": {
        "colab": {
          "base_uri": "https://localhost:8080/"
        },
        "id": "Ng3QxA4Atjrq",
        "outputId": "833e3db2-93dc-4233-82e4-1d21fcf0a429"
      },
      "execution_count": null,
      "outputs": [
        {
          "output_type": "stream",
          "name": "stdout",
          "text": [
            "['beginner', 'starter', 'christmas present', 'quibble jordan play', 'self favor']\n"
          ]
        }
      ]
    },
    {
      "cell_type": "code",
      "source": [
        "final_ner = set(ner_words + new_candidates)\n",
        "\n",
        "len(final_ner)"
      ],
      "metadata": {
        "id": "GkpRxYvAzqma",
        "colab": {
          "base_uri": "https://localhost:8080/"
        },
        "outputId": "05602852-cd09-4ae7-d581-1ab8842b3e63"
      },
      "execution_count": null,
      "outputs": [
        {
          "output_type": "execute_result",
          "data": {
            "text/plain": [
              "84412"
            ]
          },
          "metadata": {},
          "execution_count": 39
        }
      ]
    },
    {
      "cell_type": "markdown",
      "source": [
        "Серьёзное увеличение:) Интересно, насколько много там нерелевантного и насколько много там того, что можно было бы объединить под одним названием.."
      ],
      "metadata": {
        "id": "1MydePqyhlnt"
      }
    },
    {
      "cell_type": "code",
      "source": [
        "with open('final_ner.txt', 'w', encoding='utf-8') as f:\n",
        "    f.write('\\n'.join(final_ner))"
      ],
      "metadata": {
        "id": "p2eliFzu1ZHw"
      },
      "execution_count": null,
      "outputs": []
    },
    {
      "cell_type": "markdown",
      "source": [
        "Непонятно, стоит ли сейчас объединять их. Попробуем найти релевантное без объединения, а затем посмотрим на то, как их можно объединить."
      ],
      "metadata": {
        "id": "SdrWy-wASWgI"
      }
    },
    {
      "cell_type": "markdown",
      "source": [
        "## Коллокации\n"
      ],
      "metadata": {
        "id": "nI_sIhWPzOtr"
      }
    },
    {
      "cell_type": "markdown",
      "source": [
        "Сначала отранжируем униграммы, триграммы и униграммы, а затем будем искать в них нужные, в конечном итоге достанем уже со скором."
      ],
      "metadata": {
        "id": "YM11a4Ss1-96"
      }
    },
    {
      "cell_type": "code",
      "source": [
        "with open('tokenized reviews.txt', 'r', encoding='utf-8') as f:\n",
        "    tokenized_reviews = [rev.split('\\n') for rev in f.read().split('\\n\\n------\\n\\n')]"
      ],
      "metadata": {
        "id": "hJ2xonVoE6iG"
      },
      "execution_count": 4,
      "outputs": []
    },
    {
      "cell_type": "code",
      "source": [
        "len(tokenized_reviews)"
      ],
      "metadata": {
        "colab": {
          "base_uri": "https://localhost:8080/"
        },
        "id": "6SZdQrsxFTUT",
        "outputId": "e695141f-acaa-483a-edcc-a30075e48241"
      },
      "execution_count": 5,
      "outputs": [
        {
          "output_type": "execute_result",
          "data": {
            "text/plain": [
              "208207"
            ]
          },
          "metadata": {},
          "execution_count": 5
        }
      ]
    },
    {
      "cell_type": "code",
      "source": [
        "bigram_measures = nltk.collocations.BigramAssocMeasures()\n",
        "finder2 = nltk.collocations.BigramCollocationFinder.from_documents(tokenized_reviews)\n",
        "finder2.apply_freq_filter(2)  # вряд ли что-то будет часто повторяться"
      ],
      "metadata": {
        "id": "s2bLbiLu2V2k"
      },
      "execution_count": 6,
      "outputs": []
    },
    {
      "cell_type": "code",
      "source": [
        "scored2_pmi = finder2.score_ngrams(bigram_measures.pmi)"
      ],
      "metadata": {
        "id": "sjqaYU6KRV59"
      },
      "execution_count": null,
      "outputs": []
    },
    {
      "cell_type": "code",
      "source": [
        "scored2_raw_freq = finder2.score_ngrams(bigram_measures.raw_freq)"
      ],
      "metadata": {
        "id": "gcNFcvwyJCf1"
      },
      "execution_count": 7,
      "outputs": []
    },
    {
      "cell_type": "code",
      "source": [
        "scored2_likelihood_ratio = finder2.score_ngrams(bigram_measures.likelihood_ratio)"
      ],
      "metadata": {
        "id": "f00s0QjQJE9a"
      },
      "execution_count": null,
      "outputs": []
    },
    {
      "cell_type": "code",
      "source": [
        "trigram_measures = nltk.collocations.TrigramAssocMeasures()\n",
        "finder3 = nltk.collocations.TrigramCollocationFinder.from_documents(tokenized_reviews)\n",
        "finder3.apply_freq_filter(2)"
      ],
      "metadata": {
        "id": "nwlEYVPplr8i"
      },
      "execution_count": 12,
      "outputs": []
    },
    {
      "cell_type": "code",
      "source": [
        "scored3_pmi = finder3.score_ngrams(trigram_measures.pmi)"
      ],
      "metadata": {
        "id": "JOfW7bODRYGO"
      },
      "execution_count": null,
      "outputs": []
    },
    {
      "cell_type": "code",
      "source": [
        "scored3_raw_freq = finder3.score_ngrams(trigram_measures.raw_freq)"
      ],
      "metadata": {
        "id": "6FyO_7FGJHU1"
      },
      "execution_count": 13,
      "outputs": []
    },
    {
      "cell_type": "code",
      "source": [
        "scored3_likelihood_ratio = finder3.score_ngrams(trigram_measures.likelihood_ratio)"
      ],
      "metadata": {
        "id": "dQrUtMBpJIyT"
      },
      "execution_count": null,
      "outputs": []
    },
    {
      "cell_type": "code",
      "source": [
        "quadgram_measures = nltk.collocations.QuadgramAssocMeasures()\n",
        "finder4 = nltk.collocations.QuadgramCollocationFinder.from_documents(tokenized_reviews)\n",
        "# здесь ничего, потому что квадграммы -- это вообще редкие штуки"
      ],
      "metadata": {
        "id": "P3mtBKQY8N6Y",
        "colab": {
          "base_uri": "https://localhost:8080/",
          "height": 345
        },
        "outputId": "8b9cd0cf-1b63-4a0f-87bc-2e8d663085ea"
      },
      "execution_count": 14,
      "outputs": [
        {
          "output_type": "error",
          "ename": "KeyboardInterrupt",
          "evalue": "ignored",
          "traceback": [
            "\u001b[0;31m---------------------------------------------------------------------------\u001b[0m",
            "\u001b[0;31mKeyboardInterrupt\u001b[0m                         Traceback (most recent call last)",
            "\u001b[0;32m<ipython-input-14-3bf2339d32c3>\u001b[0m in \u001b[0;36m<module>\u001b[0;34m\u001b[0m\n\u001b[1;32m      1\u001b[0m \u001b[0mquadgram_measures\u001b[0m \u001b[0;34m=\u001b[0m \u001b[0mnltk\u001b[0m\u001b[0;34m.\u001b[0m\u001b[0mcollocations\u001b[0m\u001b[0;34m.\u001b[0m\u001b[0mQuadgramAssocMeasures\u001b[0m\u001b[0;34m(\u001b[0m\u001b[0;34m)\u001b[0m\u001b[0;34m\u001b[0m\u001b[0;34m\u001b[0m\u001b[0m\n\u001b[0;32m----> 2\u001b[0;31m \u001b[0mfinder4\u001b[0m \u001b[0;34m=\u001b[0m \u001b[0mnltk\u001b[0m\u001b[0;34m.\u001b[0m\u001b[0mcollocations\u001b[0m\u001b[0;34m.\u001b[0m\u001b[0mQuadgramCollocationFinder\u001b[0m\u001b[0;34m.\u001b[0m\u001b[0mfrom_documents\u001b[0m\u001b[0;34m(\u001b[0m\u001b[0mtokenized_reviews\u001b[0m\u001b[0;34m)\u001b[0m\u001b[0;34m\u001b[0m\u001b[0;34m\u001b[0m\u001b[0m\n\u001b[0m\u001b[1;32m      3\u001b[0m \u001b[0;31m# здесь ничего, потому что квадграммы -- это вообще редкие штуки\u001b[0m\u001b[0;34m\u001b[0m\u001b[0;34m\u001b[0m\u001b[0;34m\u001b[0m\u001b[0m\n",
            "\u001b[0;32m/usr/local/lib/python3.8/dist-packages/nltk/collocations.py\u001b[0m in \u001b[0;36mfrom_documents\u001b[0;34m(cls, documents)\u001b[0m\n\u001b[1;32m     84\u001b[0m         \"\"\"\n\u001b[1;32m     85\u001b[0m         \u001b[0;31m# return cls.from_words(_itertools.chain(*documents))\u001b[0m\u001b[0;34m\u001b[0m\u001b[0;34m\u001b[0m\u001b[0;34m\u001b[0m\u001b[0m\n\u001b[0;32m---> 86\u001b[0;31m         return cls.from_words(\n\u001b[0m\u001b[1;32m     87\u001b[0m             \u001b[0mcls\u001b[0m\u001b[0;34m.\u001b[0m\u001b[0m_build_new_documents\u001b[0m\u001b[0;34m(\u001b[0m\u001b[0mdocuments\u001b[0m\u001b[0;34m,\u001b[0m \u001b[0mcls\u001b[0m\u001b[0;34m.\u001b[0m\u001b[0mdefault_ws\u001b[0m\u001b[0;34m,\u001b[0m \u001b[0mpad_right\u001b[0m\u001b[0;34m=\u001b[0m\u001b[0;32mTrue\u001b[0m\u001b[0;34m)\u001b[0m\u001b[0;34m\u001b[0m\u001b[0;34m\u001b[0m\u001b[0m\n\u001b[1;32m     88\u001b[0m         )\n",
            "\u001b[0;32m/usr/local/lib/python3.8/dist-packages/nltk/collocations.py\u001b[0m in \u001b[0;36mfrom_words\u001b[0;34m(cls, words, window_size)\u001b[0m\n\u001b[1;32m    318\u001b[0m                 \u001b[0mixxi\u001b[0m\u001b[0;34m[\u001b[0m\u001b[0;34m(\u001b[0m\u001b[0mw1\u001b[0m\u001b[0;34m,\u001b[0m \u001b[0mw4\u001b[0m\u001b[0;34m)\u001b[0m\u001b[0;34m]\u001b[0m \u001b[0;34m+=\u001b[0m \u001b[0;36m1\u001b[0m\u001b[0;34m\u001b[0m\u001b[0;34m\u001b[0m\u001b[0m\n\u001b[1;32m    319\u001b[0m                 \u001b[0mixii\u001b[0m\u001b[0;34m[\u001b[0m\u001b[0;34m(\u001b[0m\u001b[0mw1\u001b[0m\u001b[0;34m,\u001b[0m \u001b[0mw3\u001b[0m\u001b[0;34m,\u001b[0m \u001b[0mw4\u001b[0m\u001b[0;34m)\u001b[0m\u001b[0;34m]\u001b[0m \u001b[0;34m+=\u001b[0m \u001b[0;36m1\u001b[0m\u001b[0;34m\u001b[0m\u001b[0;34m\u001b[0m\u001b[0m\n\u001b[0;32m--> 320\u001b[0;31m                 \u001b[0miixi\u001b[0m\u001b[0;34m[\u001b[0m\u001b[0;34m(\u001b[0m\u001b[0mw1\u001b[0m\u001b[0;34m,\u001b[0m \u001b[0mw2\u001b[0m\u001b[0;34m,\u001b[0m \u001b[0mw4\u001b[0m\u001b[0;34m)\u001b[0m\u001b[0;34m]\u001b[0m \u001b[0;34m+=\u001b[0m \u001b[0;36m1\u001b[0m\u001b[0;34m\u001b[0m\u001b[0;34m\u001b[0m\u001b[0m\n\u001b[0m\u001b[1;32m    321\u001b[0m \u001b[0;34m\u001b[0m\u001b[0m\n\u001b[1;32m    322\u001b[0m         \u001b[0;32mreturn\u001b[0m \u001b[0mcls\u001b[0m\u001b[0;34m(\u001b[0m\u001b[0mixxx\u001b[0m\u001b[0;34m,\u001b[0m \u001b[0miiii\u001b[0m\u001b[0;34m,\u001b[0m \u001b[0mii\u001b[0m\u001b[0;34m,\u001b[0m \u001b[0miii\u001b[0m\u001b[0;34m,\u001b[0m \u001b[0mixi\u001b[0m\u001b[0;34m,\u001b[0m \u001b[0mixxi\u001b[0m\u001b[0;34m,\u001b[0m \u001b[0miixi\u001b[0m\u001b[0;34m,\u001b[0m \u001b[0mixii\u001b[0m\u001b[0;34m)\u001b[0m\u001b[0;34m\u001b[0m\u001b[0;34m\u001b[0m\u001b[0m\n",
            "\u001b[0;32m/usr/local/lib/python3.8/dist-packages/nltk/probability.py\u001b[0m in \u001b[0;36m__setitem__\u001b[0;34m(self, key, val)\u001b[0m\n\u001b[1;32m    124\u001b[0m         \"\"\"\n\u001b[1;32m    125\u001b[0m         \u001b[0mself\u001b[0m\u001b[0;34m.\u001b[0m\u001b[0m_N\u001b[0m \u001b[0;34m=\u001b[0m \u001b[0;32mNone\u001b[0m\u001b[0;34m\u001b[0m\u001b[0;34m\u001b[0m\u001b[0m\n\u001b[0;32m--> 126\u001b[0;31m         \u001b[0msuper\u001b[0m\u001b[0;34m(\u001b[0m\u001b[0;34m)\u001b[0m\u001b[0;34m.\u001b[0m\u001b[0m__setitem__\u001b[0m\u001b[0;34m(\u001b[0m\u001b[0mkey\u001b[0m\u001b[0;34m,\u001b[0m \u001b[0mval\u001b[0m\u001b[0;34m)\u001b[0m\u001b[0;34m\u001b[0m\u001b[0;34m\u001b[0m\u001b[0m\n\u001b[0m\u001b[1;32m    127\u001b[0m \u001b[0;34m\u001b[0m\u001b[0m\n\u001b[1;32m    128\u001b[0m     \u001b[0;32mdef\u001b[0m \u001b[0m__delitem__\u001b[0m\u001b[0;34m(\u001b[0m\u001b[0mself\u001b[0m\u001b[0;34m,\u001b[0m \u001b[0mkey\u001b[0m\u001b[0;34m)\u001b[0m\u001b[0;34m:\u001b[0m\u001b[0;34m\u001b[0m\u001b[0;34m\u001b[0m\u001b[0m\n",
            "\u001b[0;31mKeyboardInterrupt\u001b[0m: "
          ]
        }
      ]
    },
    {
      "cell_type": "code",
      "source": [
        "scored4_pmi = finder4.score_ngrams(quadgram_measures.pmi)"
      ],
      "metadata": {
        "id": "AeIxBcuzRaoH"
      },
      "execution_count": null,
      "outputs": []
    },
    {
      "cell_type": "code",
      "source": [
        "scored4_raw_freq = finder4.score_ngrams(quadgram_measures.raw_freq)"
      ],
      "metadata": {
        "id": "GjCzCjRSJUlf"
      },
      "execution_count": null,
      "outputs": []
    },
    {
      "cell_type": "code",
      "source": [
        "scored4_likelihood_ratio = finder4.score_ngrams(quadgram_measures.likelihood_ratio)"
      ],
      "metadata": {
        "id": "Ovx8C1Q_JWF5"
      },
      "execution_count": null,
      "outputs": []
    },
    {
      "cell_type": "code",
      "source": [
        "len(scored4_raw_freq)"
      ],
      "metadata": {
        "id": "6yOVQW36WegS"
      },
      "execution_count": null,
      "outputs": []
    },
    {
      "cell_type": "markdown",
      "source": [
        "Пробуем:"
      ],
      "metadata": {
        "id": "zi8JD7FQJXUJ"
      }
    },
    {
      "cell_type": "code",
      "source": [
        "with open('final_ner.txt', 'r', encoding='utf-8') as f:\n",
        "    final_ner = f.read().split('\\n')"
      ],
      "metadata": {
        "id": "hIczunCgo3VZ"
      },
      "execution_count": 8,
      "outputs": []
    },
    {
      "cell_type": "code",
      "source": [
        "len(final_ner)"
      ],
      "metadata": {
        "colab": {
          "base_uri": "https://localhost:8080/"
        },
        "id": "1yJDwLhbZBrV",
        "outputId": "ab376b39-d6cf-4395-a8bc-ed8e6a2e5a21"
      },
      "execution_count": 9,
      "outputs": [
        {
          "output_type": "execute_result",
          "data": {
            "text/plain": [
              "84412"
            ]
          },
          "metadata": {},
          "execution_count": 9
        }
      ]
    },
    {
      "cell_type": "code",
      "source": [
        "final_ner_unigrams = []\n",
        "final_ner_bigrams = []\n",
        "final_ner_trigrams = []\n",
        "\n",
        "for ne in final_ner:\n",
        "    splited_ne = ne.split()\n",
        "    if len(splited_ne) == 1:\n",
        "        final_ner_unigrams.append(ne)\n",
        "    if len(splited_ne) == 2:\n",
        "        final_ner_bigrams.append(ne)\n",
        "    if len(splited_ne) == 3:\n",
        "        final_ner_trigrams.append(ne)"
      ],
      "metadata": {
        "id": "o-eS1IziZDn0"
      },
      "execution_count": 10,
      "outputs": []
    },
    {
      "cell_type": "code",
      "source": [
        "len(final_ner_unigrams)"
      ],
      "metadata": {
        "colab": {
          "base_uri": "https://localhost:8080/"
        },
        "id": "_3yAvwukaRPA",
        "outputId": "b228f996-fb05-49d0-d9de-d66d6d9fc068"
      },
      "execution_count": 11,
      "outputs": [
        {
          "output_type": "execute_result",
          "data": {
            "text/plain": [
              "8779"
            ]
          },
          "metadata": {},
          "execution_count": 11
        }
      ]
    },
    {
      "cell_type": "code",
      "source": [
        "final_ner_bigrams[:10]"
      ],
      "metadata": {
        "colab": {
          "base_uri": "https://localhost:8080/"
        },
        "id": "gC1ILP1yaaEf",
        "outputId": "f00ef0ab-6996-420b-d196-671159c2780f"
      },
      "execution_count": 12,
      "outputs": [
        {
          "output_type": "execute_result",
          "data": {
            "text/plain": [
              "['town pure',\n",
              " 'odd assortment',\n",
              " 'ease thousand',\n",
              " 'seated adult',\n",
              " 'axis remarkable',\n",
              " 'broad adult',\n",
              " 'chair eleven',\n",
              " 'recommendation unclear',\n",
              " 'lean bongo',\n",
              " 'yamahas yamahas']"
            ]
          },
          "metadata": {},
          "execution_count": 12
        }
      ]
    },
    {
      "cell_type": "code",
      "source": [
        "def colls_for_unigrams(scored, ner_unigrams):\n",
        "    '''\n",
        "    Get bigrams with target unigrams.\n",
        "    '''\n",
        "    for_unigrams = {}\n",
        "    for unigram in tqdm.tqdm(ner_unigrams):\n",
        "        bigrams = []\n",
        "        for bigram, score in scored:\n",
        "            if unigram in bigram:\n",
        "                bigram = ' '.join(bigram)\n",
        "                bigrams.append((bigram, score))\n",
        "        for_unigrams[unigram] = bigrams\n",
        "\n",
        "    return for_unigrams"
      ],
      "metadata": {
        "id": "gqOuMYJezbPR"
      },
      "execution_count": 14,
      "outputs": []
    },
    {
      "cell_type": "code",
      "source": [
        "def colls_for_bigrams(scored, ner_bigrams):\n",
        "    '''\n",
        "    Get trigrams with target bigrams.\n",
        "    '''\n",
        "    for_bigrams = defaultdict(dict)\n",
        "    for bigram in tqdm.tqdm(ner_bigrams):\n",
        "        trigrams = []\n",
        "        for trigram, score in scored:\n",
        "            trigram = ' '.join(trigram)\n",
        "            start_bigram = bigram + ' '\n",
        "            end_bigram = ' ' + bigram\n",
        "            if start_bigram in trigram or end_bigram in trigram:\n",
        "                trigrams.append((trigram, score))\n",
        "        for_bigrams[bigram] = trigrams\n",
        "    \n",
        "    return for_bigrams"
      ],
      "metadata": {
        "id": "bcPpJuVYAPR9"
      },
      "execution_count": 15,
      "outputs": []
    },
    {
      "cell_type": "code",
      "source": [
        "def colls_for_trigrams(scored, ner_trigrams):\n",
        "    '''\n",
        "    Get quadgrams with target bigrams.\n",
        "    '''\n",
        "    for_trigrams = defaultdict(dict)\n",
        "    for trigram in tqdm.tqdm(ner_trigrams):\n",
        "        quadgrams = []\n",
        "        for quadgram, score in scored:\n",
        "            quadgram = ' '.join(quadgram)\n",
        "            if trigram in quadgram or trigram in quadgram:\n",
        "                quadgrams.append((quadgram, score))\n",
        "        for_trigrams[trigram] = quadgrams\n",
        "\n",
        "    return for_trigrams"
      ],
      "metadata": {
        "id": "qLzhhDwoE_jN"
      },
      "execution_count": 16,
      "outputs": []
    },
    {
      "cell_type": "code",
      "source": [
        "del model"
      ],
      "metadata": {
        "id": "rtPIMMxVJAh9"
      },
      "execution_count": null,
      "outputs": []
    },
    {
      "cell_type": "markdown",
      "source": [
        "Так как достать все ранжированные н-граммы достаточно трудно, мы возьмём по 5 униграмм, биграмм и триграмм для каждой метрики и посмотрим (на глаз), насколько хорошо они ранжируют коллокации."
      ],
      "metadata": {
        "id": "Uru8MWW6_ZrZ"
      }
    },
    {
      "cell_type": "markdown",
      "source": [
        "* PMI:"
      ],
      "metadata": {
        "id": "5Djmpkm2JafQ"
      }
    },
    {
      "cell_type": "code",
      "source": [
        "len(scored2_pmi)"
      ],
      "metadata": {
        "colab": {
          "base_uri": "https://localhost:8080/"
        },
        "id": "BWy9jJ6sAHXx",
        "outputId": "3469f3bd-7a51-4f6d-8883-62054a155648"
      },
      "execution_count": null,
      "outputs": [
        {
          "output_type": "execute_result",
          "data": {
            "text/plain": [
              "674251"
            ]
          },
          "metadata": {},
          "execution_count": 31
        }
      ]
    },
    {
      "cell_type": "code",
      "source": [
        "bigrams_pmi = colls_for_unigrams(scored2_pmi, final_ner_unigrams[:5])"
      ],
      "metadata": {
        "colab": {
          "base_uri": "https://localhost:8080/"
        },
        "id": "qdhgGZjFsoc7",
        "outputId": "a4a22939-ce65-4daa-8636-45c1581aa5c6"
      },
      "execution_count": null,
      "outputs": [
        {
          "output_type": "stream",
          "name": "stderr",
          "text": [
            "100%|██████████| 5/5 [00:02<00:00,  1.79it/s]\n"
          ]
        }
      ]
    },
    {
      "cell_type": "code",
      "source": [
        "del scored2_pmi"
      ],
      "metadata": {
        "id": "sppfdCKqIDkA"
      },
      "execution_count": null,
      "outputs": []
    },
    {
      "cell_type": "code",
      "source": [
        "bigrams_pmi"
      ],
      "metadata": {
        "colab": {
          "base_uri": "https://localhost:8080/"
        },
        "id": "-eFmkyieGC6x",
        "outputId": "55541242-acfc-4b21-e3b3-354f04e76af2"
      },
      "execution_count": null,
      "outputs": [
        {
          "output_type": "execute_result",
          "data": {
            "text/plain": [
              "{'tidy': [('neat tidy', 11.125048199554987),\n",
              "  ('tidy appearance', 8.685026939040675),\n",
              "  ('tidy square', 8.579232275018079),\n",
              "  ('fold tidy', 6.755729930383879),\n",
              "  ('tidy setup', 6.109153412181275),\n",
              "  ('tidy inside', 5.771877352960477),\n",
              "  ('less tidy', 5.210844869038059),\n",
              "  ('thing tidy', 5.06567955039802),\n",
              "  ('everything tidy', 5.060112312919411),\n",
              "  ('help tidy', 4.964225059977178),\n",
              "  ('clean tidy', 4.473371373074354),\n",
              "  ('keep tidy', 4.4419495663050625),\n",
              "  ('nice tidy', 3.9896140379744196),\n",
              "  ('really tidy', 3.6065860315602443),\n",
              "  ('tidy case', 3.442556981982026),\n",
              "  ('look tidy', 3.314579590785904),\n",
              "  ('tidy thing', 3.2583246283404144),\n",
              "  ('tidy pedal', 3.0094073463337203),\n",
              "  ('tidy little', 2.8021181265684056),\n",
              "  ('make tidy', 2.0886102854428117),\n",
              "  ('tidy use', 1.6219679981506907)],\n",
              " 'integrate': [('seamlessly integrate', 10.3970052595849),\n",
              "  ('integrate seamlessly', 9.812042758863742),\n",
              "  ('integrate logic', 7.535711530416492),\n",
              "  ('integrate accept', 7.312940994796424),\n",
              "  ('integrate daw', 7.174200698539639),\n",
              "  ('integrate computer', 6.136979603623445),\n",
              "  ('integrate shock', 5.910290886554197),\n",
              "  ('integrate velcro', 5.867184313056203),\n",
              "  ('velcro integrate', 5.867184313056203),\n",
              "  ('synth integrate', 5.542012242827898),\n",
              "  ('recorder integrate', 5.504290432740749),\n",
              "  ('integrate pop', 5.443740020570054),\n",
              "  ('integrate next', 5.409229643441986),\n",
              "  ('integrate xlr', 5.357866865677938),\n",
              "  ('integrate system', 5.173582709649963),\n",
              "  ('integrate controller', 4.921271828618501),\n",
              "  ('connector integrate', 4.717806689017976),\n",
              "  ('integrate perfectly', 4.6272335203354515),\n",
              "  ('integrate usb', 4.620199400886904),\n",
              "  ('integrate setup', 4.619497871555847),\n",
              "  ('mount integrate', 4.503643048821026),\n",
              "  ('integrate nicely', 4.40287814558177),\n",
              "  ('actually integrate', 4.3651248939977165),\n",
              "  ('easily integrate', 4.32382769986873),\n",
              "  ('integrate easily', 4.32382769986873),\n",
              "  ('integrate software', 4.194195767459885),\n",
              "  ('jack integrate', 4.041918497916537),\n",
              "  ('option integrate', 4.040157180348377),\n",
              "  ('integrate body', 4.02405316167307),\n",
              "  ('integrate reason', 3.9362626957952536),\n",
              "  ('integrate audio', 3.835475453328865),\n",
              "  ('integrate mixer', 3.834152300000973),\n",
              "  ('integrate tuner', 3.8210878984667502),\n",
              "  ('able integrate', 3.6083195489713624),\n",
              "  ('feature integrate', 3.5400195698026913),\n",
              "  ('include integrate', 3.5002490411100915),\n",
              "  ('integrate line', 3.453552721026078),\n",
              "  ('easy integrate', 3.102752123140384),\n",
              "  ('always integrate', 3.0614362540281483),\n",
              "  ('integrate mic', 2.843521874341498),\n",
              "  ('come integrate', 2.66087396467708),\n",
              "  ('integrate strap', 2.6025027474859392),\n",
              "  ('integrate well', 2.3954691156517747),\n",
              "  ('also integrate', 2.0657299924382855),\n",
              "  ('way integrate', 2.0267537781597227),\n",
              "  ('want integrate', 1.5413892367980537),\n",
              "  ('well integrate', 1.5209999977356325),\n",
              "  ('integrate guitar', 1.4361924016283432),\n",
              "  ('integrate product', 1.399091913057859),\n",
              "  ('like integrate', 1.2427947289965608),\n",
              "  ('go integrate', 1.1735827096499598),\n",
              "  ('use integrate', 0.13231245752526277),\n",
              "  ('integrate sound', -0.2775577882772886)],\n",
              " 'dandy': [('jim dandy', 13.613359256895306),\n",
              "  ('dandy campfire', 11.610510894586277),\n",
              "  ('handy dandy', 8.29275043391414),\n",
              "  ('dandy except', 6.552727398000641),\n",
              "  ('fine dandy', 6.040265947421258),\n",
              "  ('dandy tool', 5.5510624295055315),\n",
              "  ('dandy receive', 5.382062173329732),\n",
              "  ('dandy a', 4.963882955561495),\n",
              "  ('dandy perfectly', 4.575394588815833),\n",
              "  ('dandy little', 4.1675142500318785),\n",
              "  (\"dandy 's\", 3.6045265441483245),\n",
              "  ('little dandy', 3.1675142500318785),\n",
              "  ('dandy fit', 3.083109077843986),\n",
              "  ('dandy pick', 2.8716391509085213),\n",
              "  ('dandy work', 2.0747619761281726),\n",
              "  ('work dandy', 2.0747619761281726),\n",
              "  ('dandy guitar', 1.1213190642749318),\n",
              "  ('guitar dandy', 1.1213190642749318),\n",
              "  ('sound dandy', 0.9925313750904543)],\n",
              " 'importantly': [('importantly riffworks', 13.289888997199537),\n",
              "  ('tact importantly', 11.83045737856224),\n",
              "  ('importantly firmness', 10.70492649647838),\n",
              "  ('importantly composite', 9.415419879283398),\n",
              "  ('weakness importantly', 8.631677514447743),\n",
              "  ('lastly importantly', 8.202426155949198),\n",
              "  ('audition importantly', 8.090216652363173),\n",
              "  ('perhaps importantly', 7.77531582436978),\n",
              "  ('ac30 importantly', 7.60338847001632),\n",
              "  ('fuzzy importantly', 7.395071233891592),\n",
              "  ('slick importantly', 6.53166578247281),\n",
              "  ('importantly wound', 5.899290091647078),\n",
              "  ('nearly importantly', 5.743959228114068),\n",
              "  ('regret importantly', 5.518399527698939),\n",
              "  ('importantly bunch', 5.180058342920741),\n",
              "  ('durability importantly', 5.13887245830729),\n",
              "  ('importantly hate', 5.1087367403339705),\n",
              "  ('importantly budget', 5.021541942517022),\n",
              "  ('toy importantly', 4.9061847047254865),\n",
              "  ('importantly intonation', 4.707747015540761),\n",
              "  ('stable importantly', 4.648740399788306),\n",
              "  ('importantly rich', 4.647837304271562),\n",
              "  ('importantly wonderful', 4.472905373944155),\n",
              "  ('response importantly', 4.412604863676343),\n",
              "  ('importantly kid', 4.374009618363765),\n",
              "  ('importantly beautiful', 4.349330688825624),\n",
              "  ('ear importantly', 4.3140410291927545),\n",
              "  ('importantly red', 4.247545617405844),\n",
              "  ('importantly stay', 4.2365060946138335),\n",
              "  ('importantly anyway', 4.17549594233223),\n",
              "  ('finish importantly', 4.067094094331427),\n",
              "  ('fix importantly', 3.9279452234642953),\n",
              "  ('shape importantly', 3.921928287557968),\n",
              "  ('importantly offer', 3.9132209353418688),\n",
              "  ('importantly yes', 3.901333493216974),\n",
              "  ('importantly comfortable', 3.851097144621278),\n",
              "  ('importantly accurate', 3.805569573555271),\n",
              "  ('importantly suppose', 3.7536417815114085),\n",
              "  ('color importantly', 3.716241809706215),\n",
              "  ('design importantly', 3.5362543783461504),\n",
              "  ('feature importantly', 3.3740096183637647),\n",
              "  ('importantly provide', 3.276566323774091),\n",
              "  ('importantly delay', 3.264057328867512),\n",
              "  ('importantly pack', 3.2495992761738215),\n",
              "  ('importantly rock', 3.232574119416835),\n",
              "  ('importantly --', 3.156907378670187),\n",
              "  ('board importantly', 3.101712291201004),\n",
              "  ('importantly sound', 3.1007527765075906),\n",
              "  ('show importantly', 3.0982128508471085),\n",
              "  ('importantly though', 3.0960556646529866),\n",
              "  ('second importantly', 3.0419614837559514),\n",
              "  ('importantly loud', 2.984397205088854),\n",
              "  ('far importantly', 2.899048301432863),\n",
              "  ('importantly anything', 2.858391392941485),\n",
              "  ('importantly clean', 2.8177058810099957),\n",
              "  ('finger importantly', 2.7917877532046838),\n",
              "  ('-- importantly', 2.741869879391345),\n",
              "  ('importantly fit', 2.6470099630373163),\n",
              "  ('amazon importantly', 2.6449061419705266),\n",
              "  ('importantly hear', 2.5911843304291935),\n",
              "  ('importantly tune', 2.58037433649282),\n",
              "  ('perfectly importantly', 2.554332973288002),\n",
              "  ('importantly metal', 2.533541171682952),\n",
              "  ('sturdy importantly', 2.4930382019323787),\n",
              "  ('importantly head', 2.4910122290662393),\n",
              "  ('importantly feel', 2.4774709951284812),\n",
              "  ('turn importantly', 2.401335989620325),\n",
              "  ('.. importantly', 2.3591516596366517),\n",
              "  ('importantly ..', 2.3591516596366517),\n",
              "  ('control importantly', 2.2599116506099577),\n",
              "  ('see importantly', 2.1862733408049912),\n",
              "  ('importantly neck', 2.1484204418064543),\n",
              "  ('importantly never', 2.125610558898366),\n",
              "  ('first importantly', 2.111950448145638),\n",
              "  ('strap importantly', 1.8515302953258512),\n",
              "  ('fine importantly', 1.8492793304511146),\n",
              "  ('importantly review', 1.8398376599254895),\n",
              "  ('look importantly', 1.810917192166599),\n",
              "  ('importantly last', 1.807963461338879),\n",
              "  ('importantly easy', 1.7668171702591415),\n",
              "  ('also importantly', 1.7297950395570396),\n",
              "  ('quality importantly', 1.6875612911856521),\n",
              "  ('even importantly', 1.6516039375032285),\n",
              "  ('importantly much', 1.6134360128628238),\n",
              "  ('importantly cheap', 1.5586760505923962),\n",
              "  ('importantly pick', 1.4355400361018482),\n",
              "  ('nice importantly', 1.4270579503015384),\n",
              "  ('importantly want', 1.3753792853591271),\n",
              "  ('importantly way', 1.2757813259996347),\n",
              "  ('importantly strap', 1.2665677946046934),\n",
              "  ('importantly case', 1.2019289891965137),\n",
              "  ('time importantly', 1.1813100919077506),\n",
              "  ('... importantly', 1.1607133276292174),\n",
              "  ('thing importantly', 1.0176966355548984),\n",
              "  ('use importantly', 0.9663025060863326),\n",
              "  ('importantly one', 0.9515704439593016),\n",
              "  ('tone importantly', 0.885678777148339),\n",
              "  ('stand importantly', 0.8623797210347384),\n",
              "  (\"importantly 've\", 0.655985587851017),\n",
              "  ('product importantly', 0.6481194608977745),\n",
              "  ('importantly ...', 0.5757508269080596),\n",
              "  ('sound importantly', 0.5564322602837812),\n",
              "  ('importantly play', 0.5464921245248142),\n",
              "  ('play importantly', 0.5464921245248142),\n",
              "  ('importantly like', 0.49182227683647284),\n",
              "  ('importantly work', 0.46873785987918737),\n",
              "  ('good importantly', 0.3674532569663924),\n",
              "  ('great importantly', 0.34369547611738227),\n",
              "  ('importantly guitar', 0.10025744874710085),\n",
              "  ('importantly get', 0.03149472294322564),\n",
              "  ('string importantly', 0.010254236022507968),\n",
              "  ('make importantly', -0.1520177073427007),\n",
              "  ('well importantly', -0.2299724544244519),\n",
              "  ('importantly good', -0.369512337199815),\n",
              "  ('importantly string', -0.5747082646986499),\n",
              "  ('importantly great', -0.978232618769983),\n",
              "  ('importantly use', -1.2036224953559795)],\n",
              " 'pineapple': [('pineapple styled', 15.789604211302182),\n",
              "  ('pineapple tattoo', 13.330172592664887),\n",
              "  ('tattoo pineapple', 12.74521009194373),\n",
              "  ('goofy pineapple', 11.6398570917975),\n",
              "  ('makala pineapple', 11.021419886525257),\n",
              "  ('luna pineapple', 10.858866873739297),\n",
              "  ('soprano pineapple', 10.491453499697949),\n",
              "  ('lanikai pineapple', 10.330172592664885),\n",
              "  ('kala pineapple', 10.275481951131479),\n",
              "  ('pineapple soprano', 9.375976282278012),\n",
              "  ('pineapple texture', 8.795250774443325),\n",
              "  ('pineapple print', 8.5607855208063),\n",
              "  ('pineapple shape', 8.228998423718217),\n",
              "  ('pineapple ukulele', 7.331881339803989),\n",
              "  ('tenor pineapple', 7.307804779636431),\n",
              "  ('pineapple uke', 7.249669966130394),\n",
              "  ('pineapple version', 6.572454293437275),\n",
              "  ('pineapple 1', 5.810179015970711),\n",
              "  ('want pineapple', 4.290131998740613),\n",
              "  ('pineapple back', 3.899149918470343),\n",
              "  ('case pineapple', 3.701644203299157),\n",
              "  ('buy pineapple', 2.474914765471688),\n",
              "  ('well pineapple', 2.269742759678195),\n",
              "  ('pineapple sound', 2.056147474386428),\n",
              "  ('pineapple well', 1.684780258957037)]}"
            ]
          },
          "metadata": {},
          "execution_count": 33
        }
      ]
    },
    {
      "cell_type": "code",
      "source": [
        "trigrams_pmi = colls_for_bigrams(scored3_pmi, final_ner_bigrams[:5])"
      ],
      "metadata": {
        "colab": {
          "base_uri": "https://localhost:8080/"
        },
        "id": "-FpEha8NF0MQ",
        "outputId": "aa7e27b9-531a-4c6c-8721-0e3ae143728b"
      },
      "execution_count": null,
      "outputs": [
        {
          "output_type": "stream",
          "name": "stderr",
          "text": [
            "100%|██████████| 5/5 [00:04<00:00,  1.20it/s]\n"
          ]
        }
      ]
    },
    {
      "cell_type": "code",
      "source": [
        "trigrams_pmi"
      ],
      "metadata": {
        "colab": {
          "base_uri": "https://localhost:8080/"
        },
        "id": "TAOfEGcT1s2t",
        "outputId": "86237053-d7ca-4841-9100-9833b906318f"
      },
      "execution_count": null,
      "outputs": [
        {
          "output_type": "execute_result",
          "data": {
            "text/plain": [
              "defaultdict(dict,\n",
              "            {'town pure': [],\n",
              "             'odd assortment': [],\n",
              "             'ease thousand': [],\n",
              "             'seated adult': [('height seated adult', 21.02980376220841),\n",
              "              ('seated adult use', 15.622428494680204)],\n",
              "             'axis remarkable': []})"
            ]
          },
          "metadata": {},
          "execution_count": 38
        }
      ]
    },
    {
      "cell_type": "code",
      "source": [
        "del scored3_pmi"
      ],
      "metadata": {
        "id": "7bAEEYwEJpIS"
      },
      "execution_count": null,
      "outputs": []
    },
    {
      "cell_type": "markdown",
      "source": [
        "Может ли так быть, что мы при обрезке по частотности вырезали вот такие биграммы?"
      ],
      "metadata": {
        "id": "3LmNJdCt3LWi"
      }
    },
    {
      "cell_type": "code",
      "source": [
        "quadgrams_pmi = colls_for_trigrams(scored4_pmi, final_ner_trigrams[:5])"
      ],
      "metadata": {
        "id": "r50u3Y7UF3db",
        "colab": {
          "base_uri": "https://localhost:8080/"
        },
        "outputId": "3d36c2bd-6001-4c27-90d2-fc17c17c0627"
      },
      "execution_count": null,
      "outputs": [
        {
          "output_type": "stream",
          "name": "stderr",
          "text": [
            "100%|██████████| 5/5 [00:37<00:00,  7.48s/it]\n"
          ]
        }
      ]
    },
    {
      "cell_type": "code",
      "source": [
        "quadgrams_pmi"
      ],
      "metadata": {
        "colab": {
          "base_uri": "https://localhost:8080/"
        },
        "id": "GDh6_ca_Lwnv",
        "outputId": "bea9ccce-8e1a-48ab-944f-2d18ea07061a"
      },
      "execution_count": null,
      "outputs": [
        {
          "output_type": "execute_result",
          "data": {
            "text/plain": [
              "defaultdict(dict,\n",
              "            {'favorite capo tension': [('favorite capo tension adjustment',\n",
              "               21.29915322344769)],\n",
              "             'harmonica thast able': [('shape harmonica thast able',\n",
              "               32.364048547832155),\n",
              "              ('harmonica thast able fit', 29.504167722590346)],\n",
              "             'attempt stre guitar': [('first attempt stre guitar',\n",
              "               20.48175500815978),\n",
              "              ('attempt stre guitar seem', 20.34699964668369)],\n",
              "             'add assemble yamaha': [('add assemble yamaha keyboard',\n",
              "               20.937746308544995),\n",
              "              ('easy add assemble yamaha', 19.031223325383593)],\n",
              "             'moisture yuk sax': [('moisture yuk sax sorry',\n",
              "               35.99162531989234),\n",
              "              ('keep moisture yuk sax', 31.7857009455742)]})"
            ]
          },
          "metadata": {},
          "execution_count": 16
        }
      ]
    },
    {
      "cell_type": "markdown",
      "source": [
        "* Raw frequency"
      ],
      "metadata": {
        "id": "0X6Awm_ZNufL"
      }
    },
    {
      "cell_type": "code",
      "source": [
        "bigrams_raw_freq = colls_for_unigrams(scored2_raw_freq, final_ner_unigrams[:5])\n",
        "\n",
        "bigrams_raw_freq"
      ],
      "metadata": {
        "id": "ErO6Pb9NFm8H",
        "colab": {
          "base_uri": "https://localhost:8080/"
        },
        "outputId": "a3b5ee0c-4888-47b1-d02e-9711925b9a05"
      },
      "execution_count": null,
      "outputs": [
        {
          "output_type": "stream",
          "name": "stderr",
          "text": [
            "100%|██████████| 5/5 [00:02<00:00,  2.34it/s]\n"
          ]
        },
        {
          "output_type": "execute_result",
          "data": {
            "text/plain": [
              "{'tidy': [('neat tidy', 1.881217605071068e-06),\n",
              "  ('thing tidy', 1.0129633258074982e-06),\n",
              "  ('nice tidy', 7.235452327196415e-07),\n",
              "  ('really tidy', 5.788361861757132e-07),\n",
              "  ('keep tidy', 4.341271396317849e-07),\n",
              "  ('less tidy', 4.341271396317849e-07),\n",
              "  ('look tidy', 4.341271396317849e-07),\n",
              "  ('tidy pedal', 4.341271396317849e-07),\n",
              "  ('tidy setup', 4.341271396317849e-07),\n",
              "  ('tidy use', 4.341271396317849e-07),\n",
              "  ('clean tidy', 2.894180930878566e-07),\n",
              "  ('everything tidy', 2.894180930878566e-07),\n",
              "  ('fold tidy', 2.894180930878566e-07),\n",
              "  ('help tidy', 2.894180930878566e-07),\n",
              "  ('make tidy', 2.894180930878566e-07),\n",
              "  ('tidy appearance', 2.894180930878566e-07),\n",
              "  ('tidy case', 2.894180930878566e-07),\n",
              "  ('tidy inside', 2.894180930878566e-07),\n",
              "  ('tidy little', 2.894180930878566e-07),\n",
              "  ('tidy square', 2.894180930878566e-07),\n",
              "  ('tidy thing', 2.894180930878566e-07)],\n",
              " 'integrate': [('integrate well', 1.5917995119832115e-06),\n",
              "  ('integrate computer', 1.0129633258074982e-06),\n",
              "  ('easy integrate', 8.682542792635698e-07),\n",
              "  ('integrate guitar', 8.682542792635698e-07),\n",
              "  ('integrate tuner', 8.682542792635698e-07),\n",
              "  ('well integrate', 8.682542792635698e-07),\n",
              "  ('integrate daw', 7.235452327196415e-07),\n",
              "  ('integrate mic', 7.235452327196415e-07),\n",
              "  ('integrate perfectly', 7.235452327196415e-07),\n",
              "  ('integrate system', 7.235452327196415e-07),\n",
              "  ('actually integrate', 5.788361861757132e-07),\n",
              "  ('come integrate', 5.788361861757132e-07),\n",
              "  ('easily integrate', 5.788361861757132e-07),\n",
              "  ('integrate easily', 5.788361861757132e-07),\n",
              "  ('integrate next', 5.788361861757132e-07),\n",
              "  ('integrate pop', 5.788361861757132e-07),\n",
              "  ('integrate xlr', 5.788361861757132e-07),\n",
              "  ('like integrate', 5.788361861757132e-07),\n",
              "  ('mount integrate', 5.788361861757132e-07),\n",
              "  ('also integrate', 4.341271396317849e-07),\n",
              "  ('integrate audio', 4.341271396317849e-07),\n",
              "  ('integrate logic', 4.341271396317849e-07),\n",
              "  ('integrate setup', 4.341271396317849e-07),\n",
              "  ('integrate strap', 4.341271396317849e-07),\n",
              "  ('integrate usb', 4.341271396317849e-07),\n",
              "  ('recorder integrate', 4.341271396317849e-07),\n",
              "  ('seamlessly integrate', 4.341271396317849e-07),\n",
              "  ('use integrate', 4.341271396317849e-07),\n",
              "  ('able integrate', 2.894180930878566e-07),\n",
              "  ('always integrate', 2.894180930878566e-07),\n",
              "  ('connector integrate', 2.894180930878566e-07),\n",
              "  ('feature integrate', 2.894180930878566e-07),\n",
              "  ('go integrate', 2.894180930878566e-07),\n",
              "  ('include integrate', 2.894180930878566e-07),\n",
              "  ('integrate accept', 2.894180930878566e-07),\n",
              "  ('integrate body', 2.894180930878566e-07),\n",
              "  ('integrate controller', 2.894180930878566e-07),\n",
              "  ('integrate line', 2.894180930878566e-07),\n",
              "  ('integrate mixer', 2.894180930878566e-07),\n",
              "  ('integrate nicely', 2.894180930878566e-07),\n",
              "  ('integrate product', 2.894180930878566e-07),\n",
              "  ('integrate reason', 2.894180930878566e-07),\n",
              "  ('integrate seamlessly', 2.894180930878566e-07),\n",
              "  ('integrate shock', 2.894180930878566e-07),\n",
              "  ('integrate software', 2.894180930878566e-07),\n",
              "  ('integrate sound', 2.894180930878566e-07),\n",
              "  ('integrate velcro', 2.894180930878566e-07),\n",
              "  ('jack integrate', 2.894180930878566e-07),\n",
              "  ('option integrate', 2.894180930878566e-07),\n",
              "  ('synth integrate', 2.894180930878566e-07),\n",
              "  ('velcro integrate', 2.894180930878566e-07),\n",
              "  ('want integrate', 2.894180930878566e-07),\n",
              "  ('way integrate', 2.894180930878566e-07)],\n",
              " 'dandy': [('jim dandy', 5.6436528152132044e-06),\n",
              "  ('fine dandy', 1.3023814188953549e-06),\n",
              "  ('handy dandy', 1.1576723723514264e-06),\n",
              "  ('dandy little', 8.682542792635698e-07),\n",
              "  (\"dandy 's\", 4.341271396317849e-07),\n",
              "  ('dandy campfire', 4.341271396317849e-07),\n",
              "  ('dandy work', 4.341271396317849e-07),\n",
              "  ('little dandy', 4.341271396317849e-07),\n",
              "  ('work dandy', 4.341271396317849e-07),\n",
              "  ('dandy a', 2.894180930878566e-07),\n",
              "  ('dandy except', 2.894180930878566e-07),\n",
              "  ('dandy fit', 2.894180930878566e-07),\n",
              "  ('dandy guitar', 2.894180930878566e-07),\n",
              "  ('dandy perfectly', 2.894180930878566e-07),\n",
              "  ('dandy pick', 2.894180930878566e-07),\n",
              "  ('dandy receive', 2.894180930878566e-07),\n",
              "  ('dandy tool', 2.894180930878566e-07),\n",
              "  ('guitar dandy', 2.894180930878566e-07),\n",
              "  ('sound dandy', 2.894180930878566e-07)],\n",
              " 'importantly': [('importantly sound', 5.064816629037491e-06),\n",
              "  ('perhaps importantly', 2.0259266516149965e-06),\n",
              "  ('use importantly', 1.3023814188953549e-06),\n",
              "  ('importantly fit', 8.682542792635698e-07),\n",
              "  ('importantly one', 8.682542792635698e-07),\n",
              "  ('sound importantly', 8.682542792635698e-07),\n",
              "  ('good importantly', 7.235452327196415e-07),\n",
              "  ('great importantly', 7.235452327196415e-07),\n",
              "  ('importantly feel', 7.235452327196415e-07),\n",
              "  ('importantly stay', 7.235452327196415e-07),\n",
              "  ('importantly wound', 7.235452327196415e-07),\n",
              "  ('look importantly', 7.235452327196415e-07),\n",
              "  ('quality importantly', 7.235452327196415e-07),\n",
              "  ('also importantly', 5.788361861757132e-07),\n",
              "  ('color importantly', 5.788361861757132e-07),\n",
              "  ('design importantly', 5.788361861757132e-07),\n",
              "  ('far importantly', 5.788361861757132e-07),\n",
              "  ('finish importantly', 5.788361861757132e-07),\n",
              "  ('importantly --', 5.788361861757132e-07),\n",
              "  ('importantly easy', 5.788361861757132e-07),\n",
              "  ('importantly guitar', 5.788361861757132e-07),\n",
              "  ('importantly like', 5.788361861757132e-07),\n",
              "  ('importantly much', 5.788361861757132e-07),\n",
              "  ('importantly though', 5.788361861757132e-07),\n",
              "  ('importantly tune', 5.788361861757132e-07),\n",
              "  ('importantly work', 5.788361861757132e-07),\n",
              "  ('nearly importantly', 5.788361861757132e-07),\n",
              "  ('nice importantly', 5.788361861757132e-07),\n",
              "  ('-- importantly', 4.341271396317849e-07),\n",
              "  ('... importantly', 4.341271396317849e-07),\n",
              "  ('board importantly', 4.341271396317849e-07),\n",
              "  ('ear importantly', 4.341271396317849e-07),\n",
              "  ('even importantly', 4.341271396317849e-07),\n",
              "  ('feature importantly', 4.341271396317849e-07),\n",
              "  ('first importantly', 4.341271396317849e-07),\n",
              "  ('importantly beautiful', 4.341271396317849e-07),\n",
              "  ('importantly budget', 4.341271396317849e-07),\n",
              "  ('importantly clean', 4.341271396317849e-07),\n",
              "  ('importantly comfortable', 4.341271396317849e-07),\n",
              "  ('importantly composite', 4.341271396317849e-07),\n",
              "  ('importantly get', 4.341271396317849e-07),\n",
              "  ('importantly good', 4.341271396317849e-07),\n",
              "  ('importantly pick', 4.341271396317849e-07),\n",
              "  ('importantly play', 4.341271396317849e-07),\n",
              "  ('importantly want', 4.341271396317849e-07),\n",
              "  ('lastly importantly', 4.341271396317849e-07),\n",
              "  ('play importantly', 4.341271396317849e-07),\n",
              "  ('see importantly', 4.341271396317849e-07),\n",
              "  ('strap importantly', 4.341271396317849e-07),\n",
              "  ('string importantly', 4.341271396317849e-07),\n",
              "  ('time importantly', 4.341271396317849e-07),\n",
              "  ('well importantly', 4.341271396317849e-07),\n",
              "  ('.. importantly', 2.894180930878566e-07),\n",
              "  ('ac30 importantly', 2.894180930878566e-07),\n",
              "  ('amazon importantly', 2.894180930878566e-07),\n",
              "  ('audition importantly', 2.894180930878566e-07),\n",
              "  ('control importantly', 2.894180930878566e-07),\n",
              "  ('durability importantly', 2.894180930878566e-07),\n",
              "  ('fine importantly', 2.894180930878566e-07),\n",
              "  ('finger importantly', 2.894180930878566e-07),\n",
              "  ('fix importantly', 2.894180930878566e-07),\n",
              "  ('fuzzy importantly', 2.894180930878566e-07),\n",
              "  (\"importantly 've\", 2.894180930878566e-07),\n",
              "  ('importantly ..', 2.894180930878566e-07),\n",
              "  ('importantly ...', 2.894180930878566e-07),\n",
              "  ('importantly accurate', 2.894180930878566e-07),\n",
              "  ('importantly anything', 2.894180930878566e-07),\n",
              "  ('importantly anyway', 2.894180930878566e-07),\n",
              "  ('importantly bunch', 2.894180930878566e-07),\n",
              "  ('importantly case', 2.894180930878566e-07),\n",
              "  ('importantly cheap', 2.894180930878566e-07),\n",
              "  ('importantly delay', 2.894180930878566e-07),\n",
              "  ('importantly firmness', 2.894180930878566e-07),\n",
              "  ('importantly great', 2.894180930878566e-07),\n",
              "  ('importantly hate', 2.894180930878566e-07),\n",
              "  ('importantly head', 2.894180930878566e-07),\n",
              "  ('importantly hear', 2.894180930878566e-07),\n",
              "  ('importantly intonation', 2.894180930878566e-07),\n",
              "  ('importantly kid', 2.894180930878566e-07),\n",
              "  ('importantly last', 2.894180930878566e-07),\n",
              "  ('importantly loud', 2.894180930878566e-07),\n",
              "  ('importantly metal', 2.894180930878566e-07),\n",
              "  ('importantly neck', 2.894180930878566e-07),\n",
              "  ('importantly never', 2.894180930878566e-07),\n",
              "  ('importantly offer', 2.894180930878566e-07),\n",
              "  ('importantly pack', 2.894180930878566e-07),\n",
              "  ('importantly provide', 2.894180930878566e-07),\n",
              "  ('importantly red', 2.894180930878566e-07),\n",
              "  ('importantly review', 2.894180930878566e-07),\n",
              "  ('importantly rich', 2.894180930878566e-07),\n",
              "  ('importantly riffworks', 2.894180930878566e-07),\n",
              "  ('importantly rock', 2.894180930878566e-07),\n",
              "  ('importantly strap', 2.894180930878566e-07),\n",
              "  ('importantly string', 2.894180930878566e-07),\n",
              "  ('importantly suppose', 2.894180930878566e-07),\n",
              "  ('importantly use', 2.894180930878566e-07),\n",
              "  ('importantly way', 2.894180930878566e-07),\n",
              "  ('importantly wonderful', 2.894180930878566e-07),\n",
              "  ('importantly yes', 2.894180930878566e-07),\n",
              "  ('make importantly', 2.894180930878566e-07),\n",
              "  ('perfectly importantly', 2.894180930878566e-07),\n",
              "  ('product importantly', 2.894180930878566e-07),\n",
              "  ('regret importantly', 2.894180930878566e-07),\n",
              "  ('response importantly', 2.894180930878566e-07),\n",
              "  ('second importantly', 2.894180930878566e-07),\n",
              "  ('shape importantly', 2.894180930878566e-07),\n",
              "  ('show importantly', 2.894180930878566e-07),\n",
              "  ('slick importantly', 2.894180930878566e-07),\n",
              "  ('stable importantly', 2.894180930878566e-07),\n",
              "  ('stand importantly', 2.894180930878566e-07),\n",
              "  ('sturdy importantly', 2.894180930878566e-07),\n",
              "  ('tact importantly', 2.894180930878566e-07),\n",
              "  ('thing importantly', 2.894180930878566e-07),\n",
              "  ('tone importantly', 2.894180930878566e-07),\n",
              "  ('toy importantly', 2.894180930878566e-07),\n",
              "  ('turn importantly', 2.894180930878566e-07),\n",
              "  ('weakness importantly', 2.894180930878566e-07)],\n",
              " 'pineapple': [('soprano pineapple', 1.881217605071068e-06),\n",
              "  ('pineapple shape', 1.0129633258074982e-06),\n",
              "  ('pineapple soprano', 8.682542792635698e-07),\n",
              "  ('pineapple ukulele', 8.682542792635698e-07),\n",
              "  ('kala pineapple', 7.235452327196415e-07),\n",
              "  ('pineapple uke', 7.235452327196415e-07),\n",
              "  ('makala pineapple', 5.788361861757132e-07),\n",
              "  ('pineapple styled', 5.788361861757132e-07),\n",
              "  ('want pineapple', 5.788361861757132e-07),\n",
              "  ('luna pineapple', 4.341271396317849e-07),\n",
              "  ('pineapple 1', 4.341271396317849e-07),\n",
              "  ('pineapple sound', 4.341271396317849e-07),\n",
              "  ('pineapple tattoo', 4.341271396317849e-07),\n",
              "  ('pineapple version', 4.341271396317849e-07),\n",
              "  ('well pineapple', 4.341271396317849e-07),\n",
              "  ('buy pineapple', 2.894180930878566e-07),\n",
              "  ('case pineapple', 2.894180930878566e-07),\n",
              "  ('goofy pineapple', 2.894180930878566e-07),\n",
              "  ('lanikai pineapple', 2.894180930878566e-07),\n",
              "  ('pineapple back', 2.894180930878566e-07),\n",
              "  ('pineapple print', 2.894180930878566e-07),\n",
              "  ('pineapple texture', 2.894180930878566e-07),\n",
              "  ('pineapple well', 2.894180930878566e-07),\n",
              "  ('tattoo pineapple', 2.894180930878566e-07),\n",
              "  ('tenor pineapple', 2.894180930878566e-07)]}"
            ]
          },
          "metadata": {},
          "execution_count": 20
        }
      ]
    },
    {
      "cell_type": "code",
      "source": [
        "trigrams_raw_freq = colls_for_bigrams(scored3_raw_freq, final_ner_bigrams[:5])\n",
        "\n",
        "trigrams_raw_freq"
      ],
      "metadata": {
        "id": "bn27NlmiiwhJ",
        "colab": {
          "base_uri": "https://localhost:8080/"
        },
        "outputId": "8ea783de-4403-45a8-d322-dc016a10713d"
      },
      "execution_count": null,
      "outputs": [
        {
          "output_type": "stream",
          "name": "stderr",
          "text": [
            "100%|██████████| 5/5 [00:07<00:00,  1.55s/it]\n"
          ]
        },
        {
          "output_type": "execute_result",
          "data": {
            "text/plain": [
              "defaultdict(dict,\n",
              "            {'town pure': [],\n",
              "             'odd assortment': [],\n",
              "             'ease thousand': [],\n",
              "             'seated adult': [('height seated adult', 2.894180930878566e-07),\n",
              "              ('seated adult use', 2.894180930878566e-07)],\n",
              "             'axis remarkable': []})"
            ]
          },
          "metadata": {},
          "execution_count": 17
        }
      ]
    },
    {
      "cell_type": "code",
      "source": [
        "quadgrams_raw_freq = colls_for_trigrams(scored4_raw_freq, final_ner_trigrams[:5])\n",
        "\n",
        "quadgrams_raw_freq"
      ],
      "metadata": {
        "id": "xLbVpnT9iy3z",
        "colab": {
          "base_uri": "https://localhost:8080/"
        },
        "outputId": "7dea3f34-b4c3-4084-eecc-39beec135c56"
      },
      "execution_count": null,
      "outputs": [
        {
          "output_type": "stream",
          "name": "stderr",
          "text": [
            "100%|██████████| 5/5 [00:33<00:00,  6.60s/it]\n"
          ]
        },
        {
          "output_type": "execute_result",
          "data": {
            "text/plain": [
              "defaultdict(dict,\n",
              "            {'favorite capo tension': [('favorite capo tension adjustment',\n",
              "               1.447090465439283e-07)],\n",
              "             'harmonica thast able': [('harmonica thast able fit',\n",
              "               1.447090465439283e-07),\n",
              "              ('shape harmonica thast able', 1.447090465439283e-07)],\n",
              "             'attempt stre guitar': [('attempt stre guitar seem',\n",
              "               1.447090465439283e-07),\n",
              "              ('first attempt stre guitar', 1.447090465439283e-07)],\n",
              "             'add assemble yamaha': [('add assemble yamaha keyboard',\n",
              "               1.447090465439283e-07),\n",
              "              ('easy add assemble yamaha', 1.447090465439283e-07)],\n",
              "             'moisture yuk sax': [('keep moisture yuk sax',\n",
              "               1.447090465439283e-07),\n",
              "              ('moisture yuk sax sorry', 1.447090465439283e-07)]})"
            ]
          },
          "metadata": {},
          "execution_count": 22
        }
      ]
    },
    {
      "cell_type": "markdown",
      "source": [
        "* Likelihood ratio"
      ],
      "metadata": {
        "id": "vqQhJTdkPnpC"
      }
    },
    {
      "cell_type": "code",
      "source": [
        "bigrams_likelihood_ratio = colls_for_unigrams(scored2_likelihood_ratio, final_ner_unigrams[:5])\n",
        "\n",
        "bigrams_likelihood_ratio"
      ],
      "metadata": {
        "id": "qUXSpwrMgZwZ",
        "colab": {
          "base_uri": "https://localhost:8080/"
        },
        "outputId": "bad1ae4f-d2a2-49b2-f508-51ddfae10d9e"
      },
      "execution_count": null,
      "outputs": [
        {
          "output_type": "stream",
          "name": "stderr",
          "text": [
            "100%|██████████| 5/5 [00:02<00:00,  2.01it/s]\n"
          ]
        },
        {
          "output_type": "execute_result",
          "data": {
            "text/plain": [
              "{'tidy': [('neat tidy', 177.27837961666233),\n",
              "  ('thing tidy', 36.2322647311642),\n",
              "  ('tidy appearance', 20.15342900389465),\n",
              "  ('tidy square', 19.860206599167498),\n",
              "  ('tidy setup', 19.617764873094305),\n",
              "  ('nice tidy', 18.5928670402835),\n",
              "  ('less tidy', 15.952853579558479),\n",
              "  ('fold tidy', 14.82441085695887),\n",
              "  ('keep tidy', 12.86414730320745),\n",
              "  ('really tidy', 12.845053048815561),\n",
              "  ('tidy inside', 12.130676313295501),\n",
              "  ('everything tidy', 10.202237773974474),\n",
              "  ('help tidy', 9.944357364858696),\n",
              "  ('clean tidy', 8.633794025837709),\n",
              "  ('look tidy', 8.489695406511537),\n",
              "  ('tidy pedal', 7.357315491781047),\n",
              "  ('tidy case', 5.9585728554303525),\n",
              "  ('tidy thing', 5.496618048761131),\n",
              "  ('tidy little', 4.38342403656304),\n",
              "  ('make tidy', 2.76383370282236),\n",
              "  ('tidy use', 2.752464938512066)],\n",
              " 'integrate': [('integrate computer', 46.00182199538949),\n",
              "  ('integrate daw', 39.93944176816546),\n",
              "  ('seamlessly integrate', 37.40988833826202),\n",
              "  ('integrate system', 26.25897163410709),\n",
              "  ('integrate logic', 25.43249259683669),\n",
              "  ('integrate seamlessly', 23.282437283025704),\n",
              "  ('integrate perfectly', 22.594834118539836),\n",
              "  ('integrate pop', 22.45026073778062),\n",
              "  ('integrate next', 22.263137414540658),\n",
              "  ('integrate xlr', 21.984838310529426),\n",
              "  ('integrate tuner', 20.787468906297384),\n",
              "  ('integrate well', 19.108593535262546),\n",
              "  ('mount integrate', 17.400453022134172),\n",
              "  ('recorder integrate', 17.069960421313553),\n",
              "  ('actually integrate', 16.666976407974687),\n",
              "  ('easily integrate', 16.44897077149664),\n",
              "  ('integrate easily', 16.44897077149664),\n",
              "  ('integrate accept', 16.32959635964197),\n",
              "  ('easy integrate', 15.344826249081748),\n",
              "  ('integrate usb', 13.501472545641406),\n",
              "  ('integrate setup', 13.498670899450659),\n",
              "  ('integrate shock', 12.475701259739916),\n",
              "  ('integrate velcro', 12.358077221259682),\n",
              "  ('velcro integrate', 12.358077221259682),\n",
              "  ('synth integrate', 11.47296824607329),\n",
              "  ('integrate mic', 11.195075819537964),\n",
              "  ('integrate audio', 10.410872621647268),\n",
              "  ('integrate controller', 9.796664827163076),\n",
              "  ('connector integrate', 9.25210960115105),\n",
              "  ('integrate nicely', 8.415371689527664),\n",
              "  ('come integrate', 8.07633792817013),\n",
              "  ('integrate software', 7.8657680378400565),\n",
              "  ('jack integrate', 7.467559149778161),\n",
              "  ('option integrate', 7.462968487504749),\n",
              "  ('integrate body', 7.421012066517049),\n",
              "  ('integrate reason', 7.192833371919074),\n",
              "  ('integrate mixer', 6.928650838899477),\n",
              "  ('able integrate', 6.349482739820294),\n",
              "  ('feature integrate', 6.175840169382708),\n",
              "  ('include integrate', 6.075080124599234),\n",
              "  ('integrate line', 5.957114684468286),\n",
              "  ('integrate strap', 5.8426339610088505),\n",
              "  ('always integrate', 4.982821418582088),\n",
              "  ('well integrate', 4.90868039477368),\n",
              "  ('integrate guitar', 4.451609138913518),\n",
              "  ('also integrate', 4.050157409097531),\n",
              "  ('way integrate', 2.6122838745556476),\n",
              "  ('like integrate', 2.2983794529740518),\n",
              "  ('want integrate', 1.6563855850764244),\n",
              "  ('integrate product', 1.4034018188664334),\n",
              "  ('go integrate', 1.033264120054021),\n",
              "  ('integrate sound', 0.0799015277144084),\n",
              "  ('use integrate', 0.024821860698610698)],\n",
              " 'dandy': [('jim dandy', 685.8735589092815),\n",
              "  ('handy dandy', 76.82422392229464),\n",
              "  ('fine dandy', 58.602581415441506),\n",
              "  ('dandy campfire', 42.5125795041796),\n",
              "  ('dandy little', 23.72132493072769),\n",
              "  ('dandy except', 14.25932318808849),\n",
              "  ('dandy tool', 11.522679080516305),\n",
              "  ('dandy receive', 11.06434226978309),\n",
              "  ('dandy a', 9.936158468936249),\n",
              "  (\"dandy 's\", 9.574881884506894),\n",
              "  ('dandy perfectly', 8.897567584297917),\n",
              "  ('little dandy', 7.926216257641607),\n",
              "  ('dandy fit', 5.057333844859833),\n",
              "  ('dandy pick', 4.543967085898534),\n",
              "  ('dandy work', 4.1157026157284475),\n",
              "  ('work dandy', 4.1157026157284475),\n",
              "  ('dandy guitar', 0.9616148632295456),\n",
              "  ('guitar dandy', 0.9616148632295456),\n",
              "  ('sound dandy', 0.7741031364858939)],\n",
              " 'importantly': [('perhaps importantly', 123.75518292259355),\n",
              "  ('importantly sound', 91.51426419587293),\n",
              "  ('importantly riffworks', 34.08662226912306),\n",
              "  ('importantly composite', 33.29566084706073),\n",
              "  ('importantly wound', 31.143140129425767),\n",
              "  ('tact importantly', 29.201429739204666),\n",
              "  ('lastly importantly', 28.20332446545447),\n",
              "  ('importantly firmness', 25.865657990412586),\n",
              "  ('nearly importantly', 24.055708552685875),\n",
              "  ('weakness importantly', 19.993403903970446),\n",
              "  ('importantly stay', 19.965274803254648),\n",
              "  ('audition importantly', 18.484189399898614),\n",
              "  ('ac30 importantly', 17.132417807621508),\n",
              "  ('fuzzy importantly', 16.555389998873423),\n",
              "  ('importantly budget', 15.09788185816748),\n",
              "  ('finish importantly', 15.07418723273511),\n",
              "  ('slick importantly', 14.173279062854764),\n",
              "  ('color importantly', 13.257909690381275),\n",
              "  ('importantly beautiful', 12.409141863206369),\n",
              "  ('design importantly', 12.339556897023908),\n",
              "  ('ear importantly', 12.269531385114153),\n",
              "  ('importantly fit', 12.008604101708585),\n",
              "  ('regret importantly', 11.403019972246856),\n",
              "  ('importantly bunch', 10.486916277973382),\n",
              "  ('importantly comfortable', 10.45658058396651),\n",
              "  ('importantly --', 10.440697991992284),\n",
              "  ('durability importantly', 10.375800003315426),\n",
              "  ('importantly hate', 10.29455619140455),\n",
              "  ('importantly though', 10.141436222058607),\n",
              "  ('toy importantly', 9.749886812868375),\n",
              "  ('importantly intonation', 9.218876420567508),\n",
              "  ('far importantly', 9.184284083500625),\n",
              "  ('stable importantly', 9.061525590474425),\n",
              "  ('importantly rich', 9.059119403354483),\n",
              "  ('importantly feel', 9.0181474508344),\n",
              "  ('feature importantly', 8.633477972563075),\n",
              "  ('importantly wonderful', 8.594274297127939),\n",
              "  ('response importantly', 8.434640998906497),\n",
              "  ('importantly kid', 8.332640395644297),\n",
              "  ('importantly red', 7.999410294933781),\n",
              "  ('importantly anyway', 7.810278554997734),\n",
              "  ('importantly tune', 7.679376118555893),\n",
              "  ('board importantly', 7.6200445641518755),\n",
              "  ('fix importantly', 7.164850284159563),\n",
              "  ('shape importantly', 7.149253885000972),\n",
              "  ('importantly offer', 7.126691841352922),\n",
              "  ('importantly yes', 7.095905350934949),\n",
              "  ('importantly accurate', 6.8485690629272895),\n",
              "  ('importantly suppose', 6.714973326018433),\n",
              "  ('importantly clean', 6.589586589727814),\n",
              "  ('-- importantly', 6.319729568027417),\n",
              "  ('importantly provide', 5.507472978283907),\n",
              "  ('importantly delay', 5.4763582929999695),\n",
              "  ('importantly pack', 5.440434483551606),\n",
              "  ('look importantly', 5.440195490985669),\n",
              "  ('importantly rock', 5.398186269884617),\n",
              "  ('show importantly', 5.066898492204299),\n",
              "  ('second importantly', 4.929381390958005),\n",
              "  ('quality importantly', 4.836907234254998),\n",
              "  ('importantly loud', 4.78941730076391),\n",
              "  ('importantly anything', 4.485888122967351),\n",
              "  ('see importantly', 4.427129976996385),\n",
              "  ('finger importantly', 4.327122385352039),\n",
              "  ('first importantly', 4.187221726963388),\n",
              "  ('importantly easy', 4.171773476832582),\n",
              "  ('also importantly', 4.027071892483285),\n",
              "  ('amazon importantly', 3.981416654826914),\n",
              "  ('importantly hear', 3.8565914450370227),\n",
              "  ('perfectly importantly', 3.7714941993150797),\n",
              "  ('importantly metal', 3.723676486774568),\n",
              "  ('sturdy importantly', 3.630939035165226),\n",
              "  ('importantly head', 3.62631481024967),\n",
              "  ('importantly much', 3.582771323940558),\n",
              "  ('turn importantly', 3.423061684695187),\n",
              "  ('strap importantly', 3.376865347516066),\n",
              "  ('.. importantly', 3.328447979195894),\n",
              "  ('importantly ..', 3.328447979195894),\n",
              "  ('use importantly', 3.3260766758654476),\n",
              "  ('control importantly', 3.108522570201957),\n",
              "  ('nice importantly', 2.907031330427862),\n",
              "  ('importantly neck', 2.8661631911865184),\n",
              "  ('importantly never', 2.8172279819941237),\n",
              "  ('even importantly', 2.7909448936884633),\n",
              "  ('fine importantly', 2.243672970977312),\n",
              "  ('importantly review', 2.2247513917774833),\n",
              "  ('importantly pick', 2.1990714363746404),\n",
              "  ('importantly last', 2.1612284657313516),\n",
              "  ('importantly one', 2.144535106169669),\n",
              "  ('importantly want', 2.0428001547796555),\n",
              "  ('importantly use', 1.8955203079989014),\n",
              "  ('importantly cheap', 1.684621216520663),\n",
              "  ('time importantly', 1.5669403383331475),\n",
              "  ('... importantly', 1.519134886640643),\n",
              "  ('importantly way', 1.193315267845552),\n",
              "  ('importantly great', 1.1790288512076716),\n",
              "  ('importantly strap', 1.178316658500361),\n",
              "  ('importantly case', 1.0750216695015875),\n",
              "  ('thing importantly', 0.8003043599964808),\n",
              "  ('sound importantly', 0.7989336892553074),\n",
              "  ('tone importantly', 0.6230432705620363),\n",
              "  ('stand importantly', 0.5935961378716565),\n",
              "  ('importantly like', 0.42018247064582415),\n",
              "  ('importantly work', 0.3836307996579782),\n",
              "  ('importantly play', 0.3835277312747911),\n",
              "  ('play importantly', 0.3835277312747911),\n",
              "  ('importantly string', 0.3668897742254589),\n",
              "  (\"importantly 've\", 0.3589209443029897),\n",
              "  ('product importantly', 0.3509605770241726),\n",
              "  ('good importantly', 0.30221402468323877),\n",
              "  ('importantly ...', 0.2813455134688396),\n",
              "  ('great importantly', 0.2658291641092152),\n",
              "  ('importantly good', 0.21699408329935177),\n",
              "  ('well importantly', 0.08123733687212775),\n",
              "  ('make importantly', 0.023152065631391272),\n",
              "  ('importantly guitar', 0.019089729277311007),\n",
              "  ('importantly get', 0.0014317046084107998),\n",
              "  ('string importantly', 0.00015252746875325796)],\n",
              " 'pineapple': [('soprano pineapple', 166.24647511035482),\n",
              "  ('pineapple styled', 82.2792673727514),\n",
              "  ('pineapple shape', 66.7503523136771),\n",
              "  ('pineapple soprano', 66.64914789611146),\n",
              "  ('kala pineapple', 61.707957615457836),\n",
              "  ('makala pineapple', 53.461328613830034),\n",
              "  ('pineapple tattoo', 49.87054177391377),\n",
              "  ('pineapple ukulele', 49.671014820060016),\n",
              "  ('pineapple uke', 40.739375205642865),\n",
              "  ('luna pineapple', 39.363250297003155),\n",
              "  ('tattoo pineapple', 31.52779481059119),\n",
              "  ('goofy pineapple', 28.396891166419095),\n",
              "  ('lanikai pineapple', 24.733406928658383),\n",
              "  ('pineapple version', 21.54651874558744),\n",
              "  ('pineapple texture', 20.46844314128748),\n",
              "  ('pineapple print', 19.818725041021217),\n",
              "  ('pineapple 1', 18.41702999204049),\n",
              "  ('want pineapple', 16.44113270892803),\n",
              "  ('tenor pineapple', 16.355024137395496),\n",
              "  ('pineapple back', 7.136867719031994),\n",
              "  ('case pineapple', 6.627366597310558),\n",
              "  ('well pineapple', 4.778781455287338),\n",
              "  ('pineapple sound', 4.081327061154301),\n",
              "  ('buy pineapple', 3.626268648169548),\n",
              "  ('pineapple well', 1.9471184801420724)]}"
            ]
          },
          "metadata": {},
          "execution_count": 22
        }
      ]
    },
    {
      "cell_type": "code",
      "source": [
        "trigrams_likelihood_ratio = colls_for_bigrams(scored3_likelihood_ratio, final_ner_bigrams[:5])\n",
        "\n",
        "trigrams_likelihood_ratio"
      ],
      "metadata": {
        "id": "KSVPP9kJgZ7N",
        "colab": {
          "base_uri": "https://localhost:8080/"
        },
        "outputId": "299daafa-3dc5-48c2-9937-c261d8a913ba"
      },
      "execution_count": null,
      "outputs": [
        {
          "output_type": "stream",
          "name": "stderr",
          "text": [
            "100%|██████████| 5/5 [00:04<00:00,  1.16it/s]\n"
          ]
        },
        {
          "output_type": "execute_result",
          "data": {
            "text/plain": [
              "defaultdict(dict,\n",
              "            {'town pure': [],\n",
              "             'odd assortment': [],\n",
              "             'ease thousand': [],\n",
              "             'seated adult': [('height seated adult', 63.162594277103494),\n",
              "              ('seated adult use', 42.710783163812934)],\n",
              "             'axis remarkable': []})"
            ]
          },
          "metadata": {},
          "execution_count": 19
        }
      ]
    },
    {
      "cell_type": "code",
      "source": [
        "quadgrams_likelihood_ratio = colls_for_trigrams(scored4_likelihood_ratio, final_ner_trigrams[:5])\n",
        "\n",
        "quadgrams_likelihood_ratio"
      ],
      "metadata": {
        "colab": {
          "base_uri": "https://localhost:8080/"
        },
        "id": "KdDMRwUKP5xC",
        "outputId": "2e66a00d-06c7-49f5-b29b-8e43a90a3104"
      },
      "execution_count": null,
      "outputs": [
        {
          "output_type": "stream",
          "name": "stderr",
          "text": [
            "100%|██████████| 5/5 [00:36<00:00,  7.23s/it]\n"
          ]
        },
        {
          "output_type": "execute_result",
          "data": {
            "text/plain": [
              "defaultdict(dict,\n",
              "            {'favorite capo tension': [('favorite capo tension adjustment',\n",
              "               353.43786653372365)],\n",
              "             'harmonica thast able': [('harmonica thast able fit',\n",
              "               179.7447730096226),\n",
              "              ('shape harmonica thast able', 54.443633897871216)],\n",
              "             'attempt stre guitar': [('first attempt stre guitar',\n",
              "               423.7871538222854),\n",
              "              ('attempt stre guitar seem', 163.5662340549925)],\n",
              "             'add assemble yamaha': [('add assemble yamaha keyboard',\n",
              "               938.7082555770414),\n",
              "              ('easy add assemble yamaha', 64.19002334196469)],\n",
              "             'moisture yuk sax': [('keep moisture yuk sax',\n",
              "               143.61413154187193),\n",
              "              ('moisture yuk sax sorry', 68.63110066606251)]})"
            ]
          },
          "metadata": {},
          "execution_count": 24
        }
      ]
    },
    {
      "cell_type": "markdown",
      "source": [
        "Попробуем взять raw frequency модель"
      ],
      "metadata": {
        "id": "P6j5c8AF6eua"
      }
    },
    {
      "cell_type": "code",
      "source": [
        "bigrams_raw_freq = colls_for_bigrams(scored2_raw_freq, final_ner_unigrams[:5])\n",
        "for key, value in bigrams_raw_freq.items():\n",
        "    print('\\n')\n",
        "    print(key)\n",
        "    print('-----')\n",
        "    for v in value[:5]:\n",
        "        print(v[0])"
      ],
      "metadata": {
        "colab": {
          "base_uri": "https://localhost:8080/"
        },
        "id": "lpKTzE1U6j6l",
        "outputId": "565a9b81-9815-47a1-a366-f535dfcab22b"
      },
      "execution_count": 18,
      "outputs": [
        {
          "output_type": "stream",
          "name": "stderr",
          "text": [
            "100%|██████████| 5/5 [00:02<00:00,  1.83it/s]"
          ]
        },
        {
          "output_type": "stream",
          "name": "stdout",
          "text": [
            "\n",
            "\n",
            "tidy\n",
            "-----\n",
            "neat tidy\n",
            "thing tidy\n",
            "nice tidy\n",
            "really tidy\n",
            "keep tidy\n",
            "\n",
            "\n",
            "integrate\n",
            "-----\n",
            "integrate well\n",
            "integrate computer\n",
            "easy integrate\n",
            "integrate guitar\n",
            "integrate tuner\n",
            "\n",
            "\n",
            "dandy\n",
            "-----\n",
            "jim dandy\n",
            "fine dandy\n",
            "handy dandy\n",
            "dandy little\n",
            "dandy 's\n",
            "\n",
            "\n",
            "importantly\n",
            "-----\n",
            "importantly sound\n",
            "perhaps importantly\n",
            "use importantly\n",
            "importantly fit\n",
            "importantly one\n",
            "\n",
            "\n",
            "pineapple\n",
            "-----\n",
            "soprano pineapple\n",
            "pineapple shape\n",
            "pineapple soprano\n",
            "pineapple ukulele\n",
            "kala pineapple\n"
          ]
        },
        {
          "output_type": "stream",
          "name": "stderr",
          "text": [
            "\n"
          ]
        }
      ]
    },
    {
      "cell_type": "markdown",
      "source": [
        "## Объединение"
      ],
      "metadata": {
        "id": "DaiG9TJVXknD"
      }
    },
    {
      "cell_type": "markdown",
      "source": [
        "Мне кажется, хороший способ объединить несколько NE под одним лейблом -- это снова провекторизовать их, кластеризовать и выбрать центроиды кластеров; после того как центроиды кластеров будут выбраны, мы собираем все коллокации, принадлежащие NE, которые вошли в кластер, под одним названием."
      ],
      "metadata": {
        "id": "r596hLCDXplj"
      }
    },
    {
      "cell_type": "markdown",
      "source": [
        "Другой базовый способ -- это поиск с помощью косинусного сходства. Мы векторизуем NE (и возможно коллокации) и считаем сходство между ними. Для каждого выбираем ближайших соседей; если есть пересечение, то объединяем их под одним лейблом."
      ],
      "metadata": {
        "id": "hKWzRhi9Ys-u"
      }
    }
  ]
}